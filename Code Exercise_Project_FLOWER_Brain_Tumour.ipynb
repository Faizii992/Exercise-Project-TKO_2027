{
  "cells": [
    {
      "cell_type": "markdown",
      "metadata": {
        "id": "MJXeRHuDxrhb"
      },
      "source": [
        "\n",
        "\n",
        "In this notebook, we'll build a federated learning system for brain tumour classification using Flower and PyTorch. We use PyTorch for the model training pipeline and data loading and we continue to federate the PyTorch-based pipeline using Flower.\n"
      ]
    },
    {
      "cell_type": "markdown",
      "metadata": {
        "id": "X5nOsQtdxrhe"
      },
      "source": [
        "## Step 0: Preparation\n",
        "\n",
        "Before we begin with any actual code, let's make sure that we have everything we need."
      ]
    },
    {
      "cell_type": "markdown",
      "metadata": {
        "id": "3-gNe3Ldxrhg"
      },
      "source": [
        "### Installing dependencies\n",
        "\n",
        "Next, we install the necessary packages for PyTorch (`torch` and `torchvision`), Flower Datasets (`flwr-datasets`) and Flower (`flwr`):"
      ]
    },
    {
      "cell_type": "code",
      "execution_count": 2,
      "metadata": {
        "id": "N_OidxDGxrhi",
        "colab": {
          "base_uri": "https://localhost:8080/"
        },
        "outputId": "4c322a06-cca1-4b9e-8e67-6213148a45c1"
      },
      "outputs": [
        {
          "output_type": "stream",
          "name": "stdout",
          "text": [
            "\u001b[2K     \u001b[90m━━━━━━━━━━━━━━━━━━━━━━━━━━━━━━━━━━━━━━━━\u001b[0m \u001b[32m364.7/364.7 kB\u001b[0m \u001b[31m2.7 MB/s\u001b[0m eta \u001b[36m0:00:00\u001b[0m\n",
            "\u001b[2K     \u001b[90m━━━━━━━━━━━━━━━━━━━━━━━━━━━━━━━━━━━━━━━━\u001b[0m \u001b[32m294.6/294.6 kB\u001b[0m \u001b[31m16.2 MB/s\u001b[0m eta \u001b[36m0:00:00\u001b[0m\n",
            "\u001b[2K     \u001b[90m━━━━━━━━━━━━━━━━━━━━━━━━━━━━━━━━━━━━━━━━\u001b[0m \u001b[32m2.1/2.1 MB\u001b[0m \u001b[31m12.8 MB/s\u001b[0m eta \u001b[36m0:00:00\u001b[0m\n",
            "\u001b[2K     \u001b[90m━━━━━━━━━━━━━━━━━━━━━━━━━━━━━━━━━━━━━━━━\u001b[0m \u001b[32m46.0/46.0 kB\u001b[0m \u001b[31m2.4 MB/s\u001b[0m eta \u001b[36m0:00:00\u001b[0m\n",
            "\u001b[2K     \u001b[90m━━━━━━━━━━━━━━━━━━━━━━━━━━━━━━━━━━━━━━━━\u001b[0m \u001b[32m65.1/65.1 MB\u001b[0m \u001b[31m4.9 MB/s\u001b[0m eta \u001b[36m0:00:00\u001b[0m\n",
            "\u001b[2K     \u001b[90m━━━━━━━━━━━━━━━━━━━━━━━━━━━━━━━━━━━━━━━━\u001b[0m \u001b[32m547.8/547.8 kB\u001b[0m \u001b[31m10.4 MB/s\u001b[0m eta \u001b[36m0:00:00\u001b[0m\n",
            "\u001b[2K     \u001b[90m━━━━━━━━━━━━━━━━━━━━━━━━━━━━━━━━━━━━━━━━\u001b[0m \u001b[32m21.3/21.3 MB\u001b[0m \u001b[31m12.0 MB/s\u001b[0m eta \u001b[36m0:00:00\u001b[0m\n",
            "\u001b[2K     \u001b[90m━━━━━━━━━━━━━━━━━━━━━━━━━━━━━━━━━━━━━━━━\u001b[0m \u001b[32m40.8/40.8 MB\u001b[0m \u001b[31m7.0 MB/s\u001b[0m eta \u001b[36m0:00:00\u001b[0m\n",
            "\u001b[2K     \u001b[90m━━━━━━━━━━━━━━━━━━━━━━━━━━━━━━━━━━━━━━━━\u001b[0m \u001b[32m116.3/116.3 kB\u001b[0m \u001b[31m10.4 MB/s\u001b[0m eta \u001b[36m0:00:00\u001b[0m\n",
            "\u001b[2K     \u001b[90m━━━━━━━━━━━━━━━━━━━━━━━━━━━━━━━━━━━━━━━━\u001b[0m \u001b[32m64.9/64.9 kB\u001b[0m \u001b[31m6.3 MB/s\u001b[0m eta \u001b[36m0:00:00\u001b[0m\n",
            "\u001b[2K     \u001b[90m━━━━━━━━━━━━━━━━━━━━━━━━━━━━━━━━━━━━━━━━\u001b[0m \u001b[32m194.1/194.1 kB\u001b[0m \u001b[31m12.9 MB/s\u001b[0m eta \u001b[36m0:00:00\u001b[0m\n",
            "\u001b[2K     \u001b[90m━━━━━━━━━━━━━━━━━━━━━━━━━━━━━━━━━━━━━━━━\u001b[0m \u001b[32m134.8/134.8 kB\u001b[0m \u001b[31m12.9 MB/s\u001b[0m eta \u001b[36m0:00:00\u001b[0m\n",
            "\u001b[?25h\u001b[31mERROR: pip's dependency resolver does not currently take into account all the packages that are installed. This behaviour is the source of the following dependency conflicts.\n",
            "cudf-cu12 24.4.1 requires pyarrow<15.0.0a0,>=14.0.1, but you have pyarrow 16.1.0 which is incompatible.\n",
            "google-colab 1.0.0 requires requests==2.31.0, but you have requests 2.32.3 which is incompatible.\n",
            "ibis-framework 8.0.0 requires pyarrow<16,>=2, but you have pyarrow 16.1.0 which is incompatible.\n",
            "tensorflow-metadata 1.15.0 requires protobuf<4.21,>=3.20.3; python_version < \"3.11\", but you have protobuf 4.25.3 which is incompatible.\u001b[0m\u001b[31m\n",
            "\u001b[0m"
          ]
        }
      ],
      "source": [
        "!pip install -q flwr[simulation] flwr_datasets[vision] torch torchvision matplotlib"
      ]
    },
    {
      "cell_type": "code",
      "execution_count": 3,
      "metadata": {
        "colab": {
          "base_uri": "https://localhost:8080/"
        },
        "id": "m7xMhjf4xrhk",
        "outputId": "e83401c4-e30f-4734-a87b-f6b8f0d3d3e5"
      },
      "outputs": [
        {
          "output_type": "stream",
          "name": "stdout",
          "text": [
            "Training on cuda using PyTorch 2.3.0+cu121 and Flower 1.9.0\n"
          ]
        }
      ],
      "source": [
        "from collections import OrderedDict\n",
        "from typing import List, Tuple\n",
        "\n",
        "import matplotlib.pyplot as plt\n",
        "import numpy as np\n",
        "import torch\n",
        "import torch.nn as nn\n",
        "import torch.nn.functional as F\n",
        "import torchvision.transforms as transforms\n",
        "#from datasets.utils.logging import disable_progress_bar\n",
        "from torch.utils.data import DataLoader\n",
        "\n",
        "import flwr as fl\n",
        "from flwr.common import Metrics\n",
        "#from flwr_datasets import FederatedDataset\n",
        "\n",
        "DEVICE = torch.device(\"cuda\")  # Try \"cuda\" to train on GPU\n",
        "print(\n",
        "    f\"Training on {DEVICE} using PyTorch {torch.__version__} and Flower {fl.__version__}\"\n",
        ")\n",
        "#disable_progress_bar()"
      ]
    },
    {
      "cell_type": "code",
      "execution_count": null,
      "metadata": {
        "id": "JlLKEGY3cP93"
      },
      "outputs": [],
      "source": [
        "DEVICE = torch.device(\"cuda\")"
      ]
    },
    {
      "cell_type": "code",
      "execution_count": null,
      "metadata": {
        "id": "TimjLyvucP93",
        "outputId": "83aac68a-7098-4211-a5f1-e7cdb2f88884"
      },
      "outputs": [
        {
          "name": "stdout",
          "output_type": "stream",
          "text": [
            "\u001b[31mERROR: Could not find a version that satisfies the requirement datasets.utils (from versions: none)\u001b[0m\u001b[31m\n",
            "\u001b[0m\u001b[31mERROR: No matching distribution found for datasets.utils\u001b[0m\u001b[31m\n",
            "\u001b[0mNote: you may need to restart the kernel to use updated packages.\n"
          ]
        }
      ],
      "source": [
        "pip install datasets.utils"
      ]
    },
    {
      "cell_type": "markdown",
      "metadata": {
        "id": "ZVpO3uWnxrhn"
      },
      "source": [
        "We simulate having multiple datasets from multiple organizations (also called the \"cross-silo\" setting in federated learning) by splitting the original brain tumour dataset into multiple partitions. Each partition will represent the data from a single organization. We're doing this purely for experimentation purposes, in the real world there's no need for data splitting because each organization already has their own data (so the data is naturally partitioned).\n",
        "\n",
        "Each organization will act as a client in the federated learning system. So having ten organizations participate in a federation means having ten clients connected to the federated learning server.\n"
      ]
    },
    {
      "cell_type": "markdown",
      "metadata": {
        "id": "XlzzZX_Nxrhp"
      },
      "source": [
        " We will create small training and test set for each edge device and wrap each of them into a PyTorch `DataLoader`:"
      ]
    },
    {
      "cell_type": "code",
      "execution_count": 13,
      "metadata": {
        "id": "uEWCfWL4C0Yf",
        "colab": {
          "base_uri": "https://localhost:8080/"
        },
        "outputId": "f97e17e2-747c-4533-9aac-e50aa3e2092e"
      },
      "outputs": [
        {
          "output_type": "stream",
          "name": "stdout",
          "text": [
            "Number of images in each folder in Training dataset:\n",
            "no_tumor: 395 images\n",
            "glioma_tumor: 826 images\n",
            "meningioma_tumor: 842 images\n",
            "pituitary_tumor: 827 images\n",
            "\n",
            "Number of images in each folder in Testing dataset:\n",
            "meningioma_tumor: 115 images\n",
            "pituitary_tumor: 74 images\n",
            "no_tumor: 105 images\n",
            "glioma_tumor: 100 images\n"
          ]
        }
      ],
      "source": [
        "\n",
        "\n",
        "import os\n",
        "\n",
        "dataset_train_path = \"/content/drive/MyDrive/datasets/brain-tumour-dataset/Training\"\n",
        "dataset_test_path = \"/content/drive/MyDrive/datasets/brain-tumour-dataset/Testing\"\n",
        "\n",
        "def count_images_in_folders(path):\n",
        "    # Initialize a dictionary to store folder names and their corresponding image counts\n",
        "    folder_image_counts = {}\n",
        "\n",
        "    # Iterate through each folder in the specified path\n",
        "    for folder_name in os.listdir(path):\n",
        "        folder_path = os.path.join(path, folder_name)\n",
        "\n",
        "        # Check if the path is a directory\n",
        "        if os.path.isdir(folder_path):\n",
        "            # Count the number of files (assuming they are all images)\n",
        "            num_images = len([name for name in os.listdir(folder_path) if os.path.isfile(os.path.join(folder_path, name))])\n",
        "\n",
        "            # Store the folder name and its image count in the dictionary\n",
        "            folder_image_counts[folder_name] = num_images\n",
        "\n",
        "    return folder_image_counts\n",
        "\n",
        "# Count images in training dataset folders\n",
        "train_counts = count_images_in_folders(dataset_train_path)\n",
        "print(\"Number of images in each folder in Training dataset:\")\n",
        "for folder, count in train_counts.items():\n",
        "    print(f\"{folder}: {count} images\")\n",
        "\n",
        "print()\n",
        "\n",
        "# Count images in testing dataset folders\n",
        "test_counts = count_images_in_folders(dataset_test_path)\n",
        "print(\"Number of images in each folder in Testing dataset:\")\n",
        "for folder, count in test_counts.items():\n",
        "    print(f\"{folder}: {count} images\")\n"
      ]
    },
    {
      "cell_type": "markdown",
      "metadata": {
        "id": "hdPyNy6rxrht"
      },
      "source": []
    },
    {
      "cell_type": "markdown",
      "source": [],
      "metadata": {
        "id": "IoN_15ZBTk8W"
      }
    },
    {
      "cell_type": "markdown",
      "metadata": {
        "id": "qPCWQUCWxrhv"
      },
      "source": [
        "## Step 1: Centralized Training with PyTorch\n",
        "\n"
      ]
    },
    {
      "cell_type": "markdown",
      "metadata": {
        "id": "K4aTZehvxrhw"
      },
      "source": [
        "Next, we're going to use PyTorch to define a simple convolutional neural network."
      ]
    },
    {
      "cell_type": "markdown",
      "metadata": {
        "id": "ygrAGjEwxrhx"
      },
      "source": [
        "### Defining the model\n",
        "\n",
        "We use the simple CNN described using Pytorch"
      ]
    },
    {
      "cell_type": "code",
      "source": [
        "pip install torchsummary\n"
      ],
      "metadata": {
        "colab": {
          "base_uri": "https://localhost:8080/"
        },
        "id": "um1pfneNsu4Z",
        "outputId": "f8212278-321e-4090-b815-6e38abbcf2a3"
      },
      "execution_count": 5,
      "outputs": [
        {
          "output_type": "stream",
          "name": "stdout",
          "text": [
            "Requirement already satisfied: torchsummary in /usr/local/lib/python3.10/dist-packages (1.5.1)\n"
          ]
        }
      ]
    },
    {
      "cell_type": "code",
      "source": [
        "from torchsummary import summary"
      ],
      "metadata": {
        "id": "mwBLvs-Csygg"
      },
      "execution_count": 6,
      "outputs": []
    },
    {
      "cell_type": "code",
      "execution_count": 4,
      "metadata": {
        "id": "0rtawDhnxrhz",
        "colab": {
          "base_uri": "https://localhost:8080/"
        },
        "outputId": "98579705-38c6-40ff-87f2-ddc4aed24f9f"
      },
      "outputs": [
        {
          "output_type": "stream",
          "name": "stderr",
          "text": [
            "/usr/local/lib/python3.10/dist-packages/ipykernel/ipkernel.py:283: DeprecationWarning: `should_run_async` will not call `transform_cell` automatically in the future. Please pass the result to `transformed_cell` argument and any exception that happen during thetransform in `preprocessing_exc_tuple` in IPython 7.17 and above.\n",
            "  and should_run_async(code)\n"
          ]
        }
      ],
      "source": [
        "class Net(nn.Module):\n",
        "    def __init__(self):\n",
        "        super(Net, self).__init__()\n",
        "        # Define convolutional layers\n",
        "        self.conv1 = nn.Conv2d(3, 16, 3, padding=1)  # Input channels: 3 (RGB), Output channels: 16, Kernel size: 3x3, Padding: 1\n",
        "        self.conv2 = nn.Conv2d(16, 32, 3, padding=1) # Input channels: 16, Output channels: 32, Kernel size: 3x3, Padding: 1\n",
        "        self.conv3 = nn.Conv2d(32, 64, 3, padding=1) # Input channels: 32, Output channels: 64, Kernel size: 3x3, Padding: 1\n",
        "        # Define pooling layer\n",
        "        self.pool = nn.MaxPool2d(2, 2) # Max pooling with kernel size 2x2 and stride 2\n",
        "        # Define fully connected layers\n",
        "        self.fc1 = nn.Linear(64 * 28 * 28, 512)  # Input size: 64*28*28, Output size: 512\n",
        "        self.fc2 = nn.Linear(512, 128)           # Input size: 512, Output size: 128\n",
        "        self.fc3 = nn.Linear(128, 4)             # Input size: 128, Output size: 4 (assuming 4 classes)\n",
        "\n",
        "    def forward(self, x):\n",
        "        # Apply the first convolutional layer followed by ReLU activation and pooling\n",
        "        x = self.pool(F.relu(self.conv1(x)))\n",
        "        # Apply the second convolutional layer followed by ReLU activation and pooling\n",
        "        x = self.pool(F.relu(self.conv2(x)))\n",
        "        # Apply the third convolutional layer followed by ReLU activation and pooling\n",
        "        x = self.pool(F.relu(self.conv3(x)))\n",
        "        # Flatten the tensor for the fully connected layers\n",
        "        x = x.view(-1, 64 * 28 * 28)\n",
        "        # Apply the first fully connected layer followed by ReLU activation\n",
        "        x = F.relu(self.fc1(x))\n",
        "        # Apply the second fully connected layer followed by ReLU activation\n",
        "        x = F.relu(self.fc2(x))\n",
        "        # Apply the final fully connected layer\n",
        "        x = self.fc3(x)\n",
        "        return x\n",
        "\n"
      ]
    },
    {
      "cell_type": "code",
      "source": [
        "model = Net()\n",
        "\n",
        "summary(model, input_size=(3, 224, 224))\n"
      ],
      "metadata": {
        "colab": {
          "base_uri": "https://localhost:8080/"
        },
        "id": "dg5Yi5-_tvY4",
        "outputId": "ed2177d3-5b83-49b7-b843-9c9b36f8290f"
      },
      "execution_count": 8,
      "outputs": [
        {
          "output_type": "stream",
          "name": "stdout",
          "text": [
            "----------------------------------------------------------------\n",
            "        Layer (type)               Output Shape         Param #\n",
            "================================================================\n",
            "            Conv2d-1         [-1, 16, 224, 224]             448\n",
            "         MaxPool2d-2         [-1, 16, 112, 112]               0\n",
            "            Conv2d-3         [-1, 32, 112, 112]           4,640\n",
            "         MaxPool2d-4           [-1, 32, 56, 56]               0\n",
            "            Conv2d-5           [-1, 64, 56, 56]          18,496\n",
            "         MaxPool2d-6           [-1, 64, 28, 28]               0\n",
            "            Linear-7                  [-1, 512]      25,690,624\n",
            "            Linear-8                  [-1, 128]          65,664\n",
            "            Linear-9                    [-1, 4]             516\n",
            "================================================================\n",
            "Total params: 25,780,388\n",
            "Trainable params: 25,780,388\n",
            "Non-trainable params: 0\n",
            "----------------------------------------------------------------\n",
            "Input size (MB): 0.57\n",
            "Forward/backward pass size (MB): 13.40\n",
            "Params size (MB): 98.34\n",
            "Estimated Total Size (MB): 112.32\n",
            "----------------------------------------------------------------\n"
          ]
        }
      ]
    },
    {
      "cell_type": "markdown",
      "metadata": {
        "id": "IB-95F4Jxrh0"
      },
      "source": [
        "Let's continue with the usual training and test functions:"
      ]
    },
    {
      "cell_type": "code",
      "execution_count": null,
      "metadata": {
        "id": "byZdo-woxrh0"
      },
      "outputs": [],
      "source": [
        "def train(net, trainloader, epochs:int, verbose=True):\n",
        "    criterion = nn.CrossEntropyLoss()\n",
        "    optimizer = torch.optim.SGD(net.parameters(), lr=0.001, momentum=0.9)\n",
        "    net.train()\n",
        "\n",
        "    for epoch in range(epochs):\n",
        "        correct, total, epoch_loss = 0, 0, 0.0\n",
        "        for images, labels in trainloader:\n",
        "            images, labels = images.to(DEVICE), labels.to(DEVICE)\n",
        "\n",
        "            optimizer.zero_grad()\n",
        "            outputs = net(images)\n",
        "            loss = criterion(outputs, labels)  # Ensure targets are in the correct shape\n",
        "            loss.backward()\n",
        "            optimizer.step()\n",
        "\n",
        "            _, predicted = torch.max(outputs, 1)\n",
        "            total += labels.size(0)\n",
        "            correct += (predicted == labels).sum().item()\n",
        "            epoch_loss += loss.item()\n",
        "\n",
        "        accuracy = correct / total\n",
        "        epoch_loss /= len(trainloader)\n",
        "\n",
        "        if verbose:\n",
        "            print(f\"Epoch {epoch + 1}/{epochs}, Loss: {epoch_loss:.4f}, Accuracy: {accuracy:.4f}\")\n",
        "\n",
        "def test(net, testloader):\n",
        "    \"\"\"Evaluate the network on the entire test set.\"\"\"\n",
        "    criterion = torch.nn.CrossEntropyLoss()\n",
        "    correct, total, loss = 0, 0, 0.0\n",
        "    net.eval()\n",
        "    with torch.no_grad():\n",
        "        for images, labels in testloader:\n",
        "            images, labels = images.to(DEVICE), labels.to(DEVICE)\n",
        "            outputs = net(images)\n",
        "            loss += criterion(outputs, labels).item()\n",
        "            _, predicted = torch.max(outputs.data, 1)\n",
        "            total += labels.size(0)\n",
        "            correct += (predicted == labels).sum().item()\n",
        "    loss /= len(testloader.dataset)\n",
        "    accuracy = correct / total\n",
        "    print(\"Test acc \", accuracy)\n",
        "    return loss, accuracy\n",
        "\n",
        "\n"
      ]
    },
    {
      "cell_type": "code",
      "execution_count": null,
      "metadata": {
        "id": "jGkRD1Ss-hBW"
      },
      "outputs": [],
      "source": []
    },
    {
      "cell_type": "markdown",
      "metadata": {
        "id": "URiINUKBxrh1"
      },
      "source": [
        "### Training the model\n",
        "\n",
        "We now have all the basic building blocks we need: a dataset, a model, a training function, and a test function. Let's put them together to train the model on the dataset of one of our organizations (`trainloaders[0]`). This simulates the reality of most machine learning projects today: each organization has their own data and trains models only on this internal data:"
      ]
    },
    {
      "cell_type": "code",
      "execution_count": null,
      "metadata": {
        "id": "4DZB8KDPcP9-",
        "outputId": "83c6590c-8d9e-4de8-c925-a4f2d0330d06"
      },
      "outputs": [
        {
          "name": "stdout",
          "output_type": "stream",
          "text": [
            "Number of training samples: 2880\n",
            "480\n"
          ]
        }
      ],
      "source": [
        "import os\n",
        "from torchvision.datasets import ImageFolder\n",
        "from torch.utils.data import DataLoader, Subset\n",
        "import torchvision.transforms as transforms\n",
        "\n",
        "NUM_CLIENTS = 6\n",
        "BATCH_SIZE = 48\n",
        "\n",
        "# Define transformations\n",
        "transform = transforms.Compose([\n",
        "    transforms.Resize((224, 224)),\n",
        "    transforms.ToTensor(),\n",
        "    transforms.Normalize((0.5,), (0.5,))\n",
        "])\n",
        "\n",
        "# Load the full training dataset\n",
        "train_dataset = ImageFolder(root=dataset_train_path, transform=transform)\n",
        "\n",
        "# Calculate the size of each client's subset\n",
        "subset_size = len(train_dataset) // NUM_CLIENTS\n",
        "print(\"Number of training samples:\", len(train_dataset))\n",
        "print(subset_size)"
      ]
    },
    {
      "cell_type": "code",
      "execution_count": null,
      "metadata": {
        "colab": {
          "base_uri": "https://localhost:8080/",
          "height": 290
        },
        "id": "KXz01EpE4i9_",
        "outputId": "39852b47-b087-45b7-a9f0-5e871d4779b1"
      },
      "outputs": [
        {
          "data": {
            "image/png": "[encoded data removed]",
            "text/plain": [
              "<Figure size 1000x500 with 4 Axes>"
            ]
          },
          "metadata": {},
          "output_type": "display_data"
        }
      ],
      "source": [
        "import matplotlib.pyplot as plt\n",
        "import numpy as np\n",
        "\n",
        "# Define the paths to the training dataset\n",
        "dataset_train_path = \"/content/drive/MyDrive/datasets/brain-tumour-dataset/Training\"\n",
        "\n",
        "# Define transformations for the dataset\n",
        "transform = transforms.Compose([\n",
        "    transforms.Resize((224, 224)),\n",
        "    transforms.ToTensor(),\n",
        "])\n",
        "\n",
        "# Load the training dataset\n",
        "train_dataset = datasets.ImageFolder(root=dataset_train_path, transform=transform)\n",
        "\n",
        "# Get the class names\n",
        "class_names = train_dataset.classes\n",
        "\n",
        "# Create a dictionary to store one image from each class\n",
        "class_images = {}\n",
        "\n",
        "# Loop through the training dataset to find one image from each class\n",
        "for i, (image, label) in enumerate(train_dataset):\n",
        "    if class_names[label] not in class_images:\n",
        "        class_images[class_names[label]] = image\n",
        "    if len(class_images) == len(class_names):\n",
        "        break\n",
        "\n",
        "# Plot one image from each class\n",
        "plt.figure(figsize=(10, 5))\n",
        "for i, (class_name, image) in enumerate(class_images.items()):\n",
        "    plt.subplot(1, len(class_names), i+1)\n",
        "    plt.title(class_name)\n",
        "    plt.imshow(np.transpose(image.numpy(), (1, 2, 0)))\n",
        "    plt.axis('off')\n",
        "plt.tight_layout()\n",
        "plt.show()\n"
      ]
    },
    {
      "cell_type": "code",
      "execution_count": null,
      "metadata": {
        "id": "4CQztH1IcP9-"
      },
      "outputs": [],
      "source": [
        "import numpy as np\n",
        "\n",
        "trainloaders = []\n",
        "indices = np.arange(len(train_dataset))\n",
        "np.random.shuffle(indices)  # Shuffle the indices randomly\n",
        "\n",
        "subset_size = len(train_dataset) // NUM_CLIENTS\n",
        "\n",
        "for i in range(NUM_CLIENTS):\n",
        "    # Determine the indices for the subset of the dataset for this client\n",
        "    start_index = i * subset_size\n",
        "    end_index = (i + 1) * subset_size\n",
        "    subset_indices = indices[start_index:end_index]  # Use shuffled indices\n",
        "\n",
        "    subset = Subset(train_dataset, subset_indices)\n",
        "\n",
        "    # Create a DataLoader for this client using the subset\n",
        "    trainloader = DataLoader(subset, batch_size=BATCH_SIZE, shuffle=True)\n",
        "    trainloaders.append(trainloader)"
      ]
    },
    {
      "cell_type": "code",
      "execution_count": null,
      "metadata": {
        "colab": {
          "base_uri": "https://localhost:8080/"
        },
        "id": "aP4Jgd8PF4xi",
        "outputId": "cc9b8ac6-4afc-4cb4-9b81-8451f12467c5"
      },
      "outputs": [
        {
          "name": "stdout",
          "output_type": "stream",
          "text": [
            "Number of testing samples: 394\n",
            "Number of classes: 4\n",
            "Sample images shape: torch.Size([48, 3, 224, 224])\n",
            "Sample labels shape: torch.Size([48])\n",
            "Image batch shape: torch.Size([48, 3, 224, 224])\n",
            "Label batch shape: torch.Size([48])\n"
          ]
        }
      ],
      "source": [
        "\n",
        "\"\"\"\n",
        "# Create DataLoader instances for each client\n",
        "trainloaders = []\n",
        "for i in range(NUM_CLIENTS):\n",
        "    # Determine the indices for the subset of the dataset for this client\n",
        "    start_index = i * subset_size\n",
        "    end_index = start_index + subset_size\n",
        "    subset_indices = list(range(start_index, end_index))\n",
        "    subset = Subset(train_dataset, subset_indices)\n",
        "\n",
        "    # Create a DataLoader for this client using the subset\n",
        "    trainloader = DataLoader(subset, batch_size=BATCH_SIZE, shuffle=True)\n",
        "    trainloaders.append(trainloader)\n",
        "\"\"\"\n",
        "# Load the testing dataset\n",
        "test_dataset = ImageFolder(root=dataset_test_path, transform=transform)\n",
        "testloader = DataLoader(test_dataset, batch_size=BATCH_SIZE, shuffle=False)\n",
        "\n",
        "# Display information about the testloader\n",
        "print(\"Number of testing samples:\", len(test_dataset))\n",
        "print(\"Number of classes:\", len(test_dataset.classes))\n",
        "\n",
        "# Display a sample batch from the testloader\n",
        "sample_images, sample_labels = next(iter(testloader))\n",
        "print(\"Sample images shape:\", sample_images.shape)\n",
        "print(\"Sample labels shape:\", sample_labels.shape)\n",
        "\n",
        "\n",
        "# Display sample batch from training DataLoader\n",
        "for batch in trainloader:\n",
        "    images, labels = batch\n",
        "    print(\"Image batch shape:\", images.shape)\n",
        "    print(\"Label batch shape:\", labels.shape)\n",
        "    break  # Only print the first batch\n"
      ]
    },
    {
      "cell_type": "code",
      "execution_count": null,
      "metadata": {
        "colab": {
          "base_uri": "https://localhost:8080/"
        },
        "id": "KoewhRVUxrh1",
        "outputId": "66f2ecfe-b492-4a46-faac-2967be491889"
      },
      "outputs": [
        {
          "name": "stdout",
          "output_type": "stream",
          "text": [
            "Epoch 1/1, Loss: 1.1212, Accuracy: 0.4847\n",
            "Test acc  0.2918781725888325\n",
            "Epoch 1: validation loss 0.0820971753088956, accuracy 0.2918781725888325\n",
            "Epoch 1/1, Loss: 0.6886, Accuracy: 0.5521\n",
            "Test acc  0.27411167512690354\n",
            "Epoch 2: validation loss 0.09639668903375034, accuracy 0.27411167512690354\n",
            "Epoch 1/1, Loss: 0.6789, Accuracy: 0.5889\n",
            "Test acc  0.2715736040609137\n",
            "Epoch 3: validation loss 0.1047167101789852, accuracy 0.2715736040609137\n",
            "Epoch 1/1, Loss: 0.6639, Accuracy: 0.6146\n",
            "Test acc  0.3147208121827411\n",
            "Epoch 4: validation loss 0.11605328775299383, accuracy 0.3147208121827411\n",
            "Epoch 1/1, Loss: 0.6757, Accuracy: 0.5854\n",
            "Test acc  0.2969543147208122\n",
            "Epoch 5: validation loss 0.10046910105017841, accuracy 0.2969543147208122\n",
            "Epoch 1/1, Loss: 0.6415, Accuracy: 0.6403\n",
            "Test acc  0.3096446700507614\n",
            "Epoch 6: validation loss 0.1171750231140156, accuracy 0.3096446700507614\n",
            "Epoch 1/1, Loss: 0.6261, Accuracy: 0.6500\n",
            "Test acc  0.30456852791878175\n",
            "Epoch 7: validation loss 0.11990071432239513, accuracy 0.30456852791878175\n",
            "Epoch 1/1, Loss: 0.6480, Accuracy: 0.6389\n",
            "Test acc  0.31218274111675126\n",
            "Epoch 8: validation loss 0.0915829263967911, accuracy 0.31218274111675126\n",
            "Epoch 1/1, Loss: 0.6352, Accuracy: 0.6472\n",
            "Test acc  0.30456852791878175\n",
            "Epoch 9: validation loss 0.09278422155356045, accuracy 0.30456852791878175\n",
            "Epoch 1/1, Loss: 0.5864, Accuracy: 0.6799\n",
            "Test acc  0.30710659898477155\n",
            "Epoch 10: validation loss 0.11917525371016585, accuracy 0.30710659898477155\n"
          ]
        }
      ],
      "source": [
        "trainloader = trainloaders[0]\n",
        "valloader = testloader\n",
        "net = Net().to(DEVICE)\n",
        "\n",
        "for epoch in range(10):\n",
        "    train(net, trainloader, 1)\n",
        "    loss, accuracy = test(net, valloader)\n",
        "    print(f\"Epoch {epoch+1}: validation loss {loss}, accuracy {accuracy}\")\n",
        "\n"
      ]
    },
    {
      "cell_type": "code",
      "execution_count": null,
      "metadata": {
        "colab": {
          "base_uri": "https://localhost:8080/"
        },
        "id": "JtRhlFs6q1Dh",
        "outputId": "f0324d87-3418-4797-96d5-ca5572bca709"
      },
      "outputs": [
        {
          "name": "stdout",
          "output_type": "stream",
          "text": [
            "Test acc  0.30710659898477155\n",
            "Final test set performance:\n",
            "\tloss 0.11917525371016585\n",
            "\taccuracy 0.30710659898477155\n"
          ]
        }
      ],
      "source": [
        "loss, accuracy = test(net, testloader)\n",
        "print(f\"Final test set performance:\\n\\tloss {loss}\\n\\taccuracy {accuracy}\")"
      ]
    },
    {
      "cell_type": "markdown",
      "metadata": {
        "id": "oNfxTdJDxrh1"
      },
      "source": [
        "Training the simple CNN on our brain tumour split for 5 epochs should result in a test set accuracy of about 41%. The intent was just to show a simplistic centralized training pipeline that sets the stage for what comes next - federated learning!"
      ]
    },
    {
      "cell_type": "markdown",
      "metadata": {
        "id": "n3QUM6y4xrh2"
      },
      "source": [
        "## Step 2: Federated Learning with Flower\n",
        "\n",
        "Step 1 demonstrated a simple centralized training pipeline. All data was in one place (i.e., a single `trainloader` and a single `valloader`). Next, we'll simulate a situation where we have multiple datasets in multiple organizations and where we train a model over these organizations using federated learning."
      ]
    },
    {
      "cell_type": "markdown",
      "metadata": {
        "id": "uEKa_Rpixrh2"
      },
      "source": [
        "### Updating model parameters\n",
        "\n",
        "In federated learning, the server sends the global model parameters to the client, and the client updates the local model with the parameters received from the server. It then trains the model on the local data (which changes the model parameters locally) and sends the updated/changed model parameters back to the server (or, alternatively, it sends just the gradients back to the server, not the full model parameters).\n",
        "\n",
        "We need two helper functions to update the local model with parameters received from the server and to get the updated model parameters from the local model: `set_parameters` and `get_parameters`. The following two functions do just that for the PyTorch model above.\n",
        "\n",
        "In essence, we use `state_dict` to access PyTorch model parameter tensors. The parameter tensors are then converted to/from a list of NumPy ndarray's (which Flower knows how to serialize/deserialize):"
      ]
    },
    {
      "cell_type": "code",
      "execution_count": null,
      "metadata": {
        "id": "Kg_ps25lxrh2"
      },
      "outputs": [],
      "source": [
        "def set_parameters(net, parameters: List[np.ndarray]):\n",
        "    params_dict = zip(net.state_dict().keys(), parameters)\n",
        "    state_dict = OrderedDict({k: torch.Tensor(v) for k, v in params_dict})\n",
        "    net.load_state_dict(state_dict, strict=True)\n",
        "\n",
        "\n",
        "def get_parameters(net) -> List[np.ndarray]:\n",
        "    return [val.cpu().numpy() for _, val in net.state_dict().items()]"
      ]
    },
    {
      "cell_type": "markdown",
      "metadata": {
        "id": "p1i2h5blxrh3"
      },
      "source": [
        "### Implementing a Flower client\n",
        "\n",
        "With that out of the way, let's move on to the interesting part. Federated learning systems consist of a server and multiple clients. In Flower, we create clients by implementing subclasses of `flwr.client.Client` or `flwr.client.NumPyClient`. We use `NumPyClient` because it is easier to implement and requires us to write less boilerplate.\n",
        "\n",
        "To implement the Flower client, we create a subclass of `flwr.client.NumPyClient` and implement the three methods `get_parameters`, `fit`, and `evaluate`:\n",
        "\n",
        "* `get_parameters`: Return the current local model parameters\n",
        "* `fit`: Receive model parameters from the server, train the model parameters on the local data, and return the (updated) model parameters to the server\n",
        "* `evaluate`: Receive model parameters from the server, evaluate the model parameters on the local data, and return the evaluation result to the server\n",
        "\n",
        "We mentioned that our clients will use the previously defined PyTorch components for model training and evaluation. Let's see a simple Flower client implementation that brings everything together:"
      ]
    },
    {
      "cell_type": "code",
      "execution_count": null,
      "metadata": {
        "id": "6lRRXmRXxrh3"
      },
      "outputs": [],
      "source": [
        "class FlowerClient(fl.client.NumPyClient):\n",
        "    def __init__(self, net, trainloader, valloader):\n",
        "        self.net = net\n",
        "        self.trainloader = trainloader\n",
        "        self.valloader = valloader\n",
        "\n",
        "    def get_parameters(self, config):\n",
        "        return get_parameters(self.net)\n",
        "\n",
        "    def fit(self, parameters, config):\n",
        "        set_parameters(self.net, parameters)\n",
        "        train(self.net, self.trainloader, epochs=15)\n",
        "        return get_parameters(self.net), len(self.trainloader), {}\n",
        "\n",
        "    def evaluate(self, parameters, config):\n",
        "        set_parameters(self.net, parameters)\n",
        "        loss, accuracy = test(self.net, self.valloader)\n",
        "        return float(loss), len(self.valloader), {\"accuracy\": float(accuracy)}"
      ]
    },
    {
      "cell_type": "markdown",
      "metadata": {
        "id": "-pNgmUKkxrh4"
      },
      "source": [
        "Our class `FlowerClient` defines how local training/evaluation will be performed and allows Flower to call the local training/evaluation through `fit` and `evaluate`. Each instance of `FlowerClient` represents a *single client* in our federated learning system. Federated learning systems have multiple clients (otherwise, there's not much to federate), so each client will be represented by its own instance of `FlowerClient`. If we have, for example, three clients in our workload, then we'd have three instances of `FlowerClient`. Flower calls `FlowerClient.fit` on the respective instance when the server selects a particular client for training (and `FlowerClient.evaluate` for evaluation).\n",
        "\n",
        "### Using the Virtual Client Engine\n",
        "\n",
        "In this notebook, we want to simulate a federated learning system with 10 clients on a single machine. This means that the server and all 10 clients will live on a single machine and share resources such as CPU, GPU, and memory. Having 10 clients would mean having 10 instances of `FlowerClient` in memory. Doing this on a single machine can quickly exhaust the available memory resources, even if only a subset of these clients participates in a single round of federated learning.\n",
        "\n",
        "In addition to the regular capabilities where server and clients run on multiple machines, Flower, therefore, provides special simulation capabilities that create `FlowerClient` instances only when they are actually necessary for training or evaluation. To enable the Flower framework to create clients when necessary, we need to implement a function called `client_fn` that creates a `FlowerClient` instance on demand. Flower calls `client_fn` whenever it needs an instance of one particular client to call `fit` or `evaluate` (those instances are usually discarded after use, so they should not keep any local state). Clients are identified by a client ID, or short `cid`. The `cid` can be used, for example, to load different local data partitions for different clients, as can be seen below:"
      ]
    },
    {
      "cell_type": "code",
      "execution_count": null,
      "metadata": {
        "id": "6NSrJeqGxrh4"
      },
      "outputs": [],
      "source": [
        "def client_fn(cid: str) -> FlowerClient:\n",
        "    \"\"\"Create a Flower client representing a single organization.\"\"\"\n",
        "\n",
        "    # Load model\n",
        "    net = Net().to(DEVICE)\n",
        "\n",
        "    # Load data (Brain Tumour data from kaggle)\n",
        "    # Note: each client gets a different trainloader/valloader, so each client\n",
        "    # will train and evaluate on their own unique data\n",
        "    trainloader = trainloaders[int(cid)]\n",
        "    valloader = testloader\n",
        "\n",
        "    # Create a  single Flower client representing a single organization\n",
        "    return FlowerClient(net, trainloader, valloader).to_client()"
      ]
    },
    {
      "cell_type": "markdown",
      "metadata": {
        "id": "ujhpQTOkxrh4"
      },
      "source": [
        "### Starting the training\n",
        "\n",
        "We now have the class `FlowerClient` which defines client-side training/evaluation and `client_fn` which allows Flower to create `FlowerClient` instances whenever it needs to call `fit` or `evaluate` on one particular client. The last step is to start the actual simulation using `flwr.simulation.start_simulation`.\n",
        "\n",
        "The function `start_simulation` accepts a number of arguments, amongst them the `client_fn` used to create `FlowerClient` instances, the number of clients to simulate (`num_clients`), the number of federated learning rounds (`num_rounds`), and the strategy. The strategy encapsulates the federated learning approach/algorithm, for example, *Federated Averaging* (FedAvg).\n",
        "\n",
        "Flower has a number of built-in strategies, but we can also use our own strategy implementations to customize nearly all aspects of the federated learning approach. For this example, we use the built-in `FedAvg` implementation and customize it using a few basic parameters. The last step is the actual call to `start_simulation` which starts the simulation:"
      ]
    },
    {
      "cell_type": "code",
      "execution_count": null,
      "metadata": {
        "id": "cuyCF_tMxrh4"
      },
      "outputs": [],
      "source": [
        "# Create FedAvg strategy\n",
        "strategy = fl.server.strategy.FedAvg(\n",
        "  ##  fraction_fit=1.0,  # Sample 100% of available clients for training\n",
        " #   fraction_evaluate=0.5,  # Sample 50% of available clients for evaluation\n",
        "    min_fit_clients=3,  # Never sample less than 10 clients for training\n",
        "    min_evaluate_clients=3,  # Never sample less than 5 clients for evaluation\n",
        "    min_available_clients=3,  # Wait until all 10 clients are available\n",
        ")\n",
        "\n",
        "# Specify the resources each of clients need. By default, each\n",
        "# client will be allocated 1x CPU and 0x GPUs\n",
        "client_resources = {\"num_cpus\": 1, \"num_gpus\": 0.0}\n",
        "if DEVICE.type == \"cuda\":\n",
        "    # here we are assigning an entire GPU for each client.\n",
        "    client_resources = {\"num_cpus\": 1, \"num_gpus\": 1.0}\n",
        "    # Refer to our documentation for more details about Flower Simulations\n",
        "    # and how to setup these `client_resources`\n",
        "\n",
        "# Start simulation\n",
        "fl.simulation.start_simulation(\n",
        "    client_fn=client_fn,\n",
        "    num_clients=3,\n",
        "    config=fl.server.ServerConfig(num_rounds=5),\n",
        "    strategy=strategy,\n",
        "    client_resources=client_resources,\n",
        ")"
      ]
    },
    {
      "cell_type": "markdown",
      "metadata": {
        "id": "YNt2zZZlxrh5"
      },
      "source": [
        "### Behind the scenes\n",
        "\n",
        "So how does this work? How does Flower execute this simulation?\n",
        "\n",
        "When we call `start_simulation`, we tell Flower that there are 10 clients (`num_clients=10`). Flower then goes ahead an asks the `FedAvg` strategy to select clients. `FedAvg` knows that it should select 100% of the available clients (`fraction_fit=1.0`), so it goes ahead and selects 10 random clients (i.e., 100% of 10).\n",
        "\n",
        "Flower then asks the selected 10 clients to train the model. When the server receives the model parameter updates from the clients, it hands those updates over to the strategy (*FedAvg*) for aggregation. The strategy aggregates those updates and returns the new global model, which then gets used in the next round of federated learning."
      ]
    },
    {
      "cell_type": "markdown",
      "metadata": {
        "id": "wlvhwfrIxrh5"
      },
      "source": [
        "### Where's the accuracy?\n",
        "\n",
        "All metrics except for `losses_distributed` are empty. Where did the `{\"accuracy\": float(accuracy)}` go?\n",
        "\n",
        "Flower can automatically aggregate losses returned by individual clients, but it cannot do the same for metrics in the generic metrics dictionary (the one with the `accuracy` key). Metrics dictionaries can contain very different kinds of metrics and even key/value pairs that are not metrics at all, so the framework does not (and can not) know how to handle these automatically.\n",
        "\n",
        "As users, we need to tell the framework how to handle/aggregate these custom metrics, and we do so by passing metric aggregation functions to the strategy. The strategy will then call these functions whenever it receives fit or evaluate metrics from clients. The two possible functions are `fit_metrics_aggregation_fn` and `evaluate_metrics_aggregation_fn`.\n",
        "\n",
        "Let's create a simple weighted averaging function to aggregate the `accuracy` metric we return from `evaluate`:"
      ]
    },
    {
      "cell_type": "code",
      "execution_count": null,
      "metadata": {
        "id": "KH3wXeMJxrh5"
      },
      "outputs": [],
      "source": [
        "def weighted_average(metrics: List[Tuple[int, Metrics]]) -> Metrics:\n",
        "    # Multiply accuracy of each client by number of examples used\n",
        "    accuracies = [num_examples * m[\"accuracy\"] for num_examples, m in metrics]\n",
        "    examples = [num_examples for num_examples, _ in metrics]\n",
        "\n",
        "    # Aggregate and return custom metric (weighted average)\n",
        "    return {\"accuracy\": sum(accuracies) / sum(examples)}"
      ]
    },
    {
      "cell_type": "markdown",
      "metadata": {
        "id": "4iBD2UCtxrh6"
      },
      "source": [
        "The only thing left to do is to tell the strategy to call this function whenever it receives evaluation metric dictionaries from the clients:"
      ]
    },
    {
      "cell_type": "code",
      "execution_count": null,
      "metadata": {
        "colab": {
          "base_uri": "https://localhost:8080/"
        },
        "id": "-Mz6Zh2zz8Fx",
        "outputId": "ae9b8448-1b28-4b18-db02-aac05c9fcc80"
      },
      "outputs": [
        {
          "name": "stderr",
          "output_type": "stream",
          "text": [
            "\u001b[92mINFO \u001b[0m:      Starting Flower simulation, config: num_rounds=4, no round_timeout\n",
            "2024-05-11 19:34:37,084\tINFO worker.py:1621 -- Started a local Ray instance.\n",
            "\u001b[92mINFO \u001b[0m:      Flower VCE: Ray initialized with resources: {'node:__internal_head__': 1.0, 'GPU': 2.0, 'object_store_memory': 28017217536.0, 'memory': 56034435072.0, 'accelerator_type:TITAN': 1.0, 'node:130.232.102.158': 1.0, 'CPU': 24.0}\n",
            "\u001b[92mINFO \u001b[0m:      Optimize your simulation with Flower VCE: https://flower.ai/docs/framework/how-to-run-simulations.html\n",
            "\u001b[92mINFO \u001b[0m:      Flower VCE: Resources for each Virtual Client: {'num_cpus': 1, 'num_gpus': 1.0}\n",
            "\u001b[92mINFO \u001b[0m:      Flower VCE: Creating VirtualClientEngineActorPool with 2 actors\n",
            "\u001b[92mINFO \u001b[0m:      [INIT]\n",
            "\u001b[92mINFO \u001b[0m:      Requesting initial parameters from one random client\n",
            "\u001b[92mINFO \u001b[0m:      Received initial parameters from one random client\n",
            "\u001b[92mINFO \u001b[0m:      Evaluating initial global parameters\n",
            "\u001b[92mINFO \u001b[0m:      \n",
            "\u001b[92mINFO \u001b[0m:      [ROUND 1]\n",
            "\u001b[92mINFO \u001b[0m:      configure_fit: strategy sampled 2 clients (out of 2)\n"
          ]
        },
        {
          "name": "stdout",
          "output_type": "stream",
          "text": [
            "\u001b[2m\u001b[36m(ClientAppActor pid=1489681)\u001b[0m Epoch 1/10, Loss: 1.1187, Accuracy: 0.5576\n",
            "\u001b[2m\u001b[36m(ClientAppActor pid=1489681)\u001b[0m Epoch 2/10, Loss: 0.7072, Accuracy: 0.5549\u001b[32m [repeated 2x across cluster]\u001b[0m\n",
            "\u001b[2m\u001b[36m(ClientAppActor pid=1489680)\u001b[0m Epoch 3/10, Loss: 0.9375, Accuracy: 0.5806\u001b[32m [repeated 3x across cluster]\u001b[0m\n",
            "\u001b[2m\u001b[36m(ClientAppActor pid=1489680)\u001b[0m Epoch 4/10, Loss: 0.8650, Accuracy: 0.6431\u001b[32m [repeated 2x across cluster]\u001b[0m\n",
            "\u001b[2m\u001b[36m(ClientAppActor pid=1489680)\u001b[0m Epoch 5/10, Loss: 0.7615, Accuracy: 0.7083\u001b[32m [repeated 2x across cluster]\u001b[0m\n",
            "\u001b[2m\u001b[36m(ClientAppActor pid=1489680)\u001b[0m Epoch 6/10, Loss: 0.7398, Accuracy: 0.7132\u001b[32m [repeated 2x across cluster]\u001b[0m\n",
            "\u001b[2m\u001b[36m(ClientAppActor pid=1489680)\u001b[0m Epoch 7/10, Loss: 0.6249, Accuracy: 0.7674\u001b[32m [repeated 2x across cluster]\u001b[0m\n",
            "\u001b[2m\u001b[36m(ClientAppActor pid=1489680)\u001b[0m Epoch 8/10, Loss: 0.5626, Accuracy: 0.8000\u001b[32m [repeated 2x across cluster]\u001b[0m\n",
            "\u001b[2m\u001b[36m(ClientAppActor pid=1489680)\u001b[0m Epoch 9/10, Loss: 0.5222, Accuracy: 0.8271\u001b[32m [repeated 2x across cluster]\u001b[0m\n"
          ]
        },
        {
          "name": "stderr",
          "output_type": "stream",
          "text": [
            "\u001b[92mINFO \u001b[0m:      aggregate_fit: received 2 results and 0 failures\n"
          ]
        },
        {
          "name": "stdout",
          "output_type": "stream",
          "text": [
            "\u001b[2m\u001b[36m(ClientAppActor pid=1489680)\u001b[0m Epoch 10/10, Loss: 0.4978, Accuracy: 0.8333\u001b[32m [repeated 2x across cluster]\u001b[0m\n"
          ]
        },
        {
          "name": "stderr",
          "output_type": "stream",
          "text": [
            "\u001b[93mWARNING \u001b[0m:   No fit_metrics_aggregation_fn provided\n",
            "\u001b[92mINFO \u001b[0m:      configure_evaluate: strategy sampled 2 clients (out of 2)\n",
            "\u001b[92mINFO \u001b[0m:      aggregate_evaluate: received 2 results and 0 failures\n",
            "\u001b[92mINFO \u001b[0m:      \n",
            "\u001b[92mINFO \u001b[0m:      [ROUND 2]\n",
            "\u001b[92mINFO \u001b[0m:      configure_fit: strategy sampled 2 clients (out of 2)\n"
          ]
        },
        {
          "name": "stdout",
          "output_type": "stream",
          "text": [
            "\u001b[2m\u001b[36m(ClientAppActor pid=1489681)\u001b[0m Test acc  0.29441624365482233\n",
            "\u001b[2m\u001b[36m(ClientAppActor pid=1489681)\u001b[0m Epoch 1/10, Loss: 0.8514, Accuracy: 0.6944\n",
            "\u001b[2m\u001b[36m(ClientAppActor pid=1489680)\u001b[0m Test acc  0.29441624365482233\n",
            "\u001b[2m\u001b[36m(ClientAppActor pid=1489680)\u001b[0m Epoch 1/10, Loss: 0.6227, Accuracy: 0.6618\n",
            "\u001b[2m\u001b[36m(ClientAppActor pid=1489680)\u001b[0m Epoch 2/10, Loss: 0.5896, Accuracy: 0.6917\u001b[32m [repeated 2x across cluster]\u001b[0m\n",
            "\u001b[2m\u001b[36m(ClientAppActor pid=1489680)\u001b[0m Epoch 3/10, Loss: 0.5314, Accuracy: 0.7264\u001b[32m [repeated 2x across cluster]\u001b[0m\n",
            "\u001b[2m\u001b[36m(ClientAppActor pid=1489681)\u001b[0m Epoch 5/10, Loss: 0.3852, Accuracy: 0.8799\u001b[32m [repeated 3x across cluster]\u001b[0m\n",
            "\u001b[2m\u001b[36m(ClientAppActor pid=1489680)\u001b[0m Epoch 6/10, Loss: 0.5287, Accuracy: 0.7514\u001b[32m [repeated 3x across cluster]\u001b[0m\n",
            "\u001b[2m\u001b[36m(ClientAppActor pid=1489680)\u001b[0m Epoch 7/10, Loss: 0.4887, Accuracy: 0.7486\u001b[32m [repeated 2x across cluster]\u001b[0m\n",
            "\u001b[2m\u001b[36m(ClientAppActor pid=1489680)\u001b[0m Epoch 8/10, Loss: 0.5123, Accuracy: 0.7444\u001b[32m [repeated 2x across cluster]\u001b[0m\n",
            "\u001b[2m\u001b[36m(ClientAppActor pid=1489680)\u001b[0m Epoch 9/10, Loss: 0.4869, Accuracy: 0.7479\u001b[32m [repeated 2x across cluster]\u001b[0m\n"
          ]
        },
        {
          "name": "stderr",
          "output_type": "stream",
          "text": [
            "\u001b[92mINFO \u001b[0m:      aggregate_fit: received 2 results and 0 failures\n"
          ]
        },
        {
          "name": "stdout",
          "output_type": "stream",
          "text": [
            "\u001b[2m\u001b[36m(ClientAppActor pid=1489680)\u001b[0m Epoch 10/10, Loss: 0.4772, Accuracy: 0.7653\u001b[32m [repeated 2x across cluster]\u001b[0m\n"
          ]
        },
        {
          "name": "stderr",
          "output_type": "stream",
          "text": [
            "\u001b[92mINFO \u001b[0m:      configure_evaluate: strategy sampled 2 clients (out of 2)\n",
            "\u001b[92mINFO \u001b[0m:      aggregate_evaluate: received 2 results and 0 failures\n",
            "\u001b[92mINFO \u001b[0m:      \n",
            "\u001b[92mINFO \u001b[0m:      [ROUND 3]\n",
            "\u001b[92mINFO \u001b[0m:      configure_fit: strategy sampled 2 clients (out of 2)\n"
          ]
        },
        {
          "name": "stdout",
          "output_type": "stream",
          "text": [
            "\u001b[2m\u001b[36m(ClientAppActor pid=1489681)\u001b[0m Test acc  0.38578680203045684\n",
            "\u001b[2m\u001b[36m(ClientAppActor pid=1489681)\u001b[0m Epoch 1/10, Loss: 0.3498, Accuracy: 0.8882\n",
            "\u001b[2m\u001b[36m(ClientAppActor pid=1489680)\u001b[0m Test acc  0.38578680203045684\n",
            "\u001b[2m\u001b[36m(ClientAppActor pid=1489680)\u001b[0m Epoch 1/10, Loss: 0.6272, Accuracy: 0.7146\n",
            "\u001b[2m\u001b[36m(ClientAppActor pid=1489680)\u001b[0m Epoch 2/10, Loss: 0.4841, Accuracy: 0.7562\u001b[32m [repeated 2x across cluster]\u001b[0m\n",
            "\u001b[2m\u001b[36m(ClientAppActor pid=1489680)\u001b[0m Epoch 3/10, Loss: 0.4937, Accuracy: 0.7653\u001b[32m [repeated 2x across cluster]\u001b[0m\n",
            "\u001b[2m\u001b[36m(ClientAppActor pid=1489680)\u001b[0m Epoch 4/10, Loss: 0.4248, Accuracy: 0.7993\u001b[32m [repeated 2x across cluster]\u001b[0m\n",
            "\u001b[2m\u001b[36m(ClientAppActor pid=1489681)\u001b[0m Epoch 6/10, Loss: 0.0874, Accuracy: 0.9729\u001b[32m [repeated 3x across cluster]\u001b[0m\n",
            "\u001b[2m\u001b[36m(ClientAppActor pid=1489680)\u001b[0m Epoch 7/10, Loss: 0.3486, Accuracy: 0.8500\u001b[32m [repeated 3x across cluster]\u001b[0m\n",
            "\u001b[2m\u001b[36m(ClientAppActor pid=1489680)\u001b[0m Epoch 8/10, Loss: 0.3379, Accuracy: 0.8556\u001b[32m [repeated 2x across cluster]\u001b[0m\n",
            "\u001b[2m\u001b[36m(ClientAppActor pid=1489681)\u001b[0m Epoch 10/10, Loss: 0.0376, Accuracy: 0.9924\u001b[32m [repeated 3x across cluster]\u001b[0m\n"
          ]
        },
        {
          "name": "stderr",
          "output_type": "stream",
          "text": [
            "\u001b[92mINFO \u001b[0m:      aggregate_fit: received 2 results and 0 failures\n",
            "\u001b[92mINFO \u001b[0m:      configure_evaluate: strategy sampled 2 clients (out of 2)\n",
            "\u001b[92mINFO \u001b[0m:      aggregate_evaluate: received 2 results and 0 failures\n",
            "\u001b[92mINFO \u001b[0m:      \n",
            "\u001b[92mINFO \u001b[0m:      [ROUND 4]\n",
            "\u001b[92mINFO \u001b[0m:      configure_fit: strategy sampled 2 clients (out of 2)\n"
          ]
        },
        {
          "name": "stdout",
          "output_type": "stream",
          "text": [
            "\u001b[2m\u001b[36m(ClientAppActor pid=1489681)\u001b[0m Test acc  0.2918781725888325\n",
            "\u001b[2m\u001b[36m(ClientAppActor pid=1489681)\u001b[0m Epoch 1/10, Loss: 0.5326, Accuracy: 0.8278\u001b[32m [repeated 2x across cluster]\u001b[0m\n",
            "\u001b[2m\u001b[36m(ClientAppActor pid=1489680)\u001b[0m Test acc  0.2918781725888325\n",
            "\u001b[2m\u001b[36m(ClientAppActor pid=1489680)\u001b[0m Epoch 2/10, Loss: 0.3338, Accuracy: 0.8549\u001b[32m [repeated 3x across cluster]\u001b[0m\n",
            "\u001b[2m\u001b[36m(ClientAppActor pid=1489680)\u001b[0m Epoch 3/10, Loss: 0.3343, Accuracy: 0.8576\u001b[32m [repeated 2x across cluster]\u001b[0m\n",
            "\u001b[2m\u001b[36m(ClientAppActor pid=1489680)\u001b[0m Epoch 4/10, Loss: 0.2751, Accuracy: 0.8938\u001b[32m [repeated 2x across cluster]\u001b[0m\n",
            "\u001b[2m\u001b[36m(ClientAppActor pid=1489680)\u001b[0m Epoch 5/10, Loss: 0.2810, Accuracy: 0.8792\u001b[32m [repeated 2x across cluster]\u001b[0m\n",
            "\u001b[2m\u001b[36m(ClientAppActor pid=1489680)\u001b[0m Epoch 6/10, Loss: 0.2347, Accuracy: 0.9118\u001b[32m [repeated 2x across cluster]\u001b[0m\n",
            "\u001b[2m\u001b[36m(ClientAppActor pid=1489680)\u001b[0m Epoch 7/10, Loss: 0.2246, Accuracy: 0.9083\u001b[32m [repeated 2x across cluster]\u001b[0m\n",
            "\u001b[2m\u001b[36m(ClientAppActor pid=1489680)\u001b[0m Epoch 8/10, Loss: 0.2658, Accuracy: 0.8840\u001b[32m [repeated 2x across cluster]\u001b[0m\n",
            "\u001b[2m\u001b[36m(ClientAppActor pid=1489680)\u001b[0m Epoch 9/10, Loss: 0.1955, Accuracy: 0.9292\u001b[32m [repeated 2x across cluster]\u001b[0m\n",
            "\u001b[2m\u001b[36m(ClientAppActor pid=1489680)\u001b[0m Epoch 10/10, Loss: 0.2319, Accuracy: 0.9042\u001b[32m [repeated 2x across cluster]\u001b[0m\n"
          ]
        },
        {
          "name": "stderr",
          "output_type": "stream",
          "text": [
            "\u001b[92mINFO \u001b[0m:      aggregate_fit: received 2 results and 0 failures\n",
            "\u001b[92mINFO \u001b[0m:      configure_evaluate: strategy sampled 2 clients (out of 2)\n",
            "\u001b[92mINFO \u001b[0m:      aggregate_evaluate: received 2 results and 0 failures\n",
            "\u001b[92mINFO \u001b[0m:      \n",
            "\u001b[92mINFO \u001b[0m:      [SUMMARY]\n",
            "\u001b[92mINFO \u001b[0m:      Run finished 4 rounds in 218.76s\n",
            "\u001b[92mINFO \u001b[0m:      History (loss, distributed):\n",
            "\u001b[92mINFO \u001b[0m:      \t('\\tround 1: 0.06791596893731713\\n'\n",
            "\u001b[92mINFO \u001b[0m:      \t '\\tround 2: 0.05449226150657925\\n'\n",
            "\u001b[92mINFO \u001b[0m:      \t '\\tround 3: 0.14571662096609242\\n'\n",
            "\u001b[92mINFO \u001b[0m:      \t '\\tround 4: 0.10380401072768389\\n')History (metrics, distributed, evaluate):\n",
            "\u001b[92mINFO \u001b[0m:      \t{'accuracy': [(1, 0.29441624365482233),\n",
            "\u001b[92mINFO \u001b[0m:      \t              (2, 0.3857868020304568),\n",
            "\u001b[92mINFO \u001b[0m:      \t              (3, 0.2918781725888325),\n",
            "\u001b[92mINFO \u001b[0m:      \t              (4, 0.43147208121827413)]}\n",
            "\u001b[92mINFO \u001b[0m:      \n"
          ]
        },
        {
          "name": "stdout",
          "output_type": "stream",
          "text": [
            "\u001b[2m\u001b[36m(ClientAppActor pid=1489680)\u001b[0m Test acc  0.43147208121827413\n"
          ]
        },
        {
          "data": {
            "text/plain": [
              "History (loss, distributed):\n",
              "('\\tround 1: 0.06791596893731713\\n'\n",
              " '\\tround 2: 0.05449226150657925\\n'\n",
              " '\\tround 3: 0.14571662096609242\\n'\n",
              " '\\tround 4: 0.10380401072768389\\n')History (metrics, distributed, evaluate):\n",
              "{'accuracy': [(1, 0.29441624365482233),\n",
              "              (2, 0.3857868020304568),\n",
              "              (3, 0.2918781725888325),\n",
              "              (4, 0.43147208121827413)]}"
            ]
          },
          "execution_count": 30,
          "metadata": {},
          "output_type": "execute_result"
        },
        {
          "name": "stdout",
          "output_type": "stream",
          "text": [
            "\u001b[2m\u001b[36m(ClientAppActor pid=1489681)\u001b[0m Test acc  0.43147208121827413\n"
          ]
        }
      ],
      "source": [
        "# Create FedAvg strategy\n",
        "\"\"\"\n",
        "strategy = fl.server.strategy.FedAvg(\n",
        "    fraction_fit=1.0,\n",
        "    fraction_evaluate=0.5,\n",
        "    min_fit_clients=10,\n",
        "    min_evaluate_clients=5,\n",
        "    min_available_clients=10,\n",
        "    evaluate_metrics_aggregation_fn=weighted_average,  # <-- pass the metric aggregation function\n",
        ")\n",
        "\"\"\"\n",
        "\n",
        "# Specify the resources each clients need. By default, each\n",
        "# client will be allocated 1x CPU and 0x GPUs\n",
        "client_resources = {\"num_cpus\": 1, \"num_gpus\": 0.0}\n",
        "if DEVICE.type == \"cuda\":\n",
        "    # here we are assigning an entire GPU for each client.\n",
        "    client_resources = {\"num_cpus\": 1, \"num_gpus\": 1.0}\n",
        "    # Refer to our documentation for more details about Flower Simulations\n",
        "    # and how to setup these `client_resources`\n",
        "\n",
        "strategy = fl.server.strategy.FedAvg(\n",
        "    fraction_fit=1.0,  # Sample 100% of available clients for training\n",
        " #   fraction_evaluate=0.5,  # Sample 50% of available clients for evaluation\n",
        "   min_fit_clients=2,  # Never sample less than 10 clients for training\n",
        "    min_evaluate_clients=2,  # Never sample less than 5 clients for evaluation\n",
        "\n",
        "\n",
        "    min_available_clients=2,  # Wait until all 10 clients are available\n",
        "   evaluate_metrics_aggregation_fn=weighted_average,\n",
        ")\n",
        "NUM_CLIENTS=2\n",
        "# Start simulation\n",
        "fl.simulation.start_simulation(\n",
        "    client_fn=client_fn,\n",
        "    num_clients=NUM_CLIENTS,\n",
        "    config=fl.server.ServerConfig(num_rounds=4),\n",
        "    strategy=strategy,\n",
        "    client_resources=client_resources,\n",
        ")"
      ]
    },
    {
      "cell_type": "markdown",
      "metadata": {
        "id": "bzsxQhQzcP-H"
      },
      "source": [
        "Batch Size 48.\n",
        "Client 6\n",
        "Rounds 10\n",
        "Epochs 10\n",
        "\n",
        "More randomization"
      ]
    },
    {
      "cell_type": "code",
      "execution_count": null,
      "metadata": {
        "id": "2Na6ZfbqcP-H",
        "outputId": "a40538d3-6744-4946-dd0c-5cdd2c774cd1"
      },
      "outputs": [
        {
          "name": "stderr",
          "output_type": "stream",
          "text": [
            "\u001b[92mINFO \u001b[0m:      Starting Flower simulation, config: num_rounds=10, no round_timeout\n",
            "2024-05-13 12:00:42,191\tINFO worker.py:1621 -- Started a local Ray instance.\n",
            "\u001b[92mINFO \u001b[0m:      Flower VCE: Ray initialized with resources: {'node:__internal_head__': 1.0, 'memory': 50630175131.0, 'node:130.232.102.158': 1.0, 'accelerator_type:TITAN': 1.0, 'CPU': 24.0, 'GPU': 2.0, 'object_store_memory': 25315087564.0}\n",
            "\u001b[92mINFO \u001b[0m:      Optimize your simulation with Flower VCE: https://flower.ai/docs/framework/how-to-run-simulations.html\n",
            "\u001b[92mINFO \u001b[0m:      Flower VCE: Resources for each Virtual Client: {'num_cpus': 1, 'num_gpus': 1.0}\n",
            "\u001b[92mINFO \u001b[0m:      Flower VCE: Creating VirtualClientEngineActorPool with 2 actors\n",
            "\u001b[92mINFO \u001b[0m:      [INIT]\n",
            "\u001b[92mINFO \u001b[0m:      Requesting initial parameters from one random client\n",
            "\u001b[92mINFO \u001b[0m:      Received initial parameters from one random client\n",
            "\u001b[92mINFO \u001b[0m:      Evaluating initial global parameters\n",
            "\u001b[92mINFO \u001b[0m:      \n",
            "\u001b[92mINFO \u001b[0m:      [ROUND 1]\n",
            "\u001b[92mINFO \u001b[0m:      configure_fit: strategy sampled 6 clients (out of 6)\n"
          ]
        },
        {
          "name": "stdout",
          "output_type": "stream",
          "text": [
            "\u001b[2m\u001b[36m(ClientAppActor pid=1533871)\u001b[0m Epoch 1/15, Loss: 1.3808, Accuracy: 0.2875\n",
            "\u001b[2m\u001b[36m(ClientAppActor pid=1533871)\u001b[0m Epoch 2/15, Loss: 1.3781, Accuracy: 0.2875\n",
            "\u001b[2m\u001b[36m(ClientAppActor pid=1533872)\u001b[0m Epoch 3/15, Loss: 1.3749, Accuracy: 0.2771\u001b[32m [repeated 5x across cluster] (Ray deduplicates logs by default. Set RAY_DEDUP_LOGS=0 to disable log deduplication, or see https://docs.ray.io/en/master/ray-observability/ray-logging.html#log-deduplication for more options.)\u001b[0m\n",
            "\u001b[2m\u001b[36m(ClientAppActor pid=1533871)\u001b[0m Epoch 8/15, Loss: 1.3662, Accuracy: 0.3854\u001b[32m [repeated 7x across cluster]\u001b[0m\n",
            "\u001b[2m\u001b[36m(ClientAppActor pid=1533872)\u001b[0m Epoch 10/15, Loss: 1.3585, Accuracy: 0.5375\u001b[32m [repeated 6x across cluster]\u001b[0m\n",
            "\u001b[2m\u001b[36m(ClientAppActor pid=1533871)\u001b[0m Epoch 14/15, Loss: 1.3571, Accuracy: 0.4021\u001b[32m [repeated 7x across cluster]\u001b[0m\n",
            "\u001b[2m\u001b[36m(ClientAppActor pid=1533872)\u001b[0m Epoch 1/15, Loss: 1.3800, Accuracy: 0.3021\u001b[32m [repeated 5x across cluster]\u001b[0m\n",
            "\u001b[2m\u001b[36m(ClientAppActor pid=1533872)\u001b[0m Epoch 4/15, Loss: 1.3664, Accuracy: 0.3021\u001b[32m [repeated 6x across cluster]\u001b[0m\n",
            "\u001b[2m\u001b[36m(ClientAppActor pid=1533871)\u001b[0m Epoch 8/15, Loss: 1.3346, Accuracy: 0.3625\u001b[32m [repeated 7x across cluster]\u001b[0m\n",
            "\u001b[2m\u001b[36m(ClientAppActor pid=1533872)\u001b[0m Epoch 11/15, Loss: 1.3410, Accuracy: 0.3583\u001b[32m [repeated 7x across cluster]\u001b[0m\n",
            "\u001b[2m\u001b[36m(ClientAppActor pid=1533872)\u001b[0m Epoch 14/15, Loss: 1.3303, Accuracy: 0.3271\u001b[32m [repeated 6x across cluster]\u001b[0m\n",
            "\u001b[2m\u001b[36m(ClientAppActor pid=1533872)\u001b[0m Epoch 2/15, Loss: 1.3742, Accuracy: 0.2938\u001b[32m [repeated 5x across cluster]\u001b[0m\n",
            "\u001b[2m\u001b[36m(ClientAppActor pid=1533871)\u001b[0m Epoch 5/15, Loss: 1.3630, Accuracy: 0.3125\u001b[32m [repeated 7x across cluster]\u001b[0m\n",
            "\u001b[2m\u001b[36m(ClientAppActor pid=1533871)\u001b[0m Epoch 8/15, Loss: 1.3533, Accuracy: 0.3125\u001b[32m [repeated 6x across cluster]\u001b[0m\n",
            "\u001b[2m\u001b[36m(ClientAppActor pid=1533871)\u001b[0m Epoch 11/15, Loss: 1.3445, Accuracy: 0.3125\u001b[32m [repeated 6x across cluster]\u001b[0m\n",
            "\u001b[2m\u001b[36m(ClientAppActor pid=1533871)\u001b[0m Epoch 14/15, Loss: 1.3363, Accuracy: 0.3125\u001b[32m [repeated 6x across cluster]\u001b[0m\n"
          ]
        },
        {
          "name": "stderr",
          "output_type": "stream",
          "text": [
            "\u001b[92mINFO \u001b[0m:      aggregate_fit: received 6 results and 0 failures\n",
            "\u001b[93mWARNING \u001b[0m:   No fit_metrics_aggregation_fn provided\n",
            "\u001b[92mINFO \u001b[0m:      configure_evaluate: strategy sampled 6 clients (out of 6)\n"
          ]
        },
        {
          "name": "stdout",
          "output_type": "stream",
          "text": [
            "\u001b[2m\u001b[36m(ClientAppActor pid=1533871)\u001b[0m Test acc  0.35279187817258884\n",
            "\u001b[2m\u001b[36m(ClientAppActor pid=1533871)\u001b[0m Epoch 15/15, Loss: 1.3338, Accuracy: 0.3125\u001b[32m [repeated 2x across cluster]\u001b[0m\n"
          ]
        },
        {
          "name": "stderr",
          "output_type": "stream",
          "text": [
            "\u001b[92mINFO \u001b[0m:      aggregate_evaluate: received 6 results and 0 failures\n",
            "\u001b[92mINFO \u001b[0m:      \n",
            "\u001b[92mINFO \u001b[0m:      [ROUND 2]\n",
            "\u001b[92mINFO \u001b[0m:      configure_fit: strategy sampled 6 clients (out of 6)\n"
          ]
        },
        {
          "name": "stdout",
          "output_type": "stream",
          "text": [
            "\u001b[2m\u001b[36m(ClientAppActor pid=1533871)\u001b[0m Test acc  0.35279187817258884\u001b[32m [repeated 5x across cluster]\u001b[0m\n",
            "\u001b[2m\u001b[36m(ClientAppActor pid=1533871)\u001b[0m Epoch 2/15, Loss: 1.3525, Accuracy: 0.4104\u001b[32m [repeated 3x across cluster]\u001b[0m\n",
            "\u001b[2m\u001b[36m(ClientAppActor pid=1533872)\u001b[0m Epoch 5/15, Loss: 1.3033, Accuracy: 0.3625\u001b[32m [repeated 7x across cluster]\u001b[0m\n",
            "\u001b[2m\u001b[36m(ClientAppActor pid=1533872)\u001b[0m Epoch 8/15, Loss: 1.2908, Accuracy: 0.3625\u001b[32m [repeated 6x across cluster]\u001b[0m\n",
            "\u001b[2m\u001b[36m(ClientAppActor pid=1533872)\u001b[0m Epoch 11/15, Loss: 1.2688, Accuracy: 0.3667\u001b[32m [repeated 6x across cluster]\u001b[0m\n",
            "\u001b[2m\u001b[36m(ClientAppActor pid=1533872)\u001b[0m Epoch 14/15, Loss: 1.2246, Accuracy: 0.5396\u001b[32m [repeated 6x across cluster]\u001b[0m\n",
            "\u001b[2m\u001b[36m(ClientAppActor pid=1533872)\u001b[0m Epoch 2/15, Loss: 1.3322, Accuracy: 0.3875\u001b[32m [repeated 6x across cluster]\u001b[0m\n",
            "\u001b[2m\u001b[36m(ClientAppActor pid=1533872)\u001b[0m Epoch 5/15, Loss: 1.3189, Accuracy: 0.3417\u001b[32m [repeated 6x across cluster]\u001b[0m\n",
            "\u001b[2m\u001b[36m(ClientAppActor pid=1533871)\u001b[0m Epoch 9/15, Loss: 1.3104, Accuracy: 0.3187\u001b[32m [repeated 7x across cluster]\u001b[0m\n",
            "\u001b[2m\u001b[36m(ClientAppActor pid=1533872)\u001b[0m Epoch 12/15, Loss: 1.2848, Accuracy: 0.3646\u001b[32m [repeated 6x across cluster]\u001b[0m\n",
            "\u001b[2m\u001b[36m(ClientAppActor pid=1533872)\u001b[0m Epoch 15/15, Loss: 1.2520, Accuracy: 0.4042\u001b[32m [repeated 6x across cluster]\u001b[0m\n",
            "\u001b[2m\u001b[36m(ClientAppActor pid=1533872)\u001b[0m Epoch 3/15, Loss: 1.3425, Accuracy: 0.3417\u001b[32m [repeated 6x across cluster]\u001b[0m\n",
            "\u001b[2m\u001b[36m(ClientAppActor pid=1533871)\u001b[0m Epoch 6/15, Loss: 1.3123, Accuracy: 0.3271\u001b[32m [repeated 7x across cluster]\u001b[0m\n",
            "\u001b[2m\u001b[36m(ClientAppActor pid=1533871)\u001b[0m Epoch 9/15, Loss: 1.3008, Accuracy: 0.3833\u001b[32m [repeated 6x across cluster]\u001b[0m\n",
            "\u001b[2m\u001b[36m(ClientAppActor pid=1533872)\u001b[0m Epoch 13/15, Loss: 1.2902, Accuracy: 0.4542\u001b[32m [repeated 7x across cluster]\u001b[0m\n"
          ]
        },
        {
          "name": "stderr",
          "output_type": "stream",
          "text": [
            "\u001b[92mINFO \u001b[0m:      aggregate_fit: received 6 results and 0 failures\n",
            "\u001b[92mINFO \u001b[0m:      configure_evaluate: strategy sampled 6 clients (out of 6)\n"
          ]
        },
        {
          "name": "stdout",
          "output_type": "stream",
          "text": [
            "\u001b[2m\u001b[36m(ClientAppActor pid=1533871)\u001b[0m Test acc  0.33248730964467005\n",
            "\u001b[2m\u001b[36m(ClientAppActor pid=1533871)\u001b[0m Epoch 15/15, Loss: 1.2319, Accuracy: 0.5542\u001b[32m [repeated 5x across cluster]\u001b[0m\n"
          ]
        },
        {
          "name": "stderr",
          "output_type": "stream",
          "text": [
            "\u001b[92mINFO \u001b[0m:      aggregate_evaluate: received 6 results and 0 failures\n",
            "\u001b[92mINFO \u001b[0m:      \n",
            "\u001b[92mINFO \u001b[0m:      [ROUND 3]\n",
            "\u001b[92mINFO \u001b[0m:      configure_fit: strategy sampled 6 clients (out of 6)\n"
          ]
        },
        {
          "name": "stdout",
          "output_type": "stream",
          "text": [
            "\u001b[2m\u001b[36m(ClientAppActor pid=1533871)\u001b[0m Test acc  0.33248730964467005\u001b[32m [repeated 5x across cluster]\u001b[0m\n",
            "\u001b[2m\u001b[36m(ClientAppActor pid=1533872)\u001b[0m Epoch 1/15, Loss: 1.2420, Accuracy: 0.4667\n",
            "\u001b[2m\u001b[36m(ClientAppActor pid=1533871)\u001b[0m Epoch 1/15, Loss: 1.2343, Accuracy: 0.5583\n",
            "\u001b[2m\u001b[36m(ClientAppActor pid=1533872)\u001b[0m Epoch 5/15, Loss: 1.1291, Accuracy: 0.5292\u001b[32m [repeated 7x across cluster]\u001b[0m\n",
            "\u001b[2m\u001b[36m(ClientAppActor pid=1533871)\u001b[0m Epoch 8/15, Loss: 1.0007, Accuracy: 0.5813\u001b[32m [repeated 6x across cluster]\u001b[0m\n",
            "\u001b[2m\u001b[36m(ClientAppActor pid=1533871)\u001b[0m Epoch 11/15, Loss: 0.9385, Accuracy: 0.5813\u001b[32m [repeated 6x across cluster]\u001b[0m\n",
            "\u001b[2m\u001b[36m(ClientAppActor pid=1533871)\u001b[0m Epoch 14/15, Loss: 0.8328, Accuracy: 0.6417\u001b[32m [repeated 6x across cluster]\u001b[0m\n",
            "\u001b[2m\u001b[36m(ClientAppActor pid=1533871)\u001b[0m Epoch 2/15, Loss: 1.2023, Accuracy: 0.5333\u001b[32m [repeated 6x across cluster]\u001b[0m\n",
            "\u001b[2m\u001b[36m(ClientAppActor pid=1533871)\u001b[0m Epoch 5/15, Loss: 1.1203, Accuracy: 0.5312\u001b[32m [repeated 6x across cluster]\u001b[0m\n",
            "\u001b[2m\u001b[36m(ClientAppActor pid=1533872)\u001b[0m Epoch 8/15, Loss: 0.9902, Accuracy: 0.6271\u001b[32m [repeated 6x across cluster]\u001b[0m\n",
            "\u001b[2m\u001b[36m(ClientAppActor pid=1533871)\u001b[0m Epoch 11/15, Loss: 0.9120, Accuracy: 0.6354\u001b[32m [repeated 6x across cluster]\u001b[0m\n",
            "\u001b[2m\u001b[36m(ClientAppActor pid=1533871)\u001b[0m Epoch 14/15, Loss: 0.8446, Accuracy: 0.6417\u001b[32m [repeated 6x across cluster]\u001b[0m\n",
            "\u001b[2m\u001b[36m(ClientAppActor pid=1533871)\u001b[0m Epoch 2/15, Loss: 1.2348, Accuracy: 0.5854\u001b[32m [repeated 6x across cluster]\u001b[0m\n",
            "\u001b[2m\u001b[36m(ClientAppActor pid=1533872)\u001b[0m Epoch 6/15, Loss: 1.0853, Accuracy: 0.5917\u001b[32m [repeated 8x across cluster]\u001b[0m\n",
            "\u001b[2m\u001b[36m(ClientAppActor pid=1533871)\u001b[0m Epoch 9/15, Loss: 0.9654, Accuracy: 0.5854\u001b[32m [repeated 7x across cluster]\u001b[0m\n",
            "\u001b[2m\u001b[36m(ClientAppActor pid=1533872)\u001b[0m Epoch 13/15, Loss: 1.0309, Accuracy: 0.5396\u001b[32m [repeated 7x across cluster]\u001b[0m\n"
          ]
        },
        {
          "name": "stderr",
          "output_type": "stream",
          "text": [
            "\u001b[92mINFO \u001b[0m:      aggregate_fit: received 6 results and 0 failures\n",
            "\u001b[92mINFO \u001b[0m:      configure_evaluate: strategy sampled 6 clients (out of 6)\n"
          ]
        },
        {
          "name": "stdout",
          "output_type": "stream",
          "text": [
            "\u001b[2m\u001b[36m(ClientAppActor pid=1533871)\u001b[0m Test acc  0.3350253807106599\n",
            "\u001b[2m\u001b[36m(ClientAppActor pid=1533871)\u001b[0m Epoch 15/15, Loss: 0.8633, Accuracy: 0.6396\u001b[32m [repeated 5x across cluster]\u001b[0m\n"
          ]
        },
        {
          "name": "stderr",
          "output_type": "stream",
          "text": [
            "\u001b[92mINFO \u001b[0m:      aggregate_evaluate: received 6 results and 0 failures\n",
            "\u001b[92mINFO \u001b[0m:      \n",
            "\u001b[92mINFO \u001b[0m:      [ROUND 4]\n",
            "\u001b[92mINFO \u001b[0m:      configure_fit: strategy sampled 6 clients (out of 6)\n"
          ]
        },
        {
          "name": "stdout",
          "output_type": "stream",
          "text": [
            "\u001b[2m\u001b[36m(ClientAppActor pid=1533871)\u001b[0m Test acc  0.3350253807106599\u001b[32m [repeated 5x across cluster]\u001b[0m\n",
            "\u001b[2m\u001b[36m(ClientAppActor pid=1533871)\u001b[0m Epoch 1/15, Loss: 0.8514, Accuracy: 0.6438\n",
            "\u001b[2m\u001b[36m(ClientAppActor pid=1533872)\u001b[0m Epoch 1/15, Loss: 0.8423, Accuracy: 0.6292\n",
            "\u001b[2m\u001b[36m(ClientAppActor pid=1533872)\u001b[0m Epoch 2/15, Loss: 0.8570, Accuracy: 0.6333\n",
            "\u001b[2m\u001b[36m(ClientAppActor pid=1533872)\u001b[0m Epoch 4/15, Loss: 0.9211, Accuracy: 0.5917\u001b[32m [repeated 5x across cluster]\u001b[0m\n",
            "\u001b[2m\u001b[36m(ClientAppActor pid=1533872)\u001b[0m Epoch 7/15, Loss: 0.7530, Accuracy: 0.6625\u001b[32m [repeated 5x across cluster]\u001b[0m\n",
            "\u001b[2m\u001b[36m(ClientAppActor pid=1533872)\u001b[0m Epoch 10/15, Loss: 0.7062, Accuracy: 0.6958\u001b[32m [repeated 6x across cluster]\u001b[0m\n",
            "\u001b[2m\u001b[36m(ClientAppActor pid=1533872)\u001b[0m Epoch 13/15, Loss: 0.6973, Accuracy: 0.6917\u001b[32m [repeated 6x across cluster]\u001b[0m\n",
            "\u001b[2m\u001b[36m(ClientAppActor pid=1533872)\u001b[0m Epoch 1/15, Loss: 0.8657, Accuracy: 0.6417\u001b[32m [repeated 6x across cluster]\u001b[0m\n",
            "\u001b[2m\u001b[36m(ClientAppActor pid=1533871)\u001b[0m Epoch 4/15, Loss: 0.8359, Accuracy: 0.6625\u001b[32m [repeated 7x across cluster]\u001b[0m\n",
            "\u001b[2m\u001b[36m(ClientAppActor pid=1533871)\u001b[0m Epoch 7/15, Loss: 0.7499, Accuracy: 0.7000\u001b[32m [repeated 7x across cluster]\u001b[0m\n",
            "\u001b[2m\u001b[36m(ClientAppActor pid=1533871)\u001b[0m Epoch 10/15, Loss: 0.8343, Accuracy: 0.6417\u001b[32m [repeated 6x across cluster]\u001b[0m\n",
            "\u001b[2m\u001b[36m(ClientAppActor pid=1533871)\u001b[0m Epoch 13/15, Loss: 0.7045, Accuracy: 0.7229\u001b[32m [repeated 6x across cluster]\u001b[0m\n",
            "\u001b[2m\u001b[36m(ClientAppActor pid=1533871)\u001b[0m Epoch 1/15, Loss: 0.9031, Accuracy: 0.6250\u001b[32m [repeated 6x across cluster]\u001b[0m\n",
            "\u001b[2m\u001b[36m(ClientAppActor pid=1533871)\u001b[0m Epoch 4/15, Loss: 0.9297, Accuracy: 0.6021\u001b[32m [repeated 6x across cluster]\u001b[0m\n",
            "\u001b[2m\u001b[36m(ClientAppActor pid=1533871)\u001b[0m Epoch 7/15, Loss: 0.8577, Accuracy: 0.6292\u001b[32m [repeated 6x across cluster]\u001b[0m\n",
            "\u001b[2m\u001b[36m(ClientAppActor pid=1533872)\u001b[0m Epoch 12/15, Loss: 0.7040, Accuracy: 0.7125\u001b[32m [repeated 6x across cluster]\u001b[0m\n",
            "\u001b[2m\u001b[36m(ClientAppActor pid=1533871)\u001b[0m Epoch 13/15, Loss: 0.7046, Accuracy: 0.6917\u001b[32m [repeated 7x across cluster]\u001b[0m\n"
          ]
        },
        {
          "name": "stderr",
          "output_type": "stream",
          "text": [
            "\u001b[92mINFO \u001b[0m:      aggregate_fit: received 6 results and 0 failures\n",
            "\u001b[92mINFO \u001b[0m:      configure_evaluate: strategy sampled 6 clients (out of 6)\n"
          ]
        },
        {
          "name": "stdout",
          "output_type": "stream",
          "text": [
            "\u001b[2m\u001b[36m(ClientAppActor pid=1533872)\u001b[0m Test acc  0.3629441624365482\n",
            "\u001b[2m\u001b[36m(ClientAppActor pid=1533871)\u001b[0m Epoch 15/15, Loss: 0.6745, Accuracy: 0.7292\u001b[32m [repeated 2x across cluster]\u001b[0m\n"
          ]
        },
        {
          "name": "stderr",
          "output_type": "stream",
          "text": [
            "\u001b[92mINFO \u001b[0m:      aggregate_evaluate: received 6 results and 0 failures\n",
            "\u001b[92mINFO \u001b[0m:      \n",
            "\u001b[92mINFO \u001b[0m:      [ROUND 5]\n",
            "\u001b[92mINFO \u001b[0m:      configure_fit: strategy sampled 6 clients (out of 6)\n"
          ]
        },
        {
          "name": "stdout",
          "output_type": "stream",
          "text": [
            "\u001b[2m\u001b[36m(ClientAppActor pid=1533871)\u001b[0m Test acc  0.3629441624365482\u001b[32m [repeated 5x across cluster]\u001b[0m\n",
            "\u001b[2m\u001b[36m(ClientAppActor pid=1533872)\u001b[0m Epoch 1/15, Loss: 0.6888, Accuracy: 0.7312\n",
            "\u001b[2m\u001b[36m(ClientAppActor pid=1533871)\u001b[0m Epoch 1/15, Loss: 0.6911, Accuracy: 0.7292\n",
            "\u001b[2m\u001b[36m(ClientAppActor pid=1533872)\u001b[0m Epoch 4/15, Loss: 0.7375, Accuracy: 0.7042\u001b[32m [repeated 5x across cluster]\u001b[0m\n",
            "\u001b[2m\u001b[36m(ClientAppActor pid=1533871)\u001b[0m Epoch 7/15, Loss: 0.6972, Accuracy: 0.6937\u001b[32m [repeated 6x across cluster]\u001b[0m\n",
            "\u001b[2m\u001b[36m(ClientAppActor pid=1533871)\u001b[0m Epoch 10/15, Loss: 0.5777, Accuracy: 0.7562\u001b[32m [repeated 6x across cluster]\u001b[0m\n",
            "\u001b[2m\u001b[36m(ClientAppActor pid=1533872)\u001b[0m Epoch 13/15, Loss: 0.5052, Accuracy: 0.7937\u001b[32m [repeated 6x across cluster]\u001b[0m\n",
            "\u001b[2m\u001b[36m(ClientAppActor pid=1533872)\u001b[0m Epoch 1/15, Loss: 0.6960, Accuracy: 0.7083\u001b[32m [repeated 6x across cluster]\u001b[0m\n",
            "\u001b[2m\u001b[36m(ClientAppActor pid=1533871)\u001b[0m Epoch 4/15, Loss: 0.6637, Accuracy: 0.7333\u001b[32m [repeated 7x across cluster]\u001b[0m\n",
            "\u001b[2m\u001b[36m(ClientAppActor pid=1533871)\u001b[0m Epoch 7/15, Loss: 0.6100, Accuracy: 0.7646\u001b[32m [repeated 6x across cluster]\u001b[0m\n",
            "\u001b[2m\u001b[36m(ClientAppActor pid=1533871)\u001b[0m Epoch 10/15, Loss: 0.6012, Accuracy: 0.7479\u001b[32m [repeated 6x across cluster]\u001b[0m\n",
            "\u001b[2m\u001b[36m(ClientAppActor pid=1533872)\u001b[0m Epoch 14/15, Loss: 0.5368, Accuracy: 0.7854\u001b[32m [repeated 7x across cluster]\u001b[0m\n",
            "\u001b[2m\u001b[36m(ClientAppActor pid=1533872)\u001b[0m Epoch 2/15, Loss: 0.6876, Accuracy: 0.6917\u001b[32m [repeated 6x across cluster]\u001b[0m\n",
            "\u001b[2m\u001b[36m(ClientAppActor pid=1533872)\u001b[0m Epoch 5/15, Loss: 0.7426, Accuracy: 0.6958\u001b[32m [repeated 6x across cluster]\u001b[0m\n",
            "\u001b[2m\u001b[36m(ClientAppActor pid=1533871)\u001b[0m Epoch 8/15, Loss: 0.5515, Accuracy: 0.7542\u001b[32m [repeated 6x across cluster]\u001b[0m\n",
            "\u001b[2m\u001b[36m(ClientAppActor pid=1533871)\u001b[0m Epoch 11/15, Loss: 0.5618, Accuracy: 0.7562\u001b[32m [repeated 6x across cluster]\u001b[0m\n",
            "\u001b[2m\u001b[36m(ClientAppActor pid=1533872)\u001b[0m Epoch 14/15, Loss: 0.5729, Accuracy: 0.7958\u001b[32m [repeated 7x across cluster]\u001b[0m\n"
          ]
        },
        {
          "name": "stderr",
          "output_type": "stream",
          "text": [
            "\u001b[92mINFO \u001b[0m:      aggregate_fit: received 6 results and 0 failures\n",
            "\u001b[92mINFO \u001b[0m:      configure_evaluate: strategy sampled 6 clients (out of 6)\n"
          ]
        },
        {
          "name": "stdout",
          "output_type": "stream",
          "text": [
            "\u001b[2m\u001b[36m(ClientAppActor pid=1533872)\u001b[0m Test acc  0.41624365482233505\n",
            "\u001b[2m\u001b[36m(ClientAppActor pid=1533872)\u001b[0m Epoch 15/15, Loss: 0.5459, Accuracy: 0.7833\u001b[32m [repeated 2x across cluster]\u001b[0m\n"
          ]
        },
        {
          "name": "stderr",
          "output_type": "stream",
          "text": [
            "\u001b[92mINFO \u001b[0m:      aggregate_evaluate: received 6 results and 0 failures\n",
            "\u001b[92mINFO \u001b[0m:      \n",
            "\u001b[92mINFO \u001b[0m:      [ROUND 6]\n",
            "\u001b[92mINFO \u001b[0m:      configure_fit: strategy sampled 6 clients (out of 6)\n"
          ]
        },
        {
          "name": "stdout",
          "output_type": "stream",
          "text": [
            "\u001b[2m\u001b[36m(ClientAppActor pid=1533871)\u001b[0m Test acc  0.41624365482233505\u001b[32m [repeated 5x across cluster]\u001b[0m\n",
            "\u001b[2m\u001b[36m(ClientAppActor pid=1533872)\u001b[0m Epoch 2/15, Loss: 0.5982, Accuracy: 0.7292\u001b[32m [repeated 3x across cluster]\u001b[0m\n",
            "\u001b[2m\u001b[36m(ClientAppActor pid=1533871)\u001b[0m Epoch 5/15, Loss: 0.5103, Accuracy: 0.7979\u001b[32m [repeated 7x across cluster]\u001b[0m\n",
            "\u001b[2m\u001b[36m(ClientAppActor pid=1533871)\u001b[0m Epoch 8/15, Loss: 0.4484, Accuracy: 0.8250\u001b[32m [repeated 6x across cluster]\u001b[0m\n",
            "\u001b[2m\u001b[36m(ClientAppActor pid=1533871)\u001b[0m Epoch 11/15, Loss: 0.4151, Accuracy: 0.8417\u001b[32m [repeated 6x across cluster]\u001b[0m\n",
            "\u001b[2m\u001b[36m(ClientAppActor pid=1533871)\u001b[0m Epoch 14/15, Loss: 0.3734, Accuracy: 0.8542\u001b[32m [repeated 6x across cluster]\u001b[0m\n",
            "\u001b[2m\u001b[36m(ClientAppActor pid=1533871)\u001b[0m Epoch 2/15, Loss: 0.5760, Accuracy: 0.7438\u001b[32m [repeated 6x across cluster]\u001b[0m\n",
            "\u001b[2m\u001b[36m(ClientAppActor pid=1533871)\u001b[0m Epoch 5/15, Loss: 0.5014, Accuracy: 0.7812\u001b[32m [repeated 6x across cluster]\u001b[0m\n",
            "\u001b[2m\u001b[36m(ClientAppActor pid=1533871)\u001b[0m Epoch 8/15, Loss: 0.4532, Accuracy: 0.8042\u001b[32m [repeated 6x across cluster]\u001b[0m\n",
            "\u001b[2m\u001b[36m(ClientAppActor pid=1533871)\u001b[0m Epoch 11/15, Loss: 0.4093, Accuracy: 0.8313\u001b[32m [repeated 6x across cluster]\u001b[0m\n",
            "\u001b[2m\u001b[36m(ClientAppActor pid=1533871)\u001b[0m Epoch 14/15, Loss: 0.3535, Accuracy: 0.8583\u001b[32m [repeated 6x across cluster]\u001b[0m\n",
            "\u001b[2m\u001b[36m(ClientAppActor pid=1533871)\u001b[0m Epoch 2/15, Loss: 0.5824, Accuracy: 0.7521\u001b[32m [repeated 6x across cluster]\u001b[0m\n",
            "\u001b[2m\u001b[36m(ClientAppActor pid=1533872)\u001b[0m Epoch 6/15, Loss: 0.5304, Accuracy: 0.8042\u001b[32m [repeated 7x across cluster]\u001b[0m\n",
            "\u001b[2m\u001b[36m(ClientAppActor pid=1533871)\u001b[0m Epoch 9/15, Loss: 0.4727, Accuracy: 0.8125\u001b[32m [repeated 7x across cluster]\u001b[0m\n",
            "\u001b[2m\u001b[36m(ClientAppActor pid=1533872)\u001b[0m Epoch 13/15, Loss: 0.3921, Accuracy: 0.8688\u001b[32m [repeated 7x across cluster]\u001b[0m\n"
          ]
        },
        {
          "name": "stderr",
          "output_type": "stream",
          "text": [
            "\u001b[92mINFO \u001b[0m:      aggregate_fit: received 6 results and 0 failures\n",
            "\u001b[92mINFO \u001b[0m:      configure_evaluate: strategy sampled 6 clients (out of 6)\n"
          ]
        },
        {
          "name": "stdout",
          "output_type": "stream",
          "text": [
            "\u001b[2m\u001b[36m(ClientAppActor pid=1533871)\u001b[0m Test acc  0.4416243654822335\n",
            "\u001b[2m\u001b[36m(ClientAppActor pid=1533871)\u001b[0m Epoch 15/15, Loss: 0.3857, Accuracy: 0.8583\u001b[32m [repeated 5x across cluster]\u001b[0m\n"
          ]
        },
        {
          "name": "stderr",
          "output_type": "stream",
          "text": [
            "\u001b[92mINFO \u001b[0m:      aggregate_evaluate: received 6 results and 0 failures\n",
            "\u001b[92mINFO \u001b[0m:      \n",
            "\u001b[92mINFO \u001b[0m:      [ROUND 7]\n",
            "\u001b[92mINFO \u001b[0m:      configure_fit: strategy sampled 6 clients (out of 6)\n"
          ]
        },
        {
          "name": "stdout",
          "output_type": "stream",
          "text": [
            "\u001b[2m\u001b[36m(ClientAppActor pid=1533872)\u001b[0m Test acc  0.4416243654822335\u001b[32m [repeated 5x across cluster]\u001b[0m\n",
            "\u001b[2m\u001b[36m(ClientAppActor pid=1533871)\u001b[0m Epoch 1/15, Loss: 0.5088, Accuracy: 0.7896\n",
            "\u001b[2m\u001b[36m(ClientAppActor pid=1533872)\u001b[0m Epoch 1/15, Loss: 0.5269, Accuracy: 0.8313\n",
            "\u001b[2m\u001b[36m(ClientAppActor pid=1533872)\u001b[0m Epoch 4/15, Loss: 0.4462, Accuracy: 0.8187\u001b[32m [repeated 6x across cluster]\u001b[0m\n",
            "\u001b[2m\u001b[36m(ClientAppActor pid=1533872)\u001b[0m Epoch 7/15, Loss: 0.3814, Accuracy: 0.8562\u001b[32m [repeated 6x across cluster]\u001b[0m\n",
            "\u001b[2m\u001b[36m(ClientAppActor pid=1533872)\u001b[0m Epoch 10/15, Loss: 0.3223, Accuracy: 0.8750\u001b[32m [repeated 6x across cluster]\u001b[0m\n",
            "\u001b[2m\u001b[36m(ClientAppActor pid=1533872)\u001b[0m Epoch 13/15, Loss: 0.3338, Accuracy: 0.8729\u001b[32m [repeated 6x across cluster]\u001b[0m\n",
            "\u001b[2m\u001b[36m(ClientAppActor pid=1533872)\u001b[0m Epoch 1/15, Loss: 0.4480, Accuracy: 0.8292\u001b[32m [repeated 6x across cluster]\u001b[0m\n",
            "\u001b[2m\u001b[36m(ClientAppActor pid=1533872)\u001b[0m Epoch 4/15, Loss: 0.4438, Accuracy: 0.8417\u001b[32m [repeated 6x across cluster]\u001b[0m\n",
            "\u001b[2m\u001b[36m(ClientAppActor pid=1533872)\u001b[0m Epoch 7/15, Loss: 0.3958, Accuracy: 0.8333\u001b[32m [repeated 6x across cluster]\u001b[0m\n",
            "\u001b[2m\u001b[36m(ClientAppActor pid=1533872)\u001b[0m Epoch 10/15, Loss: 0.2905, Accuracy: 0.8833\u001b[32m [repeated 6x across cluster]\u001b[0m\n",
            "\u001b[2m\u001b[36m(ClientAppActor pid=1533872)\u001b[0m Epoch 13/15, Loss: 0.2200, Accuracy: 0.9354\u001b[32m [repeated 7x across cluster]\u001b[0m\n",
            "\u001b[2m\u001b[36m(ClientAppActor pid=1533871)\u001b[0m Epoch 2/15, Loss: 0.4790, Accuracy: 0.8229\u001b[32m [repeated 5x across cluster]\u001b[0m\n",
            "\u001b[2m\u001b[36m(ClientAppActor pid=1533871)\u001b[0m Epoch 5/15, Loss: 0.4146, Accuracy: 0.8479\u001b[32m [repeated 6x across cluster]\u001b[0m\n",
            "\u001b[2m\u001b[36m(ClientAppActor pid=1533871)\u001b[0m Epoch 8/15, Loss: 0.3773, Accuracy: 0.8604\u001b[32m [repeated 6x across cluster]\u001b[0m\n",
            "\u001b[2m\u001b[36m(ClientAppActor pid=1533872)\u001b[0m Epoch 10/15, Loss: 0.3399, Accuracy: 0.8688\u001b[32m [repeated 7x across cluster]\u001b[0m\n",
            "\u001b[2m\u001b[36m(ClientAppActor pid=1533872)\u001b[0m Epoch 13/15, Loss: 0.2894, Accuracy: 0.8958\u001b[32m [repeated 6x across cluster]\u001b[0m\n"
          ]
        },
        {
          "name": "stderr",
          "output_type": "stream",
          "text": [
            "\u001b[92mINFO \u001b[0m:      aggregate_fit: received 6 results and 0 failures\n",
            "\u001b[92mINFO \u001b[0m:      configure_evaluate: strategy sampled 6 clients (out of 6)\n"
          ]
        },
        {
          "name": "stdout",
          "output_type": "stream",
          "text": [
            "\u001b[2m\u001b[36m(ClientAppActor pid=1533872)\u001b[0m Test acc  0.49746192893401014\n",
            "\u001b[2m\u001b[36m(ClientAppActor pid=1533872)\u001b[0m Epoch 15/15, Loss: 0.3206, Accuracy: 0.8708\u001b[32m [repeated 3x across cluster]\u001b[0m\n"
          ]
        },
        {
          "name": "stderr",
          "output_type": "stream",
          "text": [
            "\u001b[92mINFO \u001b[0m:      aggregate_evaluate: received 6 results and 0 failures\n",
            "\u001b[92mINFO \u001b[0m:      \n",
            "\u001b[92mINFO \u001b[0m:      [ROUND 8]\n",
            "\u001b[92mINFO \u001b[0m:      configure_fit: strategy sampled 6 clients (out of 6)\n"
          ]
        },
        {
          "name": "stdout",
          "output_type": "stream",
          "text": [
            "\u001b[2m\u001b[36m(ClientAppActor pid=1533871)\u001b[0m Test acc  0.49746192893401014\u001b[32m [repeated 5x across cluster]\u001b[0m\n",
            "\u001b[2m\u001b[36m(ClientAppActor pid=1533872)\u001b[0m Epoch 1/15, Loss: 0.3753, Accuracy: 0.8562\n",
            "\u001b[2m\u001b[36m(ClientAppActor pid=1533871)\u001b[0m Epoch 1/15, Loss: 0.3936, Accuracy: 0.8417\n",
            "\u001b[2m\u001b[36m(ClientAppActor pid=1533871)\u001b[0m Epoch 2/15, Loss: 0.3907, Accuracy: 0.8562\n",
            "\u001b[2m\u001b[36m(ClientAppActor pid=1533872)\u001b[0m Epoch 4/15, Loss: 0.3705, Accuracy: 0.8604\u001b[32m [repeated 5x across cluster]\u001b[0m\n",
            "\u001b[2m\u001b[36m(ClientAppActor pid=1533872)\u001b[0m Epoch 7/15, Loss: 0.3062, Accuracy: 0.8792\u001b[32m [repeated 6x across cluster]\u001b[0m\n",
            "\u001b[2m\u001b[36m(ClientAppActor pid=1533872)\u001b[0m Epoch 10/15, Loss: 0.2235, Accuracy: 0.9333\u001b[32m [repeated 6x across cluster]\u001b[0m\n",
            "\u001b[2m\u001b[36m(ClientAppActor pid=1533872)\u001b[0m Epoch 13/15, Loss: 0.1415, Accuracy: 0.9646\u001b[32m [repeated 6x across cluster]\u001b[0m\n",
            "\u001b[2m\u001b[36m(ClientAppActor pid=1533872)\u001b[0m Epoch 1/15, Loss: 0.3844, Accuracy: 0.8229\u001b[32m [repeated 6x across cluster]\u001b[0m\n",
            "\u001b[2m\u001b[36m(ClientAppActor pid=1533872)\u001b[0m Epoch 4/15, Loss: 0.3435, Accuracy: 0.8625\u001b[32m [repeated 6x across cluster]\u001b[0m\n",
            "\u001b[2m\u001b[36m(ClientAppActor pid=1533872)\u001b[0m Epoch 7/15, Loss: 0.2971, Accuracy: 0.8750\u001b[32m [repeated 6x across cluster]\u001b[0m\n",
            "\u001b[2m\u001b[36m(ClientAppActor pid=1533871)\u001b[0m Epoch 12/15, Loss: 0.2240, Accuracy: 0.9271\u001b[32m [repeated 8x across cluster]\u001b[0m\n",
            "\u001b[2m\u001b[36m(ClientAppActor pid=1533872)\u001b[0m Epoch 14/15, Loss: 0.2124, Accuracy: 0.9187\u001b[32m [repeated 7x across cluster]\u001b[0m\n",
            "\u001b[2m\u001b[36m(ClientAppActor pid=1533871)\u001b[0m Epoch 3/15, Loss: 0.3720, Accuracy: 0.8521\u001b[32m [repeated 5x across cluster]\u001b[0m\n",
            "\u001b[2m\u001b[36m(ClientAppActor pid=1533872)\u001b[0m Epoch 5/15, Loss: 0.3753, Accuracy: 0.8583\u001b[32m [repeated 6x across cluster]\u001b[0m\n",
            "\u001b[2m\u001b[36m(ClientAppActor pid=1533871)\u001b[0m Epoch 9/15, Loss: 0.2858, Accuracy: 0.8979\u001b[32m [repeated 7x across cluster]\u001b[0m\n",
            "\u001b[2m\u001b[36m(ClientAppActor pid=1533871)\u001b[0m Epoch 12/15, Loss: 0.2714, Accuracy: 0.9104\u001b[32m [repeated 6x across cluster]\u001b[0m\n"
          ]
        },
        {
          "name": "stderr",
          "output_type": "stream",
          "text": [
            "\u001b[92mINFO \u001b[0m:      aggregate_fit: received 6 results and 0 failures\n"
          ]
        },
        {
          "name": "stdout",
          "output_type": "stream",
          "text": [
            "\u001b[2m\u001b[36m(ClientAppActor pid=1533872)\u001b[0m Epoch 15/15, Loss: 0.1642, Accuracy: 0.9521\u001b[32m [repeated 7x across cluster]\u001b[0m\n"
          ]
        },
        {
          "name": "stderr",
          "output_type": "stream",
          "text": [
            "\u001b[92mINFO \u001b[0m:      configure_evaluate: strategy sampled 6 clients (out of 6)\n"
          ]
        },
        {
          "name": "stdout",
          "output_type": "stream",
          "text": [
            "\u001b[2m\u001b[36m(ClientAppActor pid=1533872)\u001b[0m Test acc  0.5126903553299492\n"
          ]
        },
        {
          "name": "stderr",
          "output_type": "stream",
          "text": [
            "\u001b[92mINFO \u001b[0m:      aggregate_evaluate: received 6 results and 0 failures\n",
            "\u001b[92mINFO \u001b[0m:      \n",
            "\u001b[92mINFO \u001b[0m:      [ROUND 9]\n",
            "\u001b[92mINFO \u001b[0m:      configure_fit: strategy sampled 6 clients (out of 6)\n"
          ]
        },
        {
          "name": "stdout",
          "output_type": "stream",
          "text": [
            "\u001b[2m\u001b[36m(ClientAppActor pid=1533871)\u001b[0m Epoch 1/15, Loss: 0.3476, Accuracy: 0.8562\n",
            "\u001b[2m\u001b[36m(ClientAppActor pid=1533871)\u001b[0m Test acc  0.5126903553299492\u001b[32m [repeated 5x across cluster]\u001b[0m\n",
            "\u001b[2m\u001b[36m(ClientAppActor pid=1533871)\u001b[0m Epoch 4/15, Loss: 0.2417, Accuracy: 0.9250\u001b[32m [repeated 6x across cluster]\u001b[0m\n",
            "\u001b[2m\u001b[36m(ClientAppActor pid=1533871)\u001b[0m Epoch 7/15, Loss: 0.3259, Accuracy: 0.8667\u001b[32m [repeated 6x across cluster]\u001b[0m\n",
            "\u001b[2m\u001b[36m(ClientAppActor pid=1533872)\u001b[0m Epoch 10/15, Loss: 0.2342, Accuracy: 0.9083\u001b[32m [repeated 7x across cluster]\u001b[0m\n",
            "\u001b[2m\u001b[36m(ClientAppActor pid=1533872)\u001b[0m Epoch 13/15, Loss: 0.1498, Accuracy: 0.9521\u001b[32m [repeated 6x across cluster]\u001b[0m\n",
            "\u001b[2m\u001b[36m(ClientAppActor pid=1533872)\u001b[0m Epoch 1/15, Loss: 0.2913, Accuracy: 0.8854\u001b[32m [repeated 6x across cluster]\u001b[0m\n",
            "\u001b[2m\u001b[36m(ClientAppActor pid=1533872)\u001b[0m Epoch 4/15, Loss: 0.2025, Accuracy: 0.9229\u001b[32m [repeated 6x across cluster]\u001b[0m\n",
            "\u001b[2m\u001b[36m(ClientAppActor pid=1533871)\u001b[0m Epoch 8/15, Loss: 0.1853, Accuracy: 0.9458\u001b[32m [repeated 7x across cluster]\u001b[0m\n",
            "\u001b[2m\u001b[36m(ClientAppActor pid=1533872)\u001b[0m Epoch 11/15, Loss: 0.0936, Accuracy: 0.9729\u001b[32m [repeated 6x across cluster]\u001b[0m\n",
            "\u001b[2m\u001b[36m(ClientAppActor pid=1533871)\u001b[0m Epoch 14/15, Loss: 0.1382, Accuracy: 0.9417\u001b[32m [repeated 7x across cluster]\u001b[0m\n",
            "\u001b[2m\u001b[36m(ClientAppActor pid=1533871)\u001b[0m Epoch 2/15, Loss: 0.2758, Accuracy: 0.8938\u001b[32m [repeated 6x across cluster]\u001b[0m\n",
            "\u001b[2m\u001b[36m(ClientAppActor pid=1533872)\u001b[0m Epoch 6/15, Loss: 0.2459, Accuracy: 0.9042\u001b[32m [repeated 6x across cluster]\u001b[0m\n",
            "\u001b[2m\u001b[36m(ClientAppActor pid=1533871)\u001b[0m Epoch 8/15, Loss: 0.1685, Accuracy: 0.9521\u001b[32m [repeated 7x across cluster]\u001b[0m\n",
            "\u001b[2m\u001b[36m(ClientAppActor pid=1533871)\u001b[0m Epoch 11/15, Loss: 0.1460, Accuracy: 0.9583\u001b[32m [repeated 6x across cluster]\u001b[0m\n",
            "\u001b[2m\u001b[36m(ClientAppActor pid=1533871)\u001b[0m Epoch 14/15, Loss: 0.0774, Accuracy: 0.9812\u001b[32m [repeated 6x across cluster]\u001b[0m\n"
          ]
        },
        {
          "name": "stderr",
          "output_type": "stream",
          "text": [
            "\u001b[92mINFO \u001b[0m:      aggregate_fit: received 6 results and 0 failures\n",
            "\u001b[92mINFO \u001b[0m:      configure_evaluate: strategy sampled 6 clients (out of 6)\n"
          ]
        },
        {
          "name": "stdout",
          "output_type": "stream",
          "text": [
            "\u001b[2m\u001b[36m(ClientAppActor pid=1533871)\u001b[0m Test acc  0.5532994923857868\n",
            "\u001b[2m\u001b[36m(ClientAppActor pid=1533871)\u001b[0m Epoch 15/15, Loss: 0.0777, Accuracy: 0.9812\n"
          ]
        },
        {
          "name": "stderr",
          "output_type": "stream",
          "text": [
            "\u001b[92mINFO \u001b[0m:      aggregate_evaluate: received 6 results and 0 failures\n",
            "\u001b[92mINFO \u001b[0m:      \n",
            "\u001b[92mINFO \u001b[0m:      [ROUND 10]\n",
            "\u001b[92mINFO \u001b[0m:      configure_fit: strategy sampled 6 clients (out of 6)\n"
          ]
        },
        {
          "name": "stdout",
          "output_type": "stream",
          "text": [
            "\u001b[2m\u001b[36m(ClientAppActor pid=1533871)\u001b[0m Epoch 1/15, Loss: 0.2933, Accuracy: 0.8854\n",
            "\u001b[2m\u001b[36m(ClientAppActor pid=1533871)\u001b[0m Test acc  0.5532994923857868\u001b[32m [repeated 5x across cluster]\u001b[0m\n",
            "\u001b[2m\u001b[36m(ClientAppActor pid=1533872)\u001b[0m Epoch 4/15, Loss: 0.1368, Accuracy: 0.9646\u001b[32m [repeated 7x across cluster]\u001b[0m\n",
            "\u001b[2m\u001b[36m(ClientAppActor pid=1533871)\u001b[0m Epoch 8/15, Loss: 0.1425, Accuracy: 0.9521\u001b[32m [repeated 7x across cluster]\u001b[0m\n",
            "\u001b[2m\u001b[36m(ClientAppActor pid=1533872)\u001b[0m Epoch 11/15, Loss: 0.0814, Accuracy: 0.9708\u001b[32m [repeated 7x across cluster]\u001b[0m\n",
            "\u001b[2m\u001b[36m(ClientAppActor pid=1533871)\u001b[0m Epoch 15/15, Loss: 0.0543, Accuracy: 0.9875\u001b[32m [repeated 7x across cluster]\u001b[0m\n",
            "\u001b[2m\u001b[36m(ClientAppActor pid=1533871)\u001b[0m Epoch 3/15, Loss: 0.2379, Accuracy: 0.9083\u001b[32m [repeated 6x across cluster]\u001b[0m\n",
            "\u001b[2m\u001b[36m(ClientAppActor pid=1533871)\u001b[0m Epoch 6/15, Loss: 0.1678, Accuracy: 0.9437\u001b[32m [repeated 6x across cluster]\u001b[0m\n",
            "\u001b[2m\u001b[36m(ClientAppActor pid=1533871)\u001b[0m Epoch 9/15, Loss: 0.1115, Accuracy: 0.9688\u001b[32m [repeated 6x across cluster]\u001b[0m\n",
            "\u001b[2m\u001b[36m(ClientAppActor pid=1533871)\u001b[0m Epoch 12/15, Loss: 0.1539, Accuracy: 0.9333\u001b[32m [repeated 6x across cluster]\u001b[0m\n",
            "\u001b[2m\u001b[36m(ClientAppActor pid=1533871)\u001b[0m Epoch 15/15, Loss: 0.0666, Accuracy: 0.9896\u001b[32m [repeated 6x across cluster]\u001b[0m\n",
            "\u001b[2m\u001b[36m(ClientAppActor pid=1533872)\u001b[0m Epoch 3/15, Loss: 0.1865, Accuracy: 0.9313\u001b[32m [repeated 6x across cluster]\u001b[0m\n",
            "\u001b[2m\u001b[36m(ClientAppActor pid=1533871)\u001b[0m Epoch 6/15, Loss: 0.1533, Accuracy: 0.9583\u001b[32m [repeated 7x across cluster]\u001b[0m\n",
            "\u001b[2m\u001b[36m(ClientAppActor pid=1533871)\u001b[0m Epoch 9/15, Loss: 0.1096, Accuracy: 0.9667\u001b[32m [repeated 6x across cluster]\u001b[0m\n",
            "\u001b[2m\u001b[36m(ClientAppActor pid=1533871)\u001b[0m Epoch 12/15, Loss: 0.1040, Accuracy: 0.9729\u001b[32m [repeated 6x across cluster]\u001b[0m\n"
          ]
        },
        {
          "name": "stderr",
          "output_type": "stream",
          "text": [
            "\u001b[92mINFO \u001b[0m:      aggregate_fit: received 6 results and 0 failures\n"
          ]
        },
        {
          "name": "stdout",
          "output_type": "stream",
          "text": [
            "\u001b[2m\u001b[36m(ClientAppActor pid=1533871)\u001b[0m Epoch 15/15, Loss: 0.0582, Accuracy: 0.9875\u001b[32m [repeated 6x across cluster]\u001b[0m\n"
          ]
        },
        {
          "name": "stderr",
          "output_type": "stream",
          "text": [
            "\u001b[92mINFO \u001b[0m:      configure_evaluate: strategy sampled 6 clients (out of 6)\n"
          ]
        },
        {
          "name": "stdout",
          "output_type": "stream",
          "text": [
            "\u001b[2m\u001b[36m(ClientAppActor pid=1533872)\u001b[0m Test acc  0.5609137055837563\n"
          ]
        },
        {
          "name": "stderr",
          "output_type": "stream",
          "text": [
            "\u001b[92mINFO \u001b[0m:      aggregate_evaluate: received 6 results and 0 failures\n",
            "\u001b[92mINFO \u001b[0m:      \n",
            "\u001b[92mINFO \u001b[0m:      [SUMMARY]\n",
            "\u001b[92mINFO \u001b[0m:      Run finished 10 rounds in 845.33s\n",
            "\u001b[92mINFO \u001b[0m:      History (loss, distributed):\n",
            "\u001b[92mINFO \u001b[0m:      \t('\\tround 1: 0.03225724467166185\\n'\n",
            "\u001b[92mINFO \u001b[0m:      \t '\\tround 2: 0.03152489057047113\\n'\n",
            "\u001b[92mINFO \u001b[0m:      \t '\\tround 3: 0.036151506876582425\\n'\n",
            "\u001b[92mINFO \u001b[0m:      \t '\\tround 4: 0.04042475008722489\\n'\n",
            "\u001b[92mINFO \u001b[0m:      \t '\\tround 5: 0.047663221807044166\\n'\n",
            "\u001b[92mINFO \u001b[0m:      \t '\\tround 6: 0.057225135982339144\\n'\n",
            "\u001b[92mINFO \u001b[0m:      \t '\\tround 7: 0.06422449897993641\\n'\n",
            "\u001b[92mINFO \u001b[0m:      \t '\\tround 8: 0.07343810289946909\\n'\n",
            "\u001b[92mINFO \u001b[0m:      \t '\\tround 9: 0.08293635621288706\\n'\n",
            "\u001b[92mINFO \u001b[0m:      \t '\\tround 10: 0.09493410662951203\\n')History (metrics, distributed, evaluate):\n",
            "\u001b[92mINFO \u001b[0m:      \t{'accuracy': [(1, 0.3527918781725888),\n",
            "\u001b[92mINFO \u001b[0m:      \t              (2, 0.33248730964467005),\n",
            "\u001b[92mINFO \u001b[0m:      \t              (3, 0.33502538071065985),\n",
            "\u001b[92mINFO \u001b[0m:      \t              (4, 0.36294416243654826),\n",
            "\u001b[92mINFO \u001b[0m:      \t              (5, 0.41624365482233505),\n",
            "\u001b[92mINFO \u001b[0m:      \t              (6, 0.4416243654822335),\n",
            "\u001b[92mINFO \u001b[0m:      \t              (7, 0.4974619289340102),\n",
            "\u001b[92mINFO \u001b[0m:      \t              (8, 0.5126903553299493),\n",
            "\u001b[92mINFO \u001b[0m:      \t              (9, 0.5532994923857868),\n",
            "\u001b[92mINFO \u001b[0m:      \t              (10, 0.5609137055837563)]}\n",
            "\u001b[92mINFO \u001b[0m:      \n"
          ]
        },
        {
          "data": {
            "text/plain": [
              "History (loss, distributed):\n",
              "('\\tround 1: 0.03225724467166185\\n'\n",
              " '\\tround 2: 0.03152489057047113\\n'\n",
              " '\\tround 3: 0.036151506876582425\\n'\n",
              " '\\tround 4: 0.04042475008722489\\n'\n",
              " '\\tround 5: 0.047663221807044166\\n'\n",
              " '\\tround 6: 0.057225135982339144\\n'\n",
              " '\\tround 7: 0.06422449897993641\\n'\n",
              " '\\tround 8: 0.07343810289946909\\n'\n",
              " '\\tround 9: 0.08293635621288706\\n'\n",
              " '\\tround 10: 0.09493410662951203\\n')History (metrics, distributed, evaluate):\n",
              "{'accuracy': [(1, 0.3527918781725888),\n",
              "              (2, 0.33248730964467005),\n",
              "              (3, 0.33502538071065985),\n",
              "              (4, 0.36294416243654826),\n",
              "              (5, 0.41624365482233505),\n",
              "              (6, 0.4416243654822335),\n",
              "              (7, 0.4974619289340102),\n",
              "              (8, 0.5126903553299493),\n",
              "              (9, 0.5532994923857868),\n",
              "              (10, 0.5609137055837563)]}"
            ]
          },
          "execution_count": 16,
          "metadata": {},
          "output_type": "execute_result"
        }
      ],
      "source": [
        "\n",
        "# Specify the resources each of clients need. By default, each\n",
        "# client will be allocated 1x CPU and 0x GPUs\n",
        "client_resources = {\"num_cpus\": 1, \"num_gpus\": 0.0}\n",
        "if DEVICE.type == \"cuda\":\n",
        "    # here we are assigning an entire GPU for each client.\n",
        "    client_resources = {\"num_cpus\": 1, \"num_gpus\": 1.0}\n",
        "    # Refer to our documentation for more details about Flower Simulations\n",
        "    # and how to setup these `client_resources`\n",
        "\n",
        "strategy = fl.server.strategy.FedAvg(\n",
        "    fraction_fit=1.0,  # Sample 100% of available clients for training\n",
        " #   fraction_evaluate=0.5,  # Sample 50% of available clients for evaluation\n",
        "   min_fit_clients=6,  # Never sample less than 10 clients for training\n",
        "    min_evaluate_clients=6,  # Never sample less than 5 clients for evaluation\n",
        "\n",
        "\n",
        "    min_available_clients=6,  # Wait until all 10 clients are available\n",
        "   evaluate_metrics_aggregation_fn=weighted_average,\n",
        ")\n",
        "NUM_CLIENTS=6\n",
        "# Start simulation\n",
        "fl.simulation.start_simulation(\n",
        "    client_fn=client_fn,\n",
        "    num_clients=NUM_CLIENTS,\n",
        "    config=fl.server.ServerConfig(num_rounds=10),\n",
        "    strategy=strategy,\n",
        "    client_resources=client_resources,\n",
        ")"
      ]
    },
    {
      "cell_type": "code",
      "execution_count": null,
      "metadata": {
        "id": "vvKSJSbJcP-I",
        "outputId": "1dae442a-45e8-4c65-84e7-02f65af8bb70"
      },
      "outputs": [
        {
          "name": "stderr",
          "output_type": "stream",
          "text": [
            "\u001b[92mINFO \u001b[0m:      Starting Flower simulation, config: num_rounds=30, no round_timeout\n",
            "2024-05-13 12:17:49,863\tINFO worker.py:1621 -- Started a local Ray instance.\n",
            "\u001b[92mINFO \u001b[0m:      Flower VCE: Ray initialized with resources: {'object_store_memory': 23879997849.0, 'GPU': 2.0, 'CPU': 24.0, 'memory': 47759995700.0, 'node:130.232.102.158': 1.0, 'accelerator_type:TITAN': 1.0, 'node:__internal_head__': 1.0}\n",
            "\u001b[92mINFO \u001b[0m:      Optimize your simulation with Flower VCE: https://flower.ai/docs/framework/how-to-run-simulations.html\n",
            "\u001b[92mINFO \u001b[0m:      Flower VCE: Resources for each Virtual Client: {'num_cpus': 1, 'num_gpus': 1.0}\n",
            "\u001b[92mINFO \u001b[0m:      Flower VCE: Creating VirtualClientEngineActorPool with 2 actors\n",
            "\u001b[92mINFO \u001b[0m:      [INIT]\n",
            "\u001b[92mINFO \u001b[0m:      Requesting initial parameters from one random client\n",
            "\u001b[92mINFO \u001b[0m:      Received initial parameters from one random client\n",
            "\u001b[92mINFO \u001b[0m:      Evaluating initial global parameters\n",
            "\u001b[92mINFO \u001b[0m:      \n",
            "\u001b[92mINFO \u001b[0m:      [ROUND 1]\n",
            "\u001b[92mINFO \u001b[0m:      configure_fit: strategy sampled 6 clients (out of 6)\n"
          ]
        },
        {
          "name": "stdout",
          "output_type": "stream",
          "text": [
            "\u001b[2m\u001b[36m(ClientAppActor pid=1536476)\u001b[0m Epoch 1/15, Loss: 1.3814, Accuracy: 0.2562\n",
            "\u001b[2m\u001b[36m(ClientAppActor pid=1536476)\u001b[0m Epoch 2/15, Loss: 1.3760, Accuracy: 0.2562\n",
            "\u001b[2m\u001b[36m(ClientAppActor pid=1536476)\u001b[0m Epoch 4/15, Loss: 1.3678, Accuracy: 0.2875\u001b[32m [repeated 4x across cluster]\u001b[0m\n",
            "\u001b[2m\u001b[36m(ClientAppActor pid=1536476)\u001b[0m Epoch 7/15, Loss: 1.3594, Accuracy: 0.3042\u001b[32m [repeated 6x across cluster]\u001b[0m\n",
            "\u001b[2m\u001b[36m(ClientAppActor pid=1536476)\u001b[0m Epoch 10/15, Loss: 1.3556, Accuracy: 0.3167\u001b[32m [repeated 6x across cluster]\u001b[0m\n",
            "\u001b[2m\u001b[36m(ClientAppActor pid=1536476)\u001b[0m Epoch 13/15, Loss: 1.3520, Accuracy: 0.3667\u001b[32m [repeated 6x across cluster]\u001b[0m\n",
            "\u001b[2m\u001b[36m(ClientAppActor pid=1536475)\u001b[0m Epoch 14/15, Loss: 1.3384, Accuracy: 0.3000\u001b[32m [repeated 5x across cluster]\u001b[0m\n",
            "\u001b[2m\u001b[36m(ClientAppActor pid=1536475)\u001b[0m Epoch 2/15, Loss: 1.3661, Accuracy: 0.3167\u001b[32m [repeated 6x across cluster]\u001b[0m\n",
            "\u001b[2m\u001b[36m(ClientAppActor pid=1536475)\u001b[0m Epoch 5/15, Loss: 1.3323, Accuracy: 0.3625\u001b[32m [repeated 6x across cluster]\u001b[0m\n",
            "\u001b[2m\u001b[36m(ClientAppActor pid=1536475)\u001b[0m Epoch 8/15, Loss: 1.3148, Accuracy: 0.3625\u001b[32m [repeated 6x across cluster]\u001b[0m\n",
            "\u001b[2m\u001b[36m(ClientAppActor pid=1536475)\u001b[0m Epoch 11/15, Loss: 1.3096, Accuracy: 0.3625\u001b[32m [repeated 6x across cluster]\u001b[0m\n",
            "\u001b[2m\u001b[36m(ClientAppActor pid=1536475)\u001b[0m Epoch 14/15, Loss: 1.3040, Accuracy: 0.3625\u001b[32m [repeated 6x across cluster]\u001b[0m\n",
            "\u001b[2m\u001b[36m(ClientAppActor pid=1536476)\u001b[0m Epoch 4/15, Loss: 1.3520, Accuracy: 0.3229\u001b[32m [repeated 6x across cluster]\u001b[0m\n",
            "\u001b[2m\u001b[36m(ClientAppActor pid=1536475)\u001b[0m Epoch 5/15, Loss: 1.3439, Accuracy: 0.3042\u001b[32m [repeated 7x across cluster]\u001b[0m\n",
            "\u001b[2m\u001b[36m(ClientAppActor pid=1536475)\u001b[0m Epoch 8/15, Loss: 1.3274, Accuracy: 0.3417\u001b[32m [repeated 6x across cluster]\u001b[0m\n",
            "\u001b[2m\u001b[36m(ClientAppActor pid=1536475)\u001b[0m Epoch 11/15, Loss: 1.3221, Accuracy: 0.3021\u001b[32m [repeated 6x across cluster]\u001b[0m\n",
            "\u001b[2m\u001b[36m(ClientAppActor pid=1536475)\u001b[0m Epoch 14/15, Loss: 1.3153, Accuracy: 0.3167\u001b[32m [repeated 5x across cluster]\u001b[0m\n"
          ]
        },
        {
          "name": "stderr",
          "output_type": "stream",
          "text": [
            "\u001b[92mINFO \u001b[0m:      aggregate_fit: received 6 results and 0 failures\n",
            "\u001b[93mWARNING \u001b[0m:   No fit_metrics_aggregation_fn provided\n",
            "\u001b[92mINFO \u001b[0m:      configure_evaluate: strategy sampled 6 clients (out of 6)\n"
          ]
        },
        {
          "name": "stdout",
          "output_type": "stream",
          "text": [
            "\u001b[2m\u001b[36m(ClientAppActor pid=1536476)\u001b[0m Test acc  0.35279187817258884\n",
            "\u001b[2m\u001b[36m(ClientAppActor pid=1536475)\u001b[0m Epoch 15/15, Loss: 1.3128, Accuracy: 0.3187\n"
          ]
        },
        {
          "name": "stderr",
          "output_type": "stream",
          "text": [
            "\u001b[92mINFO \u001b[0m:      aggregate_evaluate: received 6 results and 0 failures\n",
            "\u001b[92mINFO \u001b[0m:      \n",
            "\u001b[92mINFO \u001b[0m:      [ROUND 2]\n",
            "\u001b[92mINFO \u001b[0m:      configure_fit: strategy sampled 6 clients (out of 6)\n"
          ]
        },
        {
          "name": "stdout",
          "output_type": "stream",
          "text": [
            "\u001b[2m\u001b[36m(ClientAppActor pid=1536476)\u001b[0m Epoch 1/15, Loss: 1.3251, Accuracy: 0.3208\n",
            "\u001b[2m\u001b[36m(ClientAppActor pid=1536475)\u001b[0m Test acc  0.35279187817258884\u001b[32m [repeated 5x across cluster]\u001b[0m\n",
            "\u001b[2m\u001b[36m(ClientAppActor pid=1536475)\u001b[0m Epoch 4/15, Loss: 1.3058, Accuracy: 0.3396\u001b[32m [repeated 7x across cluster]\u001b[0m\n",
            "\u001b[2m\u001b[36m(ClientAppActor pid=1536475)\u001b[0m Epoch 7/15, Loss: 1.2894, Accuracy: 0.4917\u001b[32m [repeated 6x across cluster]\u001b[0m\n",
            "\u001b[2m\u001b[36m(ClientAppActor pid=1536475)\u001b[0m Epoch 10/15, Loss: 1.2495, Accuracy: 0.5062\u001b[32m [repeated 6x across cluster]\u001b[0m\n",
            "\u001b[2m\u001b[36m(ClientAppActor pid=1536475)\u001b[0m Epoch 13/15, Loss: 1.1657, Accuracy: 0.5167\u001b[32m [repeated 6x across cluster]\u001b[0m\n",
            "\u001b[2m\u001b[36m(ClientAppActor pid=1536475)\u001b[0m Epoch 1/15, Loss: 1.3223, Accuracy: 0.3479\u001b[32m [repeated 6x across cluster]\u001b[0m\n",
            "\u001b[2m\u001b[36m(ClientAppActor pid=1536475)\u001b[0m Epoch 4/15, Loss: 1.3099, Accuracy: 0.3396\u001b[32m [repeated 6x across cluster]\u001b[0m\n",
            "\u001b[2m\u001b[36m(ClientAppActor pid=1536476)\u001b[0m Epoch 8/15, Loss: 1.2666, Accuracy: 0.3750\u001b[32m [repeated 6x across cluster]\u001b[0m\n",
            "\u001b[2m\u001b[36m(ClientAppActor pid=1536476)\u001b[0m Epoch 11/15, Loss: 1.2094, Accuracy: 0.4562\u001b[32m [repeated 6x across cluster]\u001b[0m\n",
            "\u001b[2m\u001b[36m(ClientAppActor pid=1536475)\u001b[0m Epoch 13/15, Loss: 1.2077, Accuracy: 0.4875\u001b[32m [repeated 7x across cluster]\u001b[0m\n",
            "\u001b[2m\u001b[36m(ClientAppActor pid=1536475)\u001b[0m Epoch 1/15, Loss: 1.3376, Accuracy: 0.3250\u001b[32m [repeated 6x across cluster]\u001b[0m\n",
            "\u001b[2m\u001b[36m(ClientAppActor pid=1536475)\u001b[0m Epoch 4/15, Loss: 1.3267, Accuracy: 0.3125\u001b[32m [repeated 6x across cluster]\u001b[0m\n",
            "\u001b[2m\u001b[36m(ClientAppActor pid=1536476)\u001b[0m Epoch 9/15, Loss: 1.3090, Accuracy: 0.4792\u001b[32m [repeated 6x across cluster]\u001b[0m\n",
            "\u001b[2m\u001b[36m(ClientAppActor pid=1536475)\u001b[0m Epoch 10/15, Loss: 1.2660, Accuracy: 0.5125\u001b[32m [repeated 7x across cluster]\u001b[0m\n",
            "\u001b[2m\u001b[36m(ClientAppActor pid=1536475)\u001b[0m Epoch 13/15, Loss: 1.1741, Accuracy: 0.5542\u001b[32m [repeated 6x across cluster]\u001b[0m\n"
          ]
        },
        {
          "name": "stderr",
          "output_type": "stream",
          "text": [
            "\u001b[92mINFO \u001b[0m:      aggregate_fit: received 6 results and 0 failures\n",
            "\u001b[92mINFO \u001b[0m:      configure_evaluate: strategy sampled 6 clients (out of 6)\n"
          ]
        },
        {
          "name": "stdout",
          "output_type": "stream",
          "text": [
            "\u001b[2m\u001b[36m(ClientAppActor pid=1536475)\u001b[0m Test acc  0.3350253807106599\n",
            "\u001b[2m\u001b[36m(ClientAppActor pid=1536475)\u001b[0m Epoch 15/15, Loss: 1.0822, Accuracy: 0.5729\u001b[32m [repeated 2x across cluster]\u001b[0m\n"
          ]
        },
        {
          "name": "stderr",
          "output_type": "stream",
          "text": [
            "\u001b[92mINFO \u001b[0m:      aggregate_evaluate: received 6 results and 0 failures\n",
            "\u001b[92mINFO \u001b[0m:      \n",
            "\u001b[92mINFO \u001b[0m:      [ROUND 3]\n",
            "\u001b[92mINFO \u001b[0m:      configure_fit: strategy sampled 6 clients (out of 6)\n"
          ]
        },
        {
          "name": "stdout",
          "output_type": "stream",
          "text": [
            "\u001b[2m\u001b[36m(ClientAppActor pid=1536475)\u001b[0m Test acc  0.3350253807106599\u001b[32m [repeated 5x across cluster]\u001b[0m\n",
            "\u001b[2m\u001b[36m(ClientAppActor pid=1536476)\u001b[0m Epoch 1/15, Loss: 1.0898, Accuracy: 0.5687\n",
            "\u001b[2m\u001b[36m(ClientAppActor pid=1536475)\u001b[0m Epoch 1/15, Loss: 1.1044, Accuracy: 0.5208\n",
            "\u001b[2m\u001b[36m(ClientAppActor pid=1536476)\u001b[0m Epoch 4/15, Loss: 1.0010, Accuracy: 0.5792\u001b[32m [repeated 5x across cluster]\u001b[0m\n",
            "\u001b[2m\u001b[36m(ClientAppActor pid=1536475)\u001b[0m Epoch 7/15, Loss: 1.0456, Accuracy: 0.5750\u001b[32m [repeated 7x across cluster]\u001b[0m\n",
            "\u001b[2m\u001b[36m(ClientAppActor pid=1536476)\u001b[0m Epoch 11/15, Loss: 1.0178, Accuracy: 0.5792\u001b[32m [repeated 7x across cluster]\u001b[0m\n",
            "\u001b[2m\u001b[36m(ClientAppActor pid=1536476)\u001b[0m Epoch 14/15, Loss: 0.8948, Accuracy: 0.6229\u001b[32m [repeated 6x across cluster]\u001b[0m\n",
            "\u001b[2m\u001b[36m(ClientAppActor pid=1536476)\u001b[0m Epoch 2/15, Loss: 1.0661, Accuracy: 0.5208\u001b[32m [repeated 6x across cluster]\u001b[0m\n",
            "\u001b[2m\u001b[36m(ClientAppActor pid=1536475)\u001b[0m Epoch 5/15, Loss: 0.9959, Accuracy: 0.5521\u001b[32m [repeated 7x across cluster]\u001b[0m\n",
            "\u001b[2m\u001b[36m(ClientAppActor pid=1536475)\u001b[0m Epoch 8/15, Loss: 0.9435, Accuracy: 0.6208\u001b[32m [repeated 6x across cluster]\u001b[0m\n",
            "\u001b[2m\u001b[36m(ClientAppActor pid=1536475)\u001b[0m Epoch 11/15, Loss: 0.8852, Accuracy: 0.6312\u001b[32m [repeated 6x across cluster]\u001b[0m\n",
            "\u001b[2m\u001b[36m(ClientAppActor pid=1536476)\u001b[0m Epoch 15/15, Loss: 0.8663, Accuracy: 0.6500\u001b[32m [repeated 6x across cluster]\u001b[0m\n",
            "\u001b[2m\u001b[36m(ClientAppActor pid=1536476)\u001b[0m Epoch 3/15, Loss: 0.9818, Accuracy: 0.6083\u001b[32m [repeated 6x across cluster]\u001b[0m\n",
            "\u001b[2m\u001b[36m(ClientAppActor pid=1536475)\u001b[0m Epoch 5/15, Loss: 1.0056, Accuracy: 0.5563\u001b[32m [repeated 7x across cluster]\u001b[0m\n",
            "\u001b[2m\u001b[36m(ClientAppActor pid=1536476)\u001b[0m Epoch 10/15, Loss: 0.8512, Accuracy: 0.6708\u001b[32m [repeated 7x across cluster]\u001b[0m\n",
            "\u001b[2m\u001b[36m(ClientAppActor pid=1536475)\u001b[0m Epoch 12/15, Loss: 0.9218, Accuracy: 0.6042\u001b[32m [repeated 7x across cluster]\u001b[0m\n"
          ]
        },
        {
          "name": "stderr",
          "output_type": "stream",
          "text": [
            "\u001b[92mINFO \u001b[0m:      aggregate_fit: received 6 results and 0 failures\n"
          ]
        },
        {
          "name": "stdout",
          "output_type": "stream",
          "text": [
            "\u001b[2m\u001b[36m(ClientAppActor pid=1536475)\u001b[0m Epoch 15/15, Loss: 0.8543, Accuracy: 0.6458\u001b[32m [repeated 5x across cluster]\u001b[0m\n"
          ]
        },
        {
          "name": "stderr",
          "output_type": "stream",
          "text": [
            "\u001b[92mINFO \u001b[0m:      configure_evaluate: strategy sampled 6 clients (out of 6)\n"
          ]
        },
        {
          "name": "stdout",
          "output_type": "stream",
          "text": [
            "\u001b[2m\u001b[36m(ClientAppActor pid=1536476)\u001b[0m Test acc  0.350253807106599\n"
          ]
        },
        {
          "name": "stderr",
          "output_type": "stream",
          "text": [
            "\u001b[92mINFO \u001b[0m:      aggregate_evaluate: received 6 results and 0 failures\n",
            "\u001b[92mINFO \u001b[0m:      \n",
            "\u001b[92mINFO \u001b[0m:      [ROUND 4]\n",
            "\u001b[92mINFO \u001b[0m:      configure_fit: strategy sampled 6 clients (out of 6)\n"
          ]
        },
        {
          "name": "stdout",
          "output_type": "stream",
          "text": [
            "\u001b[2m\u001b[36m(ClientAppActor pid=1536476)\u001b[0m Epoch 1/15, Loss: 0.8328, Accuracy: 0.6667\n",
            "\u001b[2m\u001b[36m(ClientAppActor pid=1536475)\u001b[0m Test acc  0.350253807106599\u001b[32m [repeated 5x across cluster]\u001b[0m\n",
            "\u001b[2m\u001b[36m(ClientAppActor pid=1536475)\u001b[0m Epoch 4/15, Loss: 0.9224, Accuracy: 0.6333\u001b[32m [repeated 7x across cluster]\u001b[0m\n",
            "\u001b[2m\u001b[36m(ClientAppActor pid=1536475)\u001b[0m Epoch 7/15, Loss: 0.8097, Accuracy: 0.6896\u001b[32m [repeated 6x across cluster]\u001b[0m\n",
            "\u001b[2m\u001b[36m(ClientAppActor pid=1536475)\u001b[0m Epoch 10/15, Loss: 0.7834, Accuracy: 0.6708\u001b[32m [repeated 6x across cluster]\u001b[0m\n",
            "\u001b[2m\u001b[36m(ClientAppActor pid=1536475)\u001b[0m Epoch 13/15, Loss: 0.7927, Accuracy: 0.6562\u001b[32m [repeated 6x across cluster]\u001b[0m\n",
            "\u001b[2m\u001b[36m(ClientAppActor pid=1536475)\u001b[0m Epoch 1/15, Loss: 0.8781, Accuracy: 0.6312\u001b[32m [repeated 6x across cluster]\u001b[0m\n",
            "\u001b[2m\u001b[36m(ClientAppActor pid=1536476)\u001b[0m Epoch 5/15, Loss: 0.8483, Accuracy: 0.6479\u001b[32m [repeated 6x across cluster]\u001b[0m\n",
            "\u001b[2m\u001b[36m(ClientAppActor pid=1536475)\u001b[0m Epoch 7/15, Loss: 0.8064, Accuracy: 0.6500\u001b[32m [repeated 7x across cluster]\u001b[0m\n",
            "\u001b[2m\u001b[36m(ClientAppActor pid=1536475)\u001b[0m Epoch 10/15, Loss: 0.7980, Accuracy: 0.6562\u001b[32m [repeated 6x across cluster]\u001b[0m\n",
            "\u001b[2m\u001b[36m(ClientAppActor pid=1536475)\u001b[0m Epoch 13/15, Loss: 0.7933, Accuracy: 0.6958\u001b[32m [repeated 6x across cluster]\u001b[0m\n",
            "\u001b[2m\u001b[36m(ClientAppActor pid=1536475)\u001b[0m Epoch 1/15, Loss: 0.8175, Accuracy: 0.6417\u001b[32m [repeated 6x across cluster]\u001b[0m\n",
            "\u001b[2m\u001b[36m(ClientAppActor pid=1536475)\u001b[0m Epoch 4/15, Loss: 0.7934, Accuracy: 0.6604\u001b[32m [repeated 6x across cluster]\u001b[0m\n",
            "\u001b[2m\u001b[36m(ClientAppActor pid=1536475)\u001b[0m Epoch 7/15, Loss: 0.8226, Accuracy: 0.6583\u001b[32m [repeated 6x across cluster]\u001b[0m\n",
            "\u001b[2m\u001b[36m(ClientAppActor pid=1536475)\u001b[0m Epoch 10/15, Loss: 0.7724, Accuracy: 0.6521\u001b[32m [repeated 6x across cluster]\u001b[0m\n",
            "\u001b[2m\u001b[36m(ClientAppActor pid=1536475)\u001b[0m Epoch 13/15, Loss: 0.7516, Accuracy: 0.6458\u001b[32m [repeated 6x across cluster]\u001b[0m\n"
          ]
        },
        {
          "name": "stderr",
          "output_type": "stream",
          "text": [
            "\u001b[92mINFO \u001b[0m:      aggregate_fit: received 6 results and 0 failures\n",
            "\u001b[92mINFO \u001b[0m:      configure_evaluate: strategy sampled 6 clients (out of 6)\n"
          ]
        },
        {
          "name": "stdout",
          "output_type": "stream",
          "text": [
            "\u001b[2m\u001b[36m(ClientAppActor pid=1536475)\u001b[0m Test acc  0.383248730964467\n",
            "\u001b[2m\u001b[36m(ClientAppActor pid=1536475)\u001b[0m Epoch 15/15, Loss: 0.6796, Accuracy: 0.7021\u001b[32m [repeated 3x across cluster]\u001b[0m\n"
          ]
        },
        {
          "name": "stderr",
          "output_type": "stream",
          "text": [
            "\u001b[92mINFO \u001b[0m:      aggregate_evaluate: received 6 results and 0 failures\n",
            "\u001b[92mINFO \u001b[0m:      \n",
            "\u001b[92mINFO \u001b[0m:      [ROUND 5]\n",
            "\u001b[92mINFO \u001b[0m:      configure_fit: strategy sampled 6 clients (out of 6)\n"
          ]
        },
        {
          "name": "stdout",
          "output_type": "stream",
          "text": [
            "\u001b[2m\u001b[36m(ClientAppActor pid=1536476)\u001b[0m Test acc  0.383248730964467\u001b[32m [repeated 5x across cluster]\u001b[0m\n",
            "\u001b[2m\u001b[36m(ClientAppActor pid=1536476)\u001b[0m Epoch 1/15, Loss: 0.7516, Accuracy: 0.7250\n",
            "\u001b[2m\u001b[36m(ClientAppActor pid=1536475)\u001b[0m Epoch 1/15, Loss: 0.7743, Accuracy: 0.6958\n",
            "\u001b[2m\u001b[36m(ClientAppActor pid=1536475)\u001b[0m Epoch 4/15, Loss: 0.7680, Accuracy: 0.6875\u001b[32m [repeated 6x across cluster]\u001b[0m\n",
            "\u001b[2m\u001b[36m(ClientAppActor pid=1536475)\u001b[0m Epoch 7/15, Loss: 0.8455, Accuracy: 0.6438\u001b[32m [repeated 6x across cluster]\u001b[0m\n",
            "\u001b[2m\u001b[36m(ClientAppActor pid=1536475)\u001b[0m Epoch 10/15, Loss: 0.7626, Accuracy: 0.6708\u001b[32m [repeated 6x across cluster]\u001b[0m\n",
            "\u001b[2m\u001b[36m(ClientAppActor pid=1536476)\u001b[0m Epoch 14/15, Loss: 0.6722, Accuracy: 0.7083\u001b[32m [repeated 6x across cluster]\u001b[0m\n",
            "\u001b[2m\u001b[36m(ClientAppActor pid=1536476)\u001b[0m Epoch 2/15, Loss: 0.8280, Accuracy: 0.6479\u001b[32m [repeated 6x across cluster]\u001b[0m\n",
            "\u001b[2m\u001b[36m(ClientAppActor pid=1536475)\u001b[0m Epoch 4/15, Loss: 0.8232, Accuracy: 0.6396\u001b[32m [repeated 7x across cluster]\u001b[0m\n",
            "\u001b[2m\u001b[36m(ClientAppActor pid=1536475)\u001b[0m Epoch 7/15, Loss: 0.7026, Accuracy: 0.6667\u001b[32m [repeated 7x across cluster]\u001b[0m\n",
            "\u001b[2m\u001b[36m(ClientAppActor pid=1536475)\u001b[0m Epoch 10/15, Loss: 0.6524, Accuracy: 0.7208\u001b[32m [repeated 6x across cluster]\u001b[0m\n",
            "\u001b[2m\u001b[36m(ClientAppActor pid=1536475)\u001b[0m Epoch 13/15, Loss: 0.6488, Accuracy: 0.7354\u001b[32m [repeated 6x across cluster]\u001b[0m\n",
            "\u001b[2m\u001b[36m(ClientAppActor pid=1536476)\u001b[0m Epoch 4/15, Loss: 0.7898, Accuracy: 0.6729\u001b[32m [repeated 6x across cluster]\u001b[0m\n",
            "\u001b[2m\u001b[36m(ClientAppActor pid=1536475)\u001b[0m Epoch 4/15, Loss: 0.7777, Accuracy: 0.6646\u001b[32m [repeated 7x across cluster]\u001b[0m\n",
            "\u001b[2m\u001b[36m(ClientAppActor pid=1536475)\u001b[0m Epoch 7/15, Loss: 0.6705, Accuracy: 0.7375\u001b[32m [repeated 6x across cluster]\u001b[0m\n",
            "\u001b[2m\u001b[36m(ClientAppActor pid=1536476)\u001b[0m Epoch 14/15, Loss: 0.6685, Accuracy: 0.7354\u001b[32m [repeated 6x across cluster]\u001b[0m\n",
            "\u001b[2m\u001b[36m(ClientAppActor pid=1536475)\u001b[0m Epoch 13/15, Loss: 0.7105, Accuracy: 0.7083\u001b[32m [repeated 5x across cluster]\u001b[0m\n"
          ]
        },
        {
          "name": "stderr",
          "output_type": "stream",
          "text": [
            "\u001b[92mINFO \u001b[0m:      aggregate_fit: received 6 results and 0 failures\n",
            "\u001b[92mINFO \u001b[0m:      configure_evaluate: strategy sampled 6 clients (out of 6)\n"
          ]
        },
        {
          "name": "stdout",
          "output_type": "stream",
          "text": [
            "\u001b[2m\u001b[36m(ClientAppActor pid=1536476)\u001b[0m Test acc  0.41878172588832485\n",
            "\u001b[2m\u001b[36m(ClientAppActor pid=1536475)\u001b[0m Epoch 15/15, Loss: 0.6488, Accuracy: 0.7438\u001b[32m [repeated 2x across cluster]\u001b[0m\n"
          ]
        },
        {
          "name": "stderr",
          "output_type": "stream",
          "text": [
            "\u001b[92mINFO \u001b[0m:      aggregate_evaluate: received 6 results and 0 failures\n",
            "\u001b[92mINFO \u001b[0m:      \n",
            "\u001b[92mINFO \u001b[0m:      [ROUND 6]\n",
            "\u001b[92mINFO \u001b[0m:      configure_fit: strategy sampled 6 clients (out of 6)\n"
          ]
        },
        {
          "name": "stdout",
          "output_type": "stream",
          "text": [
            "\u001b[2m\u001b[36m(ClientAppActor pid=1536475)\u001b[0m Test acc  0.41878172588832485\u001b[32m [repeated 5x across cluster]\u001b[0m\n",
            "\u001b[2m\u001b[36m(ClientAppActor pid=1536476)\u001b[0m Epoch 1/15, Loss: 0.6501, Accuracy: 0.7354\n",
            "\u001b[2m\u001b[36m(ClientAppActor pid=1536475)\u001b[0m Epoch 1/15, Loss: 0.6683, Accuracy: 0.7271\n",
            "\u001b[2m\u001b[36m(ClientAppActor pid=1536476)\u001b[0m Epoch 4/15, Loss: 0.6562, Accuracy: 0.7375\u001b[32m [repeated 5x across cluster]\u001b[0m\n",
            "\u001b[2m\u001b[36m(ClientAppActor pid=1536476)\u001b[0m Epoch 7/15, Loss: 0.6006, Accuracy: 0.7625\u001b[32m [repeated 6x across cluster]\u001b[0m\n",
            "\u001b[2m\u001b[36m(ClientAppActor pid=1536476)\u001b[0m Epoch 10/15, Loss: 0.6277, Accuracy: 0.7500\u001b[32m [repeated 6x across cluster]\u001b[0m\n",
            "\u001b[2m\u001b[36m(ClientAppActor pid=1536476)\u001b[0m Epoch 13/15, Loss: 0.6490, Accuracy: 0.7479\u001b[32m [repeated 6x across cluster]\u001b[0m\n",
            "\u001b[2m\u001b[36m(ClientAppActor pid=1536476)\u001b[0m Epoch 1/15, Loss: 0.6935, Accuracy: 0.7125\u001b[32m [repeated 6x across cluster]\u001b[0m\n",
            "\u001b[2m\u001b[36m(ClientAppActor pid=1536476)\u001b[0m Epoch 4/15, Loss: 0.6451, Accuracy: 0.7438\u001b[32m [repeated 6x across cluster]\u001b[0m\n",
            "\u001b[2m\u001b[36m(ClientAppActor pid=1536476)\u001b[0m Epoch 7/15, Loss: 0.6666, Accuracy: 0.7104\u001b[32m [repeated 6x across cluster]\u001b[0m\n",
            "\u001b[2m\u001b[36m(ClientAppActor pid=1536475)\u001b[0m Epoch 9/15, Loss: 0.5888, Accuracy: 0.7500\u001b[32m [repeated 5x across cluster]\u001b[0m\n",
            "\u001b[2m\u001b[36m(ClientAppActor pid=1536476)\u001b[0m Epoch 13/15, Loss: 0.5821, Accuracy: 0.7958\u001b[32m [repeated 6x across cluster]\u001b[0m\n",
            "\u001b[2m\u001b[36m(ClientAppActor pid=1536475)\u001b[0m Epoch 15/15, Loss: 0.5198, Accuracy: 0.7812\u001b[32m [repeated 6x across cluster]\u001b[0m\n",
            "\u001b[2m\u001b[36m(ClientAppActor pid=1536476)\u001b[0m Epoch 4/15, Loss: 0.6384, Accuracy: 0.7250\u001b[32m [repeated 6x across cluster]\u001b[0m\n",
            "\u001b[2m\u001b[36m(ClientAppActor pid=1536475)\u001b[0m Epoch 6/15, Loss: 0.7013, Accuracy: 0.6896\u001b[32m [repeated 7x across cluster]\u001b[0m\n",
            "\u001b[2m\u001b[36m(ClientAppActor pid=1536476)\u001b[0m Epoch 11/15, Loss: 0.5849, Accuracy: 0.7458\u001b[32m [repeated 7x across cluster]\u001b[0m\n",
            "\u001b[2m\u001b[36m(ClientAppActor pid=1536475)\u001b[0m Epoch 13/15, Loss: 0.5718, Accuracy: 0.7479\u001b[32m [repeated 7x across cluster]\u001b[0m\n"
          ]
        },
        {
          "name": "stderr",
          "output_type": "stream",
          "text": [
            "\u001b[92mINFO \u001b[0m:      aggregate_fit: received 6 results and 0 failures\n",
            "\u001b[92mINFO \u001b[0m:      configure_evaluate: strategy sampled 6 clients (out of 6)\n"
          ]
        },
        {
          "name": "stdout",
          "output_type": "stream",
          "text": [
            "\u001b[2m\u001b[36m(ClientAppActor pid=1536476)\u001b[0m Test acc  0.4593908629441624\n",
            "\u001b[2m\u001b[36m(ClientAppActor pid=1536475)\u001b[0m Epoch 15/15, Loss: 0.5804, Accuracy: 0.7667\u001b[32m [repeated 3x across cluster]\u001b[0m\n"
          ]
        },
        {
          "name": "stderr",
          "output_type": "stream",
          "text": [
            "\u001b[92mINFO \u001b[0m:      aggregate_evaluate: received 6 results and 0 failures\n",
            "\u001b[92mINFO \u001b[0m:      \n",
            "\u001b[92mINFO \u001b[0m:      [ROUND 7]\n",
            "\u001b[92mINFO \u001b[0m:      configure_fit: strategy sampled 6 clients (out of 6)\n"
          ]
        },
        {
          "name": "stdout",
          "output_type": "stream",
          "text": [
            "\u001b[2m\u001b[36m(ClientAppActor pid=1536475)\u001b[0m Test acc  0.4593908629441624\u001b[32m [repeated 5x across cluster]\u001b[0m\n",
            "\u001b[2m\u001b[36m(ClientAppActor pid=1536476)\u001b[0m Epoch 1/15, Loss: 0.6268, Accuracy: 0.7438\n",
            "\u001b[2m\u001b[36m(ClientAppActor pid=1536475)\u001b[0m Epoch 1/15, Loss: 0.6519, Accuracy: 0.7208\n",
            "\u001b[2m\u001b[36m(ClientAppActor pid=1536475)\u001b[0m Epoch 4/15, Loss: 0.6183, Accuracy: 0.7292\u001b[32m [repeated 6x across cluster]\u001b[0m\n",
            "\u001b[2m\u001b[36m(ClientAppActor pid=1536475)\u001b[0m Epoch 7/15, Loss: 0.5601, Accuracy: 0.7812\u001b[32m [repeated 6x across cluster]\u001b[0m\n",
            "\u001b[2m\u001b[36m(ClientAppActor pid=1536475)\u001b[0m Epoch 10/15, Loss: 0.5370, Accuracy: 0.7875\u001b[32m [repeated 6x across cluster]\u001b[0m\n",
            "\u001b[2m\u001b[36m(ClientAppActor pid=1536476)\u001b[0m Epoch 14/15, Loss: 0.4952, Accuracy: 0.8063\u001b[32m [repeated 6x across cluster]\u001b[0m\n",
            "\u001b[2m\u001b[36m(ClientAppActor pid=1536476)\u001b[0m Epoch 2/15, Loss: 0.6781, Accuracy: 0.7312\u001b[32m [repeated 6x across cluster]\u001b[0m\n",
            "\u001b[2m\u001b[36m(ClientAppActor pid=1536475)\u001b[0m Epoch 4/15, Loss: 0.6009, Accuracy: 0.7312\u001b[32m [repeated 7x across cluster]\u001b[0m\n",
            "\u001b[2m\u001b[36m(ClientAppActor pid=1536475)\u001b[0m Epoch 7/15, Loss: 0.4865, Accuracy: 0.8125\u001b[32m [repeated 6x across cluster]\u001b[0m\n",
            "\u001b[2m\u001b[36m(ClientAppActor pid=1536476)\u001b[0m Epoch 12/15, Loss: 0.5578, Accuracy: 0.7812\u001b[32m [repeated 6x across cluster]\u001b[0m\n",
            "\u001b[2m\u001b[36m(ClientAppActor pid=1536475)\u001b[0m Epoch 13/15, Loss: 0.5006, Accuracy: 0.7896\u001b[32m [repeated 7x across cluster]\u001b[0m\n",
            "\u001b[2m\u001b[36m(ClientAppActor pid=1536475)\u001b[0m Epoch 1/15, Loss: 0.5807, Accuracy: 0.7917\u001b[32m [repeated 6x across cluster]\u001b[0m\n",
            "\u001b[2m\u001b[36m(ClientAppActor pid=1536475)\u001b[0m Epoch 4/15, Loss: 0.5561, Accuracy: 0.7667\u001b[32m [repeated 6x across cluster]\u001b[0m\n",
            "\u001b[2m\u001b[36m(ClientAppActor pid=1536476)\u001b[0m Epoch 10/15, Loss: 0.4406, Accuracy: 0.8354\u001b[32m [repeated 6x across cluster]\u001b[0m\n",
            "\u001b[2m\u001b[36m(ClientAppActor pid=1536476)\u001b[0m Epoch 13/15, Loss: 0.4941, Accuracy: 0.8146\u001b[32m [repeated 6x across cluster]\u001b[0m\n",
            "\u001b[2m\u001b[36m(ClientAppActor pid=1536475)\u001b[0m Epoch 13/15, Loss: 0.4983, Accuracy: 0.8063\u001b[32m [repeated 6x across cluster]\u001b[0m\n"
          ]
        },
        {
          "name": "stderr",
          "output_type": "stream",
          "text": [
            "\u001b[92mINFO \u001b[0m:      aggregate_fit: received 6 results and 0 failures\n",
            "\u001b[92mINFO \u001b[0m:      configure_evaluate: strategy sampled 6 clients (out of 6)\n"
          ]
        },
        {
          "name": "stdout",
          "output_type": "stream",
          "text": [
            "\u001b[2m\u001b[36m(ClientAppActor pid=1536476)\u001b[0m Test acc  0.4746192893401015\n",
            "\u001b[2m\u001b[36m(ClientAppActor pid=1536475)\u001b[0m Epoch 15/15, Loss: 0.4966, Accuracy: 0.8125\u001b[32m [repeated 2x across cluster]\u001b[0m\n"
          ]
        },
        {
          "name": "stderr",
          "output_type": "stream",
          "text": [
            "\u001b[92mINFO \u001b[0m:      aggregate_evaluate: received 6 results and 0 failures\n",
            "\u001b[92mINFO \u001b[0m:      \n",
            "\u001b[92mINFO \u001b[0m:      [ROUND 8]\n",
            "\u001b[92mINFO \u001b[0m:      configure_fit: strategy sampled 6 clients (out of 6)\n"
          ]
        },
        {
          "name": "stdout",
          "output_type": "stream",
          "text": [
            "\u001b[2m\u001b[36m(ClientAppActor pid=1536475)\u001b[0m Test acc  0.4746192893401015\u001b[32m [repeated 5x across cluster]\u001b[0m\n",
            "\u001b[2m\u001b[36m(ClientAppActor pid=1536475)\u001b[0m Epoch 1/15, Loss: 0.5629, Accuracy: 0.7583\n",
            "\u001b[2m\u001b[36m(ClientAppActor pid=1536476)\u001b[0m Epoch 1/15, Loss: 0.4896, Accuracy: 0.8021\n",
            "\u001b[2m\u001b[36m(ClientAppActor pid=1536476)\u001b[0m Epoch 2/15, Loss: 0.5452, Accuracy: 0.7667\n",
            "\u001b[2m\u001b[36m(ClientAppActor pid=1536475)\u001b[0m Epoch 4/15, Loss: 0.5626, Accuracy: 0.7667\u001b[32m [repeated 5x across cluster]\u001b[0m\n",
            "\u001b[2m\u001b[36m(ClientAppActor pid=1536475)\u001b[0m Epoch 7/15, Loss: 0.4497, Accuracy: 0.8229\u001b[32m [repeated 6x across cluster]\u001b[0m\n",
            "\u001b[2m\u001b[36m(ClientAppActor pid=1536475)\u001b[0m Epoch 10/15, Loss: 0.4415, Accuracy: 0.8167\u001b[32m [repeated 6x across cluster]\u001b[0m\n",
            "\u001b[2m\u001b[36m(ClientAppActor pid=1536475)\u001b[0m Epoch 13/15, Loss: 0.4835, Accuracy: 0.7958\u001b[32m [repeated 6x across cluster]\u001b[0m\n",
            "\u001b[2m\u001b[36m(ClientAppActor pid=1536475)\u001b[0m Epoch 1/15, Loss: 0.5449, Accuracy: 0.7604\u001b[32m [repeated 6x across cluster]\u001b[0m\n",
            "\u001b[2m\u001b[36m(ClientAppActor pid=1536475)\u001b[0m Epoch 4/15, Loss: 0.6004, Accuracy: 0.7333\u001b[32m [repeated 6x across cluster]\u001b[0m\n",
            "\u001b[2m\u001b[36m(ClientAppActor pid=1536475)\u001b[0m Epoch 7/15, Loss: 0.5361, Accuracy: 0.7688\u001b[32m [repeated 6x across cluster]\u001b[0m\n",
            "\u001b[2m\u001b[36m(ClientAppActor pid=1536475)\u001b[0m Epoch 10/15, Loss: 0.4304, Accuracy: 0.8396\u001b[32m [repeated 6x across cluster]\u001b[0m\n",
            "\u001b[2m\u001b[36m(ClientAppActor pid=1536476)\u001b[0m Epoch 14/15, Loss: 0.3634, Accuracy: 0.8792\u001b[32m [repeated 6x across cluster]\u001b[0m\n",
            "\u001b[2m\u001b[36m(ClientAppActor pid=1536476)\u001b[0m Epoch 2/15, Loss: 0.5071, Accuracy: 0.8229\u001b[32m [repeated 6x across cluster]\u001b[0m\n",
            "\u001b[2m\u001b[36m(ClientAppActor pid=1536475)\u001b[0m Epoch 4/15, Loss: 0.6339, Accuracy: 0.7250\u001b[32m [repeated 7x across cluster]\u001b[0m\n",
            "\u001b[2m\u001b[36m(ClientAppActor pid=1536475)\u001b[0m Epoch 7/15, Loss: 0.4864, Accuracy: 0.8146\u001b[32m [repeated 6x across cluster]\u001b[0m\n",
            "\u001b[2m\u001b[36m(ClientAppActor pid=1536476)\u001b[0m Epoch 12/15, Loss: 0.3431, Accuracy: 0.8750\u001b[32m [repeated 6x across cluster]\u001b[0m\n",
            "\u001b[2m\u001b[36m(ClientAppActor pid=1536475)\u001b[0m Epoch 13/15, Loss: 0.4365, Accuracy: 0.8375\u001b[32m [repeated 7x across cluster]\u001b[0m\n"
          ]
        },
        {
          "name": "stderr",
          "output_type": "stream",
          "text": [
            "\u001b[92mINFO \u001b[0m:      aggregate_fit: received 6 results and 0 failures\n",
            "\u001b[92mINFO \u001b[0m:      configure_evaluate: strategy sampled 6 clients (out of 6)\n"
          ]
        },
        {
          "name": "stdout",
          "output_type": "stream",
          "text": [
            "\u001b[2m\u001b[36m(ClientAppActor pid=1536476)\u001b[0m Test acc  0.5228426395939086\n",
            "\u001b[2m\u001b[36m(ClientAppActor pid=1536475)\u001b[0m Epoch 15/15, Loss: 0.3480, Accuracy: 0.8625\u001b[32m [repeated 2x across cluster]\u001b[0m\n"
          ]
        },
        {
          "name": "stderr",
          "output_type": "stream",
          "text": [
            "\u001b[92mINFO \u001b[0m:      aggregate_evaluate: received 6 results and 0 failures\n",
            "\u001b[92mINFO \u001b[0m:      \n",
            "\u001b[92mINFO \u001b[0m:      [ROUND 9]\n",
            "\u001b[92mINFO \u001b[0m:      configure_fit: strategy sampled 6 clients (out of 6)\n"
          ]
        },
        {
          "name": "stdout",
          "output_type": "stream",
          "text": [
            "\u001b[2m\u001b[36m(ClientAppActor pid=1536475)\u001b[0m Test acc  0.5228426395939086\u001b[32m [repeated 5x across cluster]\u001b[0m\n",
            "\u001b[2m\u001b[36m(ClientAppActor pid=1536476)\u001b[0m Epoch 1/15, Loss: 0.4455, Accuracy: 0.8229\n",
            "\u001b[2m\u001b[36m(ClientAppActor pid=1536475)\u001b[0m Epoch 1/15, Loss: 0.5032, Accuracy: 0.8000\n",
            "\u001b[2m\u001b[36m(ClientAppActor pid=1536476)\u001b[0m Epoch 5/15, Loss: 0.4415, Accuracy: 0.8375\u001b[32m [repeated 7x across cluster]\u001b[0m\n",
            "\u001b[2m\u001b[36m(ClientAppActor pid=1536475)\u001b[0m Epoch 8/15, Loss: 0.3640, Accuracy: 0.8521\u001b[32m [repeated 7x across cluster]\u001b[0m\n",
            "\u001b[2m\u001b[36m(ClientAppActor pid=1536475)\u001b[0m Epoch 11/15, Loss: 0.3618, Accuracy: 0.8438\u001b[32m [repeated 6x across cluster]\u001b[0m\n",
            "\u001b[2m\u001b[36m(ClientAppActor pid=1536476)\u001b[0m Epoch 15/15, Loss: 0.2105, Accuracy: 0.9271\u001b[32m [repeated 7x across cluster]\u001b[0m\n",
            "\u001b[2m\u001b[36m(ClientAppActor pid=1536476)\u001b[0m Epoch 3/15, Loss: 0.4137, Accuracy: 0.8562\u001b[32m [repeated 6x across cluster]\u001b[0m\n",
            "\u001b[2m\u001b[36m(ClientAppActor pid=1536475)\u001b[0m Epoch 6/15, Loss: 0.4258, Accuracy: 0.8271\u001b[32m [repeated 7x across cluster]\u001b[0m\n",
            "\u001b[2m\u001b[36m(ClientAppActor pid=1536475)\u001b[0m Epoch 9/15, Loss: 0.3560, Accuracy: 0.8750\u001b[32m [repeated 6x across cluster]\u001b[0m\n",
            "\u001b[2m\u001b[36m(ClientAppActor pid=1536476)\u001b[0m Epoch 13/15, Loss: 0.2843, Accuracy: 0.8875\u001b[32m [repeated 6x across cluster]\u001b[0m\n",
            "\u001b[2m\u001b[36m(ClientAppActor pid=1536475)\u001b[0m Epoch 15/15, Loss: 0.3755, Accuracy: 0.8583\u001b[32m [repeated 6x across cluster]\u001b[0m\n",
            "\u001b[2m\u001b[36m(ClientAppActor pid=1536476)\u001b[0m Epoch 4/15, Loss: 0.3495, Accuracy: 0.8625\u001b[32m [repeated 6x across cluster]\u001b[0m\n",
            "\u001b[2m\u001b[36m(ClientAppActor pid=1536476)\u001b[0m Epoch 7/15, Loss: 0.3306, Accuracy: 0.8667\u001b[32m [repeated 6x across cluster]\u001b[0m\n",
            "\u001b[2m\u001b[36m(ClientAppActor pid=1536475)\u001b[0m Epoch 9/15, Loss: 0.3007, Accuracy: 0.8917\u001b[32m [repeated 7x across cluster]\u001b[0m\n",
            "\u001b[2m\u001b[36m(ClientAppActor pid=1536475)\u001b[0m Epoch 12/15, Loss: 0.2148, Accuracy: 0.9437\u001b[32m [repeated 6x across cluster]\u001b[0m\n"
          ]
        },
        {
          "name": "stderr",
          "output_type": "stream",
          "text": [
            "\u001b[92mINFO \u001b[0m:      aggregate_fit: received 6 results and 0 failures\n"
          ]
        },
        {
          "name": "stdout",
          "output_type": "stream",
          "text": [
            "\u001b[2m\u001b[36m(ClientAppActor pid=1536475)\u001b[0m Epoch 15/15, Loss: 0.2934, Accuracy: 0.8938\u001b[32m [repeated 5x across cluster]\u001b[0m\n"
          ]
        },
        {
          "name": "stderr",
          "output_type": "stream",
          "text": [
            "\u001b[92mINFO \u001b[0m:      configure_evaluate: strategy sampled 6 clients (out of 6)\n"
          ]
        },
        {
          "name": "stdout",
          "output_type": "stream",
          "text": [
            "\u001b[2m\u001b[36m(ClientAppActor pid=1536475)\u001b[0m Test acc  0.5609137055837563\n"
          ]
        },
        {
          "name": "stderr",
          "output_type": "stream",
          "text": [
            "\u001b[92mINFO \u001b[0m:      aggregate_evaluate: received 6 results and 0 failures\n",
            "\u001b[92mINFO \u001b[0m:      \n",
            "\u001b[92mINFO \u001b[0m:      [ROUND 10]\n",
            "\u001b[92mINFO \u001b[0m:      configure_fit: strategy sampled 6 clients (out of 6)\n"
          ]
        },
        {
          "name": "stdout",
          "output_type": "stream",
          "text": [
            "\u001b[2m\u001b[36m(ClientAppActor pid=1536476)\u001b[0m Epoch 1/15, Loss: 0.3568, Accuracy: 0.8604\n",
            "\u001b[2m\u001b[36m(ClientAppActor pid=1536475)\u001b[0m Test acc  0.5609137055837563\u001b[32m [repeated 5x across cluster]\u001b[0m\n",
            "\u001b[2m\u001b[36m(ClientAppActor pid=1536475)\u001b[0m Epoch 4/15, Loss: 0.3465, Accuracy: 0.8812\u001b[32m [repeated 6x across cluster]\u001b[0m\n",
            "\u001b[2m\u001b[36m(ClientAppActor pid=1536475)\u001b[0m Epoch 7/15, Loss: 0.2830, Accuracy: 0.8896\u001b[32m [repeated 6x across cluster]\u001b[0m\n",
            "\u001b[2m\u001b[36m(ClientAppActor pid=1536475)\u001b[0m Epoch 10/15, Loss: 0.2376, Accuracy: 0.9083\u001b[32m [repeated 6x across cluster]\u001b[0m\n",
            "\u001b[2m\u001b[36m(ClientAppActor pid=1536475)\u001b[0m Epoch 13/15, Loss: 0.1804, Accuracy: 0.9521\u001b[32m [repeated 6x across cluster]\u001b[0m\n",
            "\u001b[2m\u001b[36m(ClientAppActor pid=1536475)\u001b[0m Epoch 1/15, Loss: 0.3750, Accuracy: 0.8458\u001b[32m [repeated 6x across cluster]\u001b[0m\n",
            "\u001b[2m\u001b[36m(ClientAppActor pid=1536475)\u001b[0m Epoch 4/15, Loss: 0.3922, Accuracy: 0.8250\u001b[32m [repeated 6x across cluster]\u001b[0m\n",
            "\u001b[2m\u001b[36m(ClientAppActor pid=1536475)\u001b[0m Epoch 7/15, Loss: 0.2927, Accuracy: 0.8979\u001b[32m [repeated 6x across cluster]\u001b[0m\n",
            "\u001b[2m\u001b[36m(ClientAppActor pid=1536476)\u001b[0m Epoch 10/15, Loss: 0.2438, Accuracy: 0.9104\u001b[32m [repeated 6x across cluster]\u001b[0m\n",
            "\u001b[2m\u001b[36m(ClientAppActor pid=1536475)\u001b[0m Epoch 13/15, Loss: 0.1780, Accuracy: 0.9500\u001b[32m [repeated 7x across cluster]\u001b[0m\n",
            "\u001b[2m\u001b[36m(ClientAppActor pid=1536476)\u001b[0m Epoch 1/15, Loss: 0.3511, Accuracy: 0.8646\u001b[32m [repeated 5x across cluster]\u001b[0m\n",
            "\u001b[2m\u001b[36m(ClientAppActor pid=1536476)\u001b[0m Epoch 4/15, Loss: 0.2853, Accuracy: 0.8854\u001b[32m [repeated 6x across cluster]\u001b[0m\n",
            "\u001b[2m\u001b[36m(ClientAppActor pid=1536476)\u001b[0m Epoch 7/15, Loss: 0.1987, Accuracy: 0.9333\u001b[32m [repeated 6x across cluster]\u001b[0m\n",
            "\u001b[2m\u001b[36m(ClientAppActor pid=1536476)\u001b[0m Epoch 10/15, Loss: 0.1165, Accuracy: 0.9688\u001b[32m [repeated 7x across cluster]\u001b[0m\n",
            "\u001b[2m\u001b[36m(ClientAppActor pid=1536476)\u001b[0m Epoch 13/15, Loss: 0.0923, Accuracy: 0.9875\u001b[32m [repeated 6x across cluster]\u001b[0m\n"
          ]
        },
        {
          "name": "stderr",
          "output_type": "stream",
          "text": [
            "\u001b[92mINFO \u001b[0m:      aggregate_fit: received 6 results and 0 failures\n",
            "\u001b[92mINFO \u001b[0m:      configure_evaluate: strategy sampled 6 clients (out of 6)\n"
          ]
        },
        {
          "name": "stdout",
          "output_type": "stream",
          "text": [
            "\u001b[2m\u001b[36m(ClientAppActor pid=1536476)\u001b[0m Test acc  0.6040609137055838\n",
            "\u001b[2m\u001b[36m(ClientAppActor pid=1536476)\u001b[0m Epoch 15/15, Loss: 0.1116, Accuracy: 0.9542\u001b[32m [repeated 4x across cluster]\u001b[0m\n"
          ]
        },
        {
          "name": "stderr",
          "output_type": "stream",
          "text": [
            "\u001b[92mINFO \u001b[0m:      aggregate_evaluate: received 6 results and 0 failures\n",
            "\u001b[92mINFO \u001b[0m:      \n",
            "\u001b[92mINFO \u001b[0m:      [ROUND 11]\n",
            "\u001b[92mINFO \u001b[0m:      configure_fit: strategy sampled 6 clients (out of 6)\n"
          ]
        },
        {
          "name": "stdout",
          "output_type": "stream",
          "text": [
            "\u001b[2m\u001b[36m(ClientAppActor pid=1536476)\u001b[0m Test acc  0.6040609137055838\u001b[32m [repeated 5x across cluster]\u001b[0m\n",
            "\u001b[2m\u001b[36m(ClientAppActor pid=1536476)\u001b[0m Epoch 1/15, Loss: 0.2607, Accuracy: 0.8917\n",
            "\u001b[2m\u001b[36m(ClientAppActor pid=1536475)\u001b[0m Epoch 1/15, Loss: 0.2868, Accuracy: 0.8958\n",
            "\u001b[2m\u001b[36m(ClientAppActor pid=1536476)\u001b[0m Epoch 5/15, Loss: 0.2453, Accuracy: 0.8958\u001b[32m [repeated 7x across cluster]\u001b[0m\n",
            "\u001b[2m\u001b[36m(ClientAppActor pid=1536476)\u001b[0m Epoch 8/15, Loss: 0.1598, Accuracy: 0.9500\u001b[32m [repeated 6x across cluster]\u001b[0m\n",
            "\u001b[2m\u001b[36m(ClientAppActor pid=1536476)\u001b[0m Epoch 11/15, Loss: 0.1174, Accuracy: 0.9583\u001b[32m [repeated 6x across cluster]\u001b[0m\n",
            "\u001b[2m\u001b[36m(ClientAppActor pid=1536475)\u001b[0m Epoch 14/15, Loss: 0.1335, Accuracy: 0.9437\u001b[32m [repeated 7x across cluster]\u001b[0m\n",
            "\u001b[2m\u001b[36m(ClientAppActor pid=1536476)\u001b[0m Epoch 2/15, Loss: 0.2474, Accuracy: 0.9042\u001b[32m [repeated 5x across cluster]\u001b[0m\n",
            "\u001b[2m\u001b[36m(ClientAppActor pid=1536475)\u001b[0m Epoch 5/15, Loss: 0.2280, Accuracy: 0.9187\u001b[32m [repeated 7x across cluster]\u001b[0m\n",
            "\u001b[2m\u001b[36m(ClientAppActor pid=1536476)\u001b[0m Epoch 9/15, Loss: 0.1085, Accuracy: 0.9750\u001b[32m [repeated 7x across cluster]\u001b[0m\n",
            "\u001b[2m\u001b[36m(ClientAppActor pid=1536475)\u001b[0m Epoch 12/15, Loss: 0.1369, Accuracy: 0.9604\u001b[32m [repeated 7x across cluster]\u001b[0m\n",
            "\u001b[2m\u001b[36m(ClientAppActor pid=1536476)\u001b[0m Epoch 1/15, Loss: 0.3294, Accuracy: 0.8729\u001b[32m [repeated 7x across cluster]\u001b[0m\n",
            "\u001b[2m\u001b[36m(ClientAppActor pid=1536476)\u001b[0m Epoch 4/15, Loss: 0.2509, Accuracy: 0.9125\u001b[32m [repeated 6x across cluster]\u001b[0m\n",
            "\u001b[2m\u001b[36m(ClientAppActor pid=1536476)\u001b[0m Epoch 7/15, Loss: 0.2088, Accuracy: 0.9437\u001b[32m [repeated 6x across cluster]\u001b[0m\n",
            "\u001b[2m\u001b[36m(ClientAppActor pid=1536476)\u001b[0m Epoch 10/15, Loss: 0.1365, Accuracy: 0.9500\u001b[32m [repeated 6x across cluster]\u001b[0m\n",
            "\u001b[2m\u001b[36m(ClientAppActor pid=1536475)\u001b[0m Epoch 13/15, Loss: 0.0571, Accuracy: 0.9896\u001b[32m [repeated 6x across cluster]\u001b[0m\n"
          ]
        },
        {
          "name": "stderr",
          "output_type": "stream",
          "text": [
            "\u001b[92mINFO \u001b[0m:      aggregate_fit: received 6 results and 0 failures\n",
            "\u001b[92mINFO \u001b[0m:      configure_evaluate: strategy sampled 6 clients (out of 6)\n"
          ]
        },
        {
          "name": "stdout",
          "output_type": "stream",
          "text": [
            "\u001b[2m\u001b[36m(ClientAppActor pid=1536476)\u001b[0m Test acc  0.6142131979695431\n",
            "\u001b[2m\u001b[36m(ClientAppActor pid=1536476)\u001b[0m Epoch 15/15, Loss: 0.0626, Accuracy: 0.9917\u001b[32m [repeated 5x across cluster]\u001b[0m\n"
          ]
        },
        {
          "name": "stderr",
          "output_type": "stream",
          "text": [
            "\u001b[92mINFO \u001b[0m:      aggregate_evaluate: received 6 results and 0 failures\n",
            "\u001b[92mINFO \u001b[0m:      \n",
            "\u001b[92mINFO \u001b[0m:      [ROUND 12]\n",
            "\u001b[92mINFO \u001b[0m:      configure_fit: strategy sampled 6 clients (out of 6)\n"
          ]
        },
        {
          "name": "stdout",
          "output_type": "stream",
          "text": [
            "\u001b[2m\u001b[36m(ClientAppActor pid=1536476)\u001b[0m Test acc  0.6142131979695431\u001b[32m [repeated 5x across cluster]\u001b[0m\n",
            "\u001b[2m\u001b[36m(ClientAppActor pid=1536476)\u001b[0m Epoch 1/15, Loss: 0.2572, Accuracy: 0.8979\n",
            "\u001b[2m\u001b[36m(ClientAppActor pid=1536475)\u001b[0m Epoch 1/15, Loss: 0.3078, Accuracy: 0.8771\n",
            "\u001b[2m\u001b[36m(ClientAppActor pid=1536475)\u001b[0m Epoch 4/15, Loss: 0.1527, Accuracy: 0.9542\u001b[32m [repeated 5x across cluster]\u001b[0m\n",
            "\u001b[2m\u001b[36m(ClientAppActor pid=1536475)\u001b[0m Epoch 7/15, Loss: 0.1554, Accuracy: 0.9313\u001b[32m [repeated 6x across cluster]\u001b[0m\n",
            "\u001b[2m\u001b[36m(ClientAppActor pid=1536476)\u001b[0m Epoch 10/15, Loss: 0.0649, Accuracy: 0.9896\u001b[32m [repeated 7x across cluster]\u001b[0m\n",
            "\u001b[2m\u001b[36m(ClientAppActor pid=1536476)\u001b[0m Epoch 13/15, Loss: 0.0853, Accuracy: 0.9729\u001b[32m [repeated 6x across cluster]\u001b[0m\n",
            "\u001b[2m\u001b[36m(ClientAppActor pid=1536475)\u001b[0m Epoch 1/15, Loss: 0.1848, Accuracy: 0.9354\u001b[32m [repeated 5x across cluster]\u001b[0m\n",
            "\u001b[2m\u001b[36m(ClientAppActor pid=1536475)\u001b[0m Epoch 4/15, Loss: 0.0912, Accuracy: 0.9708\u001b[32m [repeated 6x across cluster]\u001b[0m\n",
            "\u001b[2m\u001b[36m(ClientAppActor pid=1536475)\u001b[0m Epoch 7/15, Loss: 0.0582, Accuracy: 0.9917\u001b[32m [repeated 6x across cluster]\u001b[0m\n",
            "\u001b[2m\u001b[36m(ClientAppActor pid=1536475)\u001b[0m Epoch 10/15, Loss: 0.0974, Accuracy: 0.9708\u001b[32m [repeated 6x across cluster]\u001b[0m\n",
            "\u001b[2m\u001b[36m(ClientAppActor pid=1536475)\u001b[0m Epoch 13/15, Loss: 0.0466, Accuracy: 0.9917\u001b[32m [repeated 5x across cluster]\u001b[0m\n",
            "\u001b[2m\u001b[36m(ClientAppActor pid=1536476)\u001b[0m Epoch 15/15, Loss: 0.0436, Accuracy: 0.9958\u001b[32m [repeated 6x across cluster]\u001b[0m\n",
            "\u001b[2m\u001b[36m(ClientAppActor pid=1536475)\u001b[0m Epoch 4/15, Loss: 0.1357, Accuracy: 0.9604\u001b[32m [repeated 6x across cluster]\u001b[0m\n",
            "\u001b[2m\u001b[36m(ClientAppActor pid=1536475)\u001b[0m Epoch 7/15, Loss: 0.1717, Accuracy: 0.9354\u001b[32m [repeated 6x across cluster]\u001b[0m\n",
            "\u001b[2m\u001b[36m(ClientAppActor pid=1536475)\u001b[0m Epoch 10/15, Loss: 0.0551, Accuracy: 0.9833\u001b[32m [repeated 6x across cluster]\u001b[0m\n",
            "\u001b[2m\u001b[36m(ClientAppActor pid=1536475)\u001b[0m Epoch 13/15, Loss: 0.0250, Accuracy: 0.9958\u001b[32m [repeated 6x across cluster]\u001b[0m\n"
          ]
        },
        {
          "name": "stderr",
          "output_type": "stream",
          "text": [
            "\u001b[92mINFO \u001b[0m:      aggregate_fit: received 6 results and 0 failures\n"
          ]
        },
        {
          "name": "stdout",
          "output_type": "stream",
          "text": [
            "\u001b[2m\u001b[36m(ClientAppActor pid=1536476)\u001b[0m Epoch 15/15, Loss: 0.0510, Accuracy: 0.9958\u001b[32m [repeated 6x across cluster]\u001b[0m\n"
          ]
        },
        {
          "name": "stderr",
          "output_type": "stream",
          "text": [
            "\u001b[92mINFO \u001b[0m:      configure_evaluate: strategy sampled 6 clients (out of 6)\n"
          ]
        },
        {
          "name": "stdout",
          "output_type": "stream",
          "text": [
            "\u001b[2m\u001b[36m(ClientAppActor pid=1536475)\u001b[0m Test acc  0.6421319796954315\n"
          ]
        },
        {
          "name": "stderr",
          "output_type": "stream",
          "text": [
            "\u001b[92mINFO \u001b[0m:      aggregate_evaluate: received 6 results and 0 failures\n",
            "\u001b[92mINFO \u001b[0m:      \n",
            "\u001b[92mINFO \u001b[0m:      [ROUND 13]\n",
            "\u001b[92mINFO \u001b[0m:      configure_fit: strategy sampled 6 clients (out of 6)\n"
          ]
        },
        {
          "name": "stdout",
          "output_type": "stream",
          "text": [
            "\u001b[2m\u001b[36m(ClientAppActor pid=1536475)\u001b[0m Epoch 1/15, Loss: 0.2145, Accuracy: 0.9187\n",
            "\u001b[2m\u001b[36m(ClientAppActor pid=1536476)\u001b[0m Test acc  0.6421319796954315\u001b[32m [repeated 5x across cluster]\u001b[0m\n",
            "\u001b[2m\u001b[36m(ClientAppActor pid=1536476)\u001b[0m Epoch 4/15, Loss: 0.0626, Accuracy: 0.9875\u001b[32m [repeated 7x across cluster]\u001b[0m\n",
            "\u001b[2m\u001b[36m(ClientAppActor pid=1536476)\u001b[0m Epoch 7/15, Loss: 0.2459, Accuracy: 0.8917\u001b[32m [repeated 6x across cluster]\u001b[0m\n",
            "\u001b[2m\u001b[36m(ClientAppActor pid=1536476)\u001b[0m Epoch 10/15, Loss: 0.0986, Accuracy: 0.9667\u001b[32m [repeated 6x across cluster]\u001b[0m\n",
            "\u001b[2m\u001b[36m(ClientAppActor pid=1536476)\u001b[0m Epoch 13/15, Loss: 0.0904, Accuracy: 0.9667\u001b[32m [repeated 6x across cluster]\u001b[0m\n",
            "\u001b[2m\u001b[36m(ClientAppActor pid=1536476)\u001b[0m Epoch 1/15, Loss: 0.2214, Accuracy: 0.9208\u001b[32m [repeated 6x across cluster]\u001b[0m\n",
            "\u001b[2m\u001b[36m(ClientAppActor pid=1536476)\u001b[0m Epoch 4/15, Loss: 0.0873, Accuracy: 0.9833\u001b[32m [repeated 6x across cluster]\u001b[0m\n",
            "\u001b[2m\u001b[36m(ClientAppActor pid=1536476)\u001b[0m Epoch 7/15, Loss: 0.0485, Accuracy: 0.9938\u001b[32m [repeated 6x across cluster]\u001b[0m\n",
            "\u001b[2m\u001b[36m(ClientAppActor pid=1536476)\u001b[0m Epoch 10/15, Loss: 0.0403, Accuracy: 0.9896\u001b[32m [repeated 6x across cluster]\u001b[0m\n",
            "\u001b[2m\u001b[36m(ClientAppActor pid=1536476)\u001b[0m Epoch 13/15, Loss: 0.0360, Accuracy: 0.9917\u001b[32m [repeated 6x across cluster]\u001b[0m\n",
            "\u001b[2m\u001b[36m(ClientAppActor pid=1536476)\u001b[0m Epoch 1/15, Loss: 0.1473, Accuracy: 0.9500\u001b[32m [repeated 6x across cluster]\u001b[0m\n",
            "\u001b[2m\u001b[36m(ClientAppActor pid=1536475)\u001b[0m Epoch 5/15, Loss: 0.0837, Accuracy: 0.9854\u001b[32m [repeated 6x across cluster]\u001b[0m\n",
            "\u001b[2m\u001b[36m(ClientAppActor pid=1536475)\u001b[0m Epoch 8/15, Loss: 0.0816, Accuracy: 0.9792\u001b[32m [repeated 6x across cluster]\u001b[0m\n",
            "\u001b[2m\u001b[36m(ClientAppActor pid=1536475)\u001b[0m Epoch 11/15, Loss: 0.0348, Accuracy: 0.9958\u001b[32m [repeated 6x across cluster]\u001b[0m\n",
            "\u001b[2m\u001b[36m(ClientAppActor pid=1536476)\u001b[0m Epoch 13/15, Loss: 0.0158, Accuracy: 1.0000\u001b[32m [repeated 7x across cluster]\u001b[0m\n"
          ]
        },
        {
          "name": "stderr",
          "output_type": "stream",
          "text": [
            "\u001b[92mINFO \u001b[0m:      aggregate_fit: received 6 results and 0 failures\n",
            "\u001b[92mINFO \u001b[0m:      configure_evaluate: strategy sampled 6 clients (out of 6)\n"
          ]
        },
        {
          "name": "stdout",
          "output_type": "stream",
          "text": [
            "\u001b[2m\u001b[36m(ClientAppActor pid=1536476)\u001b[0m Test acc  0.6751269035532995\n",
            "\u001b[2m\u001b[36m(ClientAppActor pid=1536476)\u001b[0m Epoch 15/15, Loss: 0.0106, Accuracy: 1.0000\u001b[32m [repeated 3x across cluster]\u001b[0m\n"
          ]
        },
        {
          "name": "stderr",
          "output_type": "stream",
          "text": [
            "\u001b[92mINFO \u001b[0m:      aggregate_evaluate: received 6 results and 0 failures\n",
            "\u001b[92mINFO \u001b[0m:      \n",
            "\u001b[92mINFO \u001b[0m:      [ROUND 14]\n",
            "\u001b[92mINFO \u001b[0m:      configure_fit: strategy sampled 6 clients (out of 6)\n"
          ]
        },
        {
          "name": "stdout",
          "output_type": "stream",
          "text": [
            "\u001b[2m\u001b[36m(ClientAppActor pid=1536476)\u001b[0m Test acc  0.6751269035532995\u001b[32m [repeated 5x across cluster]\u001b[0m\n",
            "\u001b[2m\u001b[36m(ClientAppActor pid=1536476)\u001b[0m Epoch 1/15, Loss: 0.1023, Accuracy: 0.9583\n",
            "\u001b[2m\u001b[36m(ClientAppActor pid=1536475)\u001b[0m Epoch 1/15, Loss: 0.1900, Accuracy: 0.9125\n",
            "\u001b[2m\u001b[36m(ClientAppActor pid=1536475)\u001b[0m Epoch 4/15, Loss: 0.1291, Accuracy: 0.9646\u001b[32m [repeated 5x across cluster]\u001b[0m\n",
            "\u001b[2m\u001b[36m(ClientAppActor pid=1536475)\u001b[0m Epoch 7/15, Loss: 0.0595, Accuracy: 0.9812\u001b[32m [repeated 6x across cluster]\u001b[0m\n",
            "\u001b[2m\u001b[36m(ClientAppActor pid=1536476)\u001b[0m Epoch 10/15, Loss: 0.0369, Accuracy: 0.9875\u001b[32m [repeated 7x across cluster]\u001b[0m\n",
            "\u001b[2m\u001b[36m(ClientAppActor pid=1536476)\u001b[0m Epoch 13/15, Loss: 0.0195, Accuracy: 0.9979\u001b[32m [repeated 6x across cluster]\u001b[0m\n",
            "\u001b[2m\u001b[36m(ClientAppActor pid=1536475)\u001b[0m Epoch 1/15, Loss: 0.2341, Accuracy: 0.8979\u001b[32m [repeated 5x across cluster]\u001b[0m\n",
            "\u001b[2m\u001b[36m(ClientAppActor pid=1536475)\u001b[0m Epoch 4/15, Loss: 0.0630, Accuracy: 0.9875\u001b[32m [repeated 6x across cluster]\u001b[0m\n",
            "\u001b[2m\u001b[36m(ClientAppActor pid=1536475)\u001b[0m Epoch 7/15, Loss: 0.0366, Accuracy: 0.9958\u001b[32m [repeated 6x across cluster]\u001b[0m\n",
            "\u001b[2m\u001b[36m(ClientAppActor pid=1536475)\u001b[0m Epoch 10/15, Loss: 0.0157, Accuracy: 0.9958\u001b[32m [repeated 6x across cluster]\u001b[0m\n",
            "\u001b[2m\u001b[36m(ClientAppActor pid=1536475)\u001b[0m Epoch 13/15, Loss: 0.0118, Accuracy: 1.0000\u001b[32m [repeated 6x across cluster]\u001b[0m\n",
            "\u001b[2m\u001b[36m(ClientAppActor pid=1536475)\u001b[0m Epoch 1/15, Loss: 0.1460, Accuracy: 0.9542\u001b[32m [repeated 6x across cluster]\u001b[0m\n",
            "\u001b[2m\u001b[36m(ClientAppActor pid=1536475)\u001b[0m Epoch 4/15, Loss: 0.0708, Accuracy: 0.9750\u001b[32m [repeated 6x across cluster]\u001b[0m\n",
            "\u001b[2m\u001b[36m(ClientAppActor pid=1536475)\u001b[0m Epoch 7/15, Loss: 0.0676, Accuracy: 0.9833\u001b[32m [repeated 6x across cluster]\u001b[0m\n",
            "\u001b[2m\u001b[36m(ClientAppActor pid=1536475)\u001b[0m Epoch 10/15, Loss: 0.0188, Accuracy: 1.0000\u001b[32m [repeated 6x across cluster]\u001b[0m\n",
            "\u001b[2m\u001b[36m(ClientAppActor pid=1536475)\u001b[0m Epoch 13/15, Loss: 0.0095, Accuracy: 1.0000\u001b[32m [repeated 6x across cluster]\u001b[0m\n"
          ]
        },
        {
          "name": "stderr",
          "output_type": "stream",
          "text": [
            "\u001b[92mINFO \u001b[0m:      aggregate_fit: received 6 results and 0 failures\n",
            "\u001b[92mINFO \u001b[0m:      configure_evaluate: strategy sampled 6 clients (out of 6)\n"
          ]
        },
        {
          "name": "stdout",
          "output_type": "stream",
          "text": [
            "\u001b[2m\u001b[36m(ClientAppActor pid=1536476)\u001b[0m Test acc  0.6802030456852792\n",
            "\u001b[2m\u001b[36m(ClientAppActor pid=1536476)\u001b[0m Epoch 15/15, Loss: 0.0103, Accuracy: 1.0000\u001b[32m [repeated 5x across cluster]\u001b[0m\n"
          ]
        },
        {
          "name": "stderr",
          "output_type": "stream",
          "text": [
            "\u001b[92mINFO \u001b[0m:      aggregate_evaluate: received 6 results and 0 failures\n",
            "\u001b[92mINFO \u001b[0m:      \n",
            "\u001b[92mINFO \u001b[0m:      [ROUND 15]\n",
            "\u001b[92mINFO \u001b[0m:      configure_fit: strategy sampled 6 clients (out of 6)\n"
          ]
        },
        {
          "name": "stdout",
          "output_type": "stream",
          "text": [
            "\u001b[2m\u001b[36m(ClientAppActor pid=1536476)\u001b[0m Test acc  0.6802030456852792\u001b[32m [repeated 5x across cluster]\u001b[0m\n",
            "\u001b[2m\u001b[36m(ClientAppActor pid=1536476)\u001b[0m Epoch 1/15, Loss: 0.0907, Accuracy: 0.9667\n",
            "\u001b[2m\u001b[36m(ClientAppActor pid=1536475)\u001b[0m Epoch 1/15, Loss: 0.1671, Accuracy: 0.9500\n",
            "\u001b[2m\u001b[36m(ClientAppActor pid=1536475)\u001b[0m Epoch 4/15, Loss: 0.1183, Accuracy: 0.9646\u001b[32m [repeated 5x across cluster]\u001b[0m\n",
            "\u001b[2m\u001b[36m(ClientAppActor pid=1536475)\u001b[0m Epoch 7/15, Loss: 0.0270, Accuracy: 0.9979\u001b[32m [repeated 6x across cluster]\u001b[0m\n",
            "\u001b[2m\u001b[36m(ClientAppActor pid=1536475)\u001b[0m Epoch 10/15, Loss: 0.0148, Accuracy: 0.9979\u001b[32m [repeated 6x across cluster]\u001b[0m\n",
            "\u001b[2m\u001b[36m(ClientAppActor pid=1536476)\u001b[0m Epoch 12/15, Loss: 0.0070, Accuracy: 1.0000\u001b[32m [repeated 5x across cluster]\u001b[0m\n",
            "\u001b[2m\u001b[36m(ClientAppActor pid=1536476)\u001b[0m Epoch 15/15, Loss: 0.0048, Accuracy: 1.0000\u001b[32m [repeated 6x across cluster]\u001b[0m\n",
            "\u001b[2m\u001b[36m(ClientAppActor pid=1536476)\u001b[0m Epoch 3/15, Loss: 0.1103, Accuracy: 0.9583\u001b[32m [repeated 7x across cluster]\u001b[0m\n",
            "\u001b[2m\u001b[36m(ClientAppActor pid=1536476)\u001b[0m Epoch 6/15, Loss: 0.0895, Accuracy: 0.9729\u001b[32m [repeated 6x across cluster]\u001b[0m\n",
            "\u001b[2m\u001b[36m(ClientAppActor pid=1536476)\u001b[0m Epoch 9/15, Loss: 0.0318, Accuracy: 0.9833\u001b[32m [repeated 7x across cluster]\u001b[0m\n",
            "\u001b[2m\u001b[36m(ClientAppActor pid=1536476)\u001b[0m Epoch 12/15, Loss: 0.0352, Accuracy: 0.9875\u001b[32m [repeated 6x across cluster]\u001b[0m\n",
            "\u001b[2m\u001b[36m(ClientAppActor pid=1536476)\u001b[0m Epoch 15/15, Loss: 0.0054, Accuracy: 1.0000\u001b[32m [repeated 6x across cluster]\u001b[0m\n",
            "\u001b[2m\u001b[36m(ClientAppActor pid=1536475)\u001b[0m Epoch 6/15, Loss: 0.0213, Accuracy: 0.9979\u001b[32m [repeated 6x across cluster]\u001b[0m\n",
            "\u001b[2m\u001b[36m(ClientAppActor pid=1536475)\u001b[0m Epoch 9/15, Loss: 0.0137, Accuracy: 1.0000\u001b[32m [repeated 6x across cluster]\u001b[0m\n",
            "\u001b[2m\u001b[36m(ClientAppActor pid=1536475)\u001b[0m Epoch 12/15, Loss: 0.0071, Accuracy: 1.0000\u001b[32m [repeated 6x across cluster]\u001b[0m\n",
            "\u001b[2m\u001b[36m(ClientAppActor pid=1536475)\u001b[0m Epoch 15/15, Loss: 0.0048, Accuracy: 1.0000\u001b[32m [repeated 6x across cluster]\u001b[0m\n"
          ]
        },
        {
          "name": "stderr",
          "output_type": "stream",
          "text": [
            "\u001b[92mINFO \u001b[0m:      aggregate_fit: received 6 results and 0 failures\n"
          ]
        },
        {
          "name": "stdout",
          "output_type": "stream",
          "text": [
            "\u001b[2m\u001b[36m(ClientAppActor pid=1536476)\u001b[0m Epoch 15/15, Loss: 0.0045, Accuracy: 1.0000\u001b[32m [repeated 4x across cluster]\u001b[0m\n"
          ]
        },
        {
          "name": "stderr",
          "output_type": "stream",
          "text": [
            "\u001b[92mINFO \u001b[0m:      configure_evaluate: strategy sampled 6 clients (out of 6)\n"
          ]
        },
        {
          "name": "stdout",
          "output_type": "stream",
          "text": [
            "\u001b[2m\u001b[36m(ClientAppActor pid=1536476)\u001b[0m Test acc  0.6954314720812182\n"
          ]
        },
        {
          "name": "stderr",
          "output_type": "stream",
          "text": [
            "\u001b[92mINFO \u001b[0m:      aggregate_evaluate: received 6 results and 0 failures\n",
            "\u001b[92mINFO \u001b[0m:      \n",
            "\u001b[92mINFO \u001b[0m:      [ROUND 16]\n",
            "\u001b[92mINFO \u001b[0m:      configure_fit: strategy sampled 6 clients (out of 6)\n"
          ]
        },
        {
          "name": "stdout",
          "output_type": "stream",
          "text": [
            "\u001b[2m\u001b[36m(ClientAppActor pid=1536476)\u001b[0m Epoch 1/15, Loss: 0.1374, Accuracy: 0.9396\n",
            "\u001b[2m\u001b[36m(ClientAppActor pid=1536476)\u001b[0m Test acc  0.6954314720812182\u001b[32m [repeated 5x across cluster]\u001b[0m\n",
            "\u001b[2m\u001b[36m(ClientAppActor pid=1536476)\u001b[0m Epoch 4/15, Loss: 0.0375, Accuracy: 0.9917\u001b[32m [repeated 6x across cluster]\u001b[0m\n",
            "\u001b[2m\u001b[36m(ClientAppActor pid=1536475)\u001b[0m Epoch 7/15, Loss: 0.0256, Accuracy: 0.9917\u001b[32m [repeated 6x across cluster]\u001b[0m\n",
            "\u001b[2m\u001b[36m(ClientAppActor pid=1536475)\u001b[0m Epoch 10/15, Loss: 0.0161, Accuracy: 0.9979\u001b[32m [repeated 6x across cluster]\u001b[0m\n",
            "\u001b[2m\u001b[36m(ClientAppActor pid=1536475)\u001b[0m Epoch 13/15, Loss: 0.0063, Accuracy: 1.0000\u001b[32m [repeated 6x across cluster]\u001b[0m\n",
            "\u001b[2m\u001b[36m(ClientAppActor pid=1536475)\u001b[0m Epoch 1/15, Loss: 0.0745, Accuracy: 0.9729\u001b[32m [repeated 6x across cluster]\u001b[0m\n",
            "\u001b[2m\u001b[36m(ClientAppActor pid=1536475)\u001b[0m Epoch 4/15, Loss: 0.1979, Accuracy: 0.9187\u001b[32m [repeated 6x across cluster]\u001b[0m\n",
            "\u001b[2m\u001b[36m(ClientAppActor pid=1536475)\u001b[0m Epoch 7/15, Loss: 0.0686, Accuracy: 0.9792\u001b[32m [repeated 6x across cluster]\u001b[0m\n",
            "\u001b[2m\u001b[36m(ClientAppActor pid=1536475)\u001b[0m Epoch 10/15, Loss: 0.0137, Accuracy: 0.9979\u001b[32m [repeated 6x across cluster]\u001b[0m\n",
            "\u001b[2m\u001b[36m(ClientAppActor pid=1536476)\u001b[0m Epoch 12/15, Loss: 0.0076, Accuracy: 1.0000\u001b[32m [repeated 5x across cluster]\u001b[0m\n",
            "\u001b[2m\u001b[36m(ClientAppActor pid=1536476)\u001b[0m Epoch 15/15, Loss: 0.0036, Accuracy: 1.0000\u001b[32m [repeated 6x across cluster]\u001b[0m\n",
            "\u001b[2m\u001b[36m(ClientAppActor pid=1536475)\u001b[0m Epoch 4/15, Loss: 0.0713, Accuracy: 0.9729\u001b[32m [repeated 6x across cluster]\u001b[0m\n",
            "\u001b[2m\u001b[36m(ClientAppActor pid=1536475)\u001b[0m Epoch 7/15, Loss: 0.0318, Accuracy: 0.9875\u001b[32m [repeated 6x across cluster]\u001b[0m\n",
            "\u001b[2m\u001b[36m(ClientAppActor pid=1536475)\u001b[0m Epoch 10/15, Loss: 0.0168, Accuracy: 0.9979\u001b[32m [repeated 6x across cluster]\u001b[0m\n",
            "\u001b[2m\u001b[36m(ClientAppActor pid=1536476)\u001b[0m Epoch 12/15, Loss: 0.0063, Accuracy: 1.0000\u001b[32m [repeated 6x across cluster]\u001b[0m\n"
          ]
        },
        {
          "name": "stderr",
          "output_type": "stream",
          "text": [
            "\u001b[92mINFO \u001b[0m:      aggregate_fit: received 6 results and 0 failures\n"
          ]
        },
        {
          "name": "stdout",
          "output_type": "stream",
          "text": [
            "\u001b[2m\u001b[36m(ClientAppActor pid=1536476)\u001b[0m Epoch 15/15, Loss: 0.0039, Accuracy: 1.0000\u001b[32m [repeated 6x across cluster]\u001b[0m\n"
          ]
        },
        {
          "name": "stderr",
          "output_type": "stream",
          "text": [
            "\u001b[92mINFO \u001b[0m:      configure_evaluate: strategy sampled 6 clients (out of 6)\n"
          ]
        },
        {
          "name": "stdout",
          "output_type": "stream",
          "text": [
            "\u001b[2m\u001b[36m(ClientAppActor pid=1536476)\u001b[0m Test acc  0.7030456852791879\n"
          ]
        },
        {
          "name": "stderr",
          "output_type": "stream",
          "text": [
            "\u001b[92mINFO \u001b[0m:      aggregate_evaluate: received 6 results and 0 failures\n",
            "\u001b[92mINFO \u001b[0m:      \n",
            "\u001b[92mINFO \u001b[0m:      [ROUND 17]\n",
            "\u001b[92mINFO \u001b[0m:      configure_fit: strategy sampled 6 clients (out of 6)\n"
          ]
        },
        {
          "name": "stdout",
          "output_type": "stream",
          "text": [
            "\u001b[2m\u001b[36m(ClientAppActor pid=1536476)\u001b[0m Epoch 1/15, Loss: 0.1557, Accuracy: 0.9396\n",
            "\u001b[2m\u001b[36m(ClientAppActor pid=1536476)\u001b[0m Test acc  0.7030456852791879\u001b[32m [repeated 5x across cluster]\u001b[0m\n",
            "\u001b[2m\u001b[36m(ClientAppActor pid=1536476)\u001b[0m Epoch 4/15, Loss: 0.1359, Accuracy: 0.9396\u001b[32m [repeated 7x across cluster]\u001b[0m\n",
            "\u001b[2m\u001b[36m(ClientAppActor pid=1536476)\u001b[0m Epoch 7/15, Loss: 0.0673, Accuracy: 0.9750\u001b[32m [repeated 6x across cluster]\u001b[0m\n",
            "\u001b[2m\u001b[36m(ClientAppActor pid=1536476)\u001b[0m Epoch 10/15, Loss: 0.0162, Accuracy: 0.9979\u001b[32m [repeated 6x across cluster]\u001b[0m\n",
            "\u001b[2m\u001b[36m(ClientAppActor pid=1536476)\u001b[0m Epoch 13/15, Loss: 0.0045, Accuracy: 1.0000\u001b[32m [repeated 6x across cluster]\u001b[0m\n",
            "\u001b[2m\u001b[36m(ClientAppActor pid=1536476)\u001b[0m Epoch 1/15, Loss: 0.0955, Accuracy: 0.9729\u001b[32m [repeated 6x across cluster]\u001b[0m\n",
            "\u001b[2m\u001b[36m(ClientAppActor pid=1536476)\u001b[0m Epoch 4/15, Loss: 0.2715, Accuracy: 0.8771\u001b[32m [repeated 6x across cluster]\u001b[0m\n",
            "\u001b[2m\u001b[36m(ClientAppActor pid=1536475)\u001b[0m Epoch 8/15, Loss: 0.0056, Accuracy: 1.0000\u001b[32m [repeated 6x across cluster]\u001b[0m\n",
            "\u001b[2m\u001b[36m(ClientAppActor pid=1536475)\u001b[0m Epoch 11/15, Loss: 0.0033, Accuracy: 1.0000\u001b[32m [repeated 6x across cluster]\u001b[0m\n",
            "\u001b[2m\u001b[36m(ClientAppActor pid=1536476)\u001b[0m Epoch 13/15, Loss: 0.0089, Accuracy: 1.0000\u001b[32m [repeated 7x across cluster]\u001b[0m\n",
            "\u001b[2m\u001b[36m(ClientAppActor pid=1536476)\u001b[0m Epoch 1/15, Loss: 0.1229, Accuracy: 0.9604\u001b[32m [repeated 6x across cluster]\u001b[0m\n",
            "\u001b[2m\u001b[36m(ClientAppActor pid=1536475)\u001b[0m Epoch 6/15, Loss: 0.0166, Accuracy: 0.9979\u001b[32m [repeated 6x across cluster]\u001b[0m\n",
            "\u001b[2m\u001b[36m(ClientAppActor pid=1536476)\u001b[0m Epoch 7/15, Loss: 0.0516, Accuracy: 0.9875\u001b[32m [repeated 7x across cluster]\u001b[0m\n",
            "\u001b[2m\u001b[36m(ClientAppActor pid=1536476)\u001b[0m Epoch 10/15, Loss: 0.0083, Accuracy: 1.0000\u001b[32m [repeated 6x across cluster]\u001b[0m\n",
            "\u001b[2m\u001b[36m(ClientAppActor pid=1536476)\u001b[0m Epoch 13/15, Loss: 0.0050, Accuracy: 1.0000\u001b[32m [repeated 6x across cluster]\u001b[0m\n"
          ]
        },
        {
          "name": "stderr",
          "output_type": "stream",
          "text": [
            "\u001b[92mINFO \u001b[0m:      aggregate_fit: received 6 results and 0 failures\n",
            "\u001b[92mINFO \u001b[0m:      configure_evaluate: strategy sampled 6 clients (out of 6)\n"
          ]
        },
        {
          "name": "stdout",
          "output_type": "stream",
          "text": [
            "\u001b[2m\u001b[36m(ClientAppActor pid=1536475)\u001b[0m Test acc  0.6928934010152284\n",
            "\u001b[2m\u001b[36m(ClientAppActor pid=1536476)\u001b[0m Epoch 15/15, Loss: 0.0028, Accuracy: 1.0000\u001b[32m [repeated 2x across cluster]\u001b[0m\n"
          ]
        },
        {
          "name": "stderr",
          "output_type": "stream",
          "text": [
            "\u001b[92mINFO \u001b[0m:      aggregate_evaluate: received 6 results and 0 failures\n",
            "\u001b[92mINFO \u001b[0m:      \n",
            "\u001b[92mINFO \u001b[0m:      [ROUND 18]\n",
            "\u001b[92mINFO \u001b[0m:      configure_fit: strategy sampled 6 clients (out of 6)\n"
          ]
        },
        {
          "name": "stdout",
          "output_type": "stream",
          "text": [
            "\u001b[2m\u001b[36m(ClientAppActor pid=1536476)\u001b[0m Test acc  0.6928934010152284\u001b[32m [repeated 5x across cluster]\u001b[0m\n",
            "\u001b[2m\u001b[36m(ClientAppActor pid=1536476)\u001b[0m Epoch 1/15, Loss: 0.0612, Accuracy: 0.9729\n",
            "\u001b[2m\u001b[36m(ClientAppActor pid=1536475)\u001b[0m Epoch 1/15, Loss: 0.0962, Accuracy: 0.9667\n",
            "\u001b[2m\u001b[36m(ClientAppActor pid=1536475)\u001b[0m Epoch 4/15, Loss: 0.0161, Accuracy: 1.0000\u001b[32m [repeated 5x across cluster]\u001b[0m\n",
            "\u001b[2m\u001b[36m(ClientAppActor pid=1536475)\u001b[0m Epoch 7/15, Loss: 0.0068, Accuracy: 1.0000\u001b[32m [repeated 6x across cluster]\u001b[0m\n",
            "\u001b[2m\u001b[36m(ClientAppActor pid=1536475)\u001b[0m Epoch 10/15, Loss: 0.0045, Accuracy: 1.0000\u001b[32m [repeated 6x across cluster]\u001b[0m\n",
            "\u001b[2m\u001b[36m(ClientAppActor pid=1536475)\u001b[0m Epoch 13/15, Loss: 0.0030, Accuracy: 1.0000\u001b[32m [repeated 6x across cluster]\u001b[0m\n",
            "\u001b[2m\u001b[36m(ClientAppActor pid=1536476)\u001b[0m Epoch 15/15, Loss: 0.0024, Accuracy: 1.0000\u001b[32m [repeated 5x across cluster]\u001b[0m\n",
            "\u001b[2m\u001b[36m(ClientAppActor pid=1536475)\u001b[0m Epoch 4/15, Loss: 0.0222, Accuracy: 0.9979\u001b[32m [repeated 6x across cluster]\u001b[0m\n",
            "\u001b[2m\u001b[36m(ClientAppActor pid=1536475)\u001b[0m Epoch 7/15, Loss: 0.0077, Accuracy: 1.0000\u001b[32m [repeated 6x across cluster]\u001b[0m\n",
            "\u001b[2m\u001b[36m(ClientAppActor pid=1536475)\u001b[0m Epoch 10/15, Loss: 0.0039, Accuracy: 1.0000\u001b[32m [repeated 6x across cluster]\u001b[0m\n",
            "\u001b[2m\u001b[36m(ClientAppActor pid=1536475)\u001b[0m Epoch 13/15, Loss: 0.0031, Accuracy: 1.0000\u001b[32m [repeated 6x across cluster]\u001b[0m\n",
            "\u001b[2m\u001b[36m(ClientAppActor pid=1536475)\u001b[0m Epoch 1/15, Loss: 0.0728, Accuracy: 0.9750\u001b[32m [repeated 6x across cluster]\u001b[0m\n",
            "\u001b[2m\u001b[36m(ClientAppActor pid=1536475)\u001b[0m Epoch 4/15, Loss: 0.0284, Accuracy: 0.9938\u001b[32m [repeated 6x across cluster]\u001b[0m\n",
            "\u001b[2m\u001b[36m(ClientAppActor pid=1536475)\u001b[0m Epoch 7/15, Loss: 0.0092, Accuracy: 0.9979\u001b[32m [repeated 6x across cluster]\u001b[0m\n",
            "\u001b[2m\u001b[36m(ClientAppActor pid=1536475)\u001b[0m Epoch 10/15, Loss: 0.0030, Accuracy: 1.0000\u001b[32m [repeated 6x across cluster]\u001b[0m\n",
            "\u001b[2m\u001b[36m(ClientAppActor pid=1536476)\u001b[0m Epoch 11/15, Loss: 0.0043, Accuracy: 1.0000\u001b[32m [repeated 5x across cluster]\u001b[0m\n",
            "\u001b[2m\u001b[36m(ClientAppActor pid=1536476)\u001b[0m Epoch 14/15, Loss: 0.0035, Accuracy: 1.0000\u001b[32m [repeated 6x across cluster]\u001b[0m\n"
          ]
        },
        {
          "name": "stderr",
          "output_type": "stream",
          "text": [
            "\u001b[92mINFO \u001b[0m:      aggregate_fit: received 6 results and 0 failures\n",
            "\u001b[92mINFO \u001b[0m:      configure_evaluate: strategy sampled 6 clients (out of 6)\n"
          ]
        },
        {
          "name": "stdout",
          "output_type": "stream",
          "text": [
            "\u001b[2m\u001b[36m(ClientAppActor pid=1536475)\u001b[0m Test acc  0.7157360406091371\n",
            "\u001b[2m\u001b[36m(ClientAppActor pid=1536476)\u001b[0m Epoch 15/15, Loss: 0.0027, Accuracy: 1.0000\n"
          ]
        },
        {
          "name": "stderr",
          "output_type": "stream",
          "text": [
            "\u001b[92mINFO \u001b[0m:      aggregate_evaluate: received 6 results and 0 failures\n",
            "\u001b[92mINFO \u001b[0m:      \n",
            "\u001b[92mINFO \u001b[0m:      [ROUND 19]\n",
            "\u001b[92mINFO \u001b[0m:      configure_fit: strategy sampled 6 clients (out of 6)\n"
          ]
        },
        {
          "name": "stdout",
          "output_type": "stream",
          "text": [
            "\u001b[2m\u001b[36m(ClientAppActor pid=1536476)\u001b[0m Epoch 1/15, Loss: 0.0883, Accuracy: 0.9729\n",
            "\u001b[2m\u001b[36m(ClientAppActor pid=1536476)\u001b[0m Test acc  0.7157360406091371\u001b[32m [repeated 5x across cluster]\u001b[0m\n",
            "\u001b[2m\u001b[36m(ClientAppActor pid=1536476)\u001b[0m Epoch 4/15, Loss: 0.2085, Accuracy: 0.9083\u001b[32m [repeated 6x across cluster]\u001b[0m\n",
            "\u001b[2m\u001b[36m(ClientAppActor pid=1536476)\u001b[0m Epoch 7/15, Loss: 0.1551, Accuracy: 0.9521\u001b[32m [repeated 6x across cluster]\u001b[0m\n",
            "\u001b[2m\u001b[36m(ClientAppActor pid=1536476)\u001b[0m Epoch 10/15, Loss: 0.0295, Accuracy: 0.9979\u001b[32m [repeated 6x across cluster]\u001b[0m\n",
            "\u001b[2m\u001b[36m(ClientAppActor pid=1536476)\u001b[0m Epoch 13/15, Loss: 0.0107, Accuracy: 0.9979\u001b[32m [repeated 6x across cluster]\u001b[0m\n",
            "\u001b[2m\u001b[36m(ClientAppActor pid=1536475)\u001b[0m Epoch 1/15, Loss: 0.1075, Accuracy: 0.9625\u001b[32m [repeated 6x across cluster]\u001b[0m\n",
            "\u001b[2m\u001b[36m(ClientAppActor pid=1536476)\u001b[0m Epoch 4/15, Loss: 0.0296, Accuracy: 0.9896\u001b[32m [repeated 7x across cluster]\u001b[0m\n",
            "\u001b[2m\u001b[36m(ClientAppActor pid=1536476)\u001b[0m Epoch 7/15, Loss: 0.0060, Accuracy: 1.0000\u001b[32m [repeated 6x across cluster]\u001b[0m\n",
            "\u001b[2m\u001b[36m(ClientAppActor pid=1536476)\u001b[0m Epoch 10/15, Loss: 0.0022, Accuracy: 1.0000\u001b[32m [repeated 6x across cluster]\u001b[0m\n",
            "\u001b[2m\u001b[36m(ClientAppActor pid=1536476)\u001b[0m Epoch 13/15, Loss: 0.0017, Accuracy: 1.0000\u001b[32m [repeated 7x across cluster]\u001b[0m\n",
            "\u001b[2m\u001b[36m(ClientAppActor pid=1536475)\u001b[0m Epoch 2/15, Loss: 0.0390, Accuracy: 0.9875\u001b[32m [repeated 5x across cluster]\u001b[0m\n",
            "\u001b[2m\u001b[36m(ClientAppActor pid=1536475)\u001b[0m Epoch 5/15, Loss: 0.0112, Accuracy: 1.0000\u001b[32m [repeated 6x across cluster]\u001b[0m\n",
            "\u001b[2m\u001b[36m(ClientAppActor pid=1536475)\u001b[0m Epoch 8/15, Loss: 0.0053, Accuracy: 1.0000\u001b[32m [repeated 6x across cluster]\u001b[0m\n",
            "\u001b[2m\u001b[36m(ClientAppActor pid=1536475)\u001b[0m Epoch 11/15, Loss: 0.0027, Accuracy: 1.0000\u001b[32m [repeated 6x across cluster]\u001b[0m\n",
            "\u001b[2m\u001b[36m(ClientAppActor pid=1536475)\u001b[0m Epoch 14/15, Loss: 0.0020, Accuracy: 1.0000\u001b[32m [repeated 6x across cluster]\u001b[0m\n"
          ]
        },
        {
          "name": "stderr",
          "output_type": "stream",
          "text": [
            "\u001b[92mINFO \u001b[0m:      aggregate_fit: received 6 results and 0 failures\n",
            "\u001b[92mINFO \u001b[0m:      configure_evaluate: strategy sampled 6 clients (out of 6)\n"
          ]
        },
        {
          "name": "stdout",
          "output_type": "stream",
          "text": [
            "\u001b[2m\u001b[36m(ClientAppActor pid=1536476)\u001b[0m Test acc  0.7182741116751269\n",
            "\u001b[2m\u001b[36m(ClientAppActor pid=1536476)\u001b[0m Epoch 15/15, Loss: 0.0019, Accuracy: 1.0000\u001b[32m [repeated 4x across cluster]\u001b[0m\n"
          ]
        },
        {
          "name": "stderr",
          "output_type": "stream",
          "text": [
            "\u001b[92mINFO \u001b[0m:      aggregate_evaluate: received 6 results and 0 failures\n",
            "\u001b[92mINFO \u001b[0m:      \n",
            "\u001b[92mINFO \u001b[0m:      [ROUND 20]\n",
            "\u001b[92mINFO \u001b[0m:      configure_fit: strategy sampled 6 clients (out of 6)\n"
          ]
        },
        {
          "name": "stdout",
          "output_type": "stream",
          "text": [
            "\u001b[2m\u001b[36m(ClientAppActor pid=1536476)\u001b[0m Test acc  0.7182741116751269\u001b[32m [repeated 5x across cluster]\u001b[0m\n",
            "\u001b[2m\u001b[36m(ClientAppActor pid=1536476)\u001b[0m Epoch 1/15, Loss: 0.0745, Accuracy: 0.9729\n",
            "\u001b[2m\u001b[36m(ClientAppActor pid=1536475)\u001b[0m Epoch 1/15, Loss: 0.0360, Accuracy: 0.9833\n",
            "\u001b[2m\u001b[36m(ClientAppActor pid=1536475)\u001b[0m Epoch 2/15, Loss: 0.0384, Accuracy: 0.9854\n",
            "\u001b[2m\u001b[36m(ClientAppActor pid=1536475)\u001b[0m Epoch 4/15, Loss: 0.0766, Accuracy: 0.9604\u001b[32m [repeated 4x across cluster]\u001b[0m\n",
            "\u001b[2m\u001b[36m(ClientAppActor pid=1536475)\u001b[0m Epoch 7/15, Loss: 0.0596, Accuracy: 0.9854\u001b[32m [repeated 6x across cluster]\u001b[0m\n",
            "\u001b[2m\u001b[36m(ClientAppActor pid=1536475)\u001b[0m Epoch 10/15, Loss: 0.0443, Accuracy: 0.9833\u001b[32m [repeated 6x across cluster]\u001b[0m\n",
            "\u001b[2m\u001b[36m(ClientAppActor pid=1536475)\u001b[0m Epoch 13/15, Loss: 0.0090, Accuracy: 1.0000\u001b[32m [repeated 6x across cluster]\u001b[0m\n",
            "\u001b[2m\u001b[36m(ClientAppActor pid=1536476)\u001b[0m Epoch 15/15, Loss: 0.0017, Accuracy: 1.0000\u001b[32m [repeated 5x across cluster]\u001b[0m\n",
            "\u001b[2m\u001b[36m(ClientAppActor pid=1536475)\u001b[0m Epoch 4/15, Loss: 0.0989, Accuracy: 0.9646\u001b[32m [repeated 6x across cluster]\u001b[0m\n",
            "\u001b[2m\u001b[36m(ClientAppActor pid=1536475)\u001b[0m Epoch 7/15, Loss: 0.0352, Accuracy: 0.9854\u001b[32m [repeated 6x across cluster]\u001b[0m\n",
            "\u001b[2m\u001b[36m(ClientAppActor pid=1536475)\u001b[0m Epoch 10/15, Loss: 0.0095, Accuracy: 1.0000\u001b[32m [repeated 6x across cluster]\u001b[0m\n",
            "\u001b[2m\u001b[36m(ClientAppActor pid=1536475)\u001b[0m Epoch 13/15, Loss: 0.0020, Accuracy: 1.0000\u001b[32m [repeated 6x across cluster]\u001b[0m\n",
            "\u001b[2m\u001b[36m(ClientAppActor pid=1536475)\u001b[0m Epoch 1/15, Loss: 0.0509, Accuracy: 0.9833\u001b[32m [repeated 6x across cluster]\u001b[0m\n",
            "\u001b[2m\u001b[36m(ClientAppActor pid=1536476)\u001b[0m Epoch 3/15, Loss: 0.0254, Accuracy: 0.9917\u001b[32m [repeated 7x across cluster]\u001b[0m\n",
            "\u001b[2m\u001b[36m(ClientAppActor pid=1536476)\u001b[0m Epoch 6/15, Loss: 0.0055, Accuracy: 1.0000\u001b[32m [repeated 7x across cluster]\u001b[0m\n",
            "\u001b[2m\u001b[36m(ClientAppActor pid=1536476)\u001b[0m Epoch 9/15, Loss: 0.0031, Accuracy: 1.0000\u001b[32m [repeated 6x across cluster]\u001b[0m\n",
            "\u001b[2m\u001b[36m(ClientAppActor pid=1536476)\u001b[0m Epoch 12/15, Loss: 0.0024, Accuracy: 1.0000\u001b[32m [repeated 6x across cluster]\u001b[0m\n"
          ]
        },
        {
          "name": "stderr",
          "output_type": "stream",
          "text": [
            "\u001b[92mINFO \u001b[0m:      aggregate_fit: received 6 results and 0 failures\n"
          ]
        },
        {
          "name": "stdout",
          "output_type": "stream",
          "text": [
            "\u001b[2m\u001b[36m(ClientAppActor pid=1536476)\u001b[0m Epoch 15/15, Loss: 0.0019, Accuracy: 1.0000\u001b[32m [repeated 4x across cluster]\u001b[0m\n"
          ]
        },
        {
          "name": "stderr",
          "output_type": "stream",
          "text": [
            "\u001b[92mINFO \u001b[0m:      configure_evaluate: strategy sampled 6 clients (out of 6)\n"
          ]
        },
        {
          "name": "stdout",
          "output_type": "stream",
          "text": [
            "\u001b[2m\u001b[36m(ClientAppActor pid=1536476)\u001b[0m Test acc  0.7208121827411168\n"
          ]
        },
        {
          "name": "stderr",
          "output_type": "stream",
          "text": [
            "\u001b[92mINFO \u001b[0m:      aggregate_evaluate: received 6 results and 0 failures\n",
            "\u001b[92mINFO \u001b[0m:      \n",
            "\u001b[92mINFO \u001b[0m:      [ROUND 21]\n",
            "\u001b[92mINFO \u001b[0m:      configure_fit: strategy sampled 6 clients (out of 6)\n"
          ]
        },
        {
          "name": "stdout",
          "output_type": "stream",
          "text": [
            "\u001b[2m\u001b[36m(ClientAppActor pid=1536475)\u001b[0m Epoch 1/15, Loss: 0.0348, Accuracy: 0.9875\n",
            "\u001b[2m\u001b[36m(ClientAppActor pid=1536476)\u001b[0m Test acc  0.7208121827411168\u001b[32m [repeated 5x across cluster]\u001b[0m\n",
            "\u001b[2m\u001b[36m(ClientAppActor pid=1536475)\u001b[0m Epoch 4/15, Loss: 0.0044, Accuracy: 1.0000\u001b[32m [repeated 6x across cluster]\u001b[0m\n",
            "\u001b[2m\u001b[36m(ClientAppActor pid=1536475)\u001b[0m Epoch 7/15, Loss: 0.0024, Accuracy: 1.0000\u001b[32m [repeated 6x across cluster]\u001b[0m\n",
            "\u001b[2m\u001b[36m(ClientAppActor pid=1536475)\u001b[0m Epoch 10/15, Loss: 0.0018, Accuracy: 1.0000\u001b[32m [repeated 6x across cluster]\u001b[0m\n",
            "\u001b[2m\u001b[36m(ClientAppActor pid=1536475)\u001b[0m Epoch 13/15, Loss: 0.0016, Accuracy: 1.0000\u001b[32m [repeated 6x across cluster]\u001b[0m\n",
            "\u001b[2m\u001b[36m(ClientAppActor pid=1536476)\u001b[0m Epoch 15/15, Loss: 0.0014, Accuracy: 1.0000\u001b[32m [repeated 5x across cluster]\u001b[0m\n",
            "\u001b[2m\u001b[36m(ClientAppActor pid=1536475)\u001b[0m Epoch 4/15, Loss: 0.0047, Accuracy: 1.0000\u001b[32m [repeated 6x across cluster]\u001b[0m\n",
            "\u001b[2m\u001b[36m(ClientAppActor pid=1536475)\u001b[0m Epoch 7/15, Loss: 0.0039, Accuracy: 1.0000\u001b[32m [repeated 6x across cluster]\u001b[0m\n",
            "\u001b[2m\u001b[36m(ClientAppActor pid=1536475)\u001b[0m Epoch 10/15, Loss: 0.0025, Accuracy: 1.0000\u001b[32m [repeated 6x across cluster]\u001b[0m\n",
            "\u001b[2m\u001b[36m(ClientAppActor pid=1536476)\u001b[0m Epoch 12/15, Loss: 0.0021, Accuracy: 1.0000\u001b[32m [repeated 7x across cluster]\u001b[0m\n",
            "\u001b[2m\u001b[36m(ClientAppActor pid=1536476)\u001b[0m Epoch 15/15, Loss: 0.0016, Accuracy: 1.0000\u001b[32m [repeated 6x across cluster]\u001b[0m\n",
            "\u001b[2m\u001b[36m(ClientAppActor pid=1536475)\u001b[0m Epoch 4/15, Loss: 0.0125, Accuracy: 0.9979\u001b[32m [repeated 5x across cluster]\u001b[0m\n",
            "\u001b[2m\u001b[36m(ClientAppActor pid=1536475)\u001b[0m Epoch 7/15, Loss: 0.0037, Accuracy: 1.0000\u001b[32m [repeated 6x across cluster]\u001b[0m\n",
            "\u001b[2m\u001b[36m(ClientAppActor pid=1536475)\u001b[0m Epoch 10/15, Loss: 0.0023, Accuracy: 1.0000\u001b[32m [repeated 6x across cluster]\u001b[0m\n",
            "\u001b[2m\u001b[36m(ClientAppActor pid=1536475)\u001b[0m Epoch 13/15, Loss: 0.0015, Accuracy: 1.0000\u001b[32m [repeated 6x across cluster]\u001b[0m\n"
          ]
        },
        {
          "name": "stderr",
          "output_type": "stream",
          "text": [
            "\u001b[92mINFO \u001b[0m:      aggregate_fit: received 6 results and 0 failures\n"
          ]
        },
        {
          "name": "stdout",
          "output_type": "stream",
          "text": [
            "\u001b[2m\u001b[36m(ClientAppActor pid=1536476)\u001b[0m Epoch 15/15, Loss: 0.0018, Accuracy: 1.0000\u001b[32m [repeated 6x across cluster]\u001b[0m\n"
          ]
        },
        {
          "name": "stderr",
          "output_type": "stream",
          "text": [
            "\u001b[92mINFO \u001b[0m:      configure_evaluate: strategy sampled 6 clients (out of 6)\n"
          ]
        },
        {
          "name": "stdout",
          "output_type": "stream",
          "text": [
            "\u001b[2m\u001b[36m(ClientAppActor pid=1536475)\u001b[0m Test acc  0.7233502538071066\n"
          ]
        },
        {
          "name": "stderr",
          "output_type": "stream",
          "text": [
            "\u001b[92mINFO \u001b[0m:      aggregate_evaluate: received 6 results and 0 failures\n",
            "\u001b[92mINFO \u001b[0m:      \n",
            "\u001b[92mINFO \u001b[0m:      [ROUND 22]\n",
            "\u001b[92mINFO \u001b[0m:      configure_fit: strategy sampled 6 clients (out of 6)\n"
          ]
        },
        {
          "name": "stdout",
          "output_type": "stream",
          "text": [
            "\u001b[2m\u001b[36m(ClientAppActor pid=1536476)\u001b[0m Epoch 1/15, Loss: 0.0406, Accuracy: 0.9854\n",
            "\u001b[2m\u001b[36m(ClientAppActor pid=1536476)\u001b[0m Test acc  0.7233502538071066\u001b[32m [repeated 5x across cluster]\u001b[0m\n",
            "\u001b[2m\u001b[36m(ClientAppActor pid=1536475)\u001b[0m Epoch 4/15, Loss: 0.0143, Accuracy: 1.0000\u001b[32m [repeated 6x across cluster]\u001b[0m\n",
            "\u001b[2m\u001b[36m(ClientAppActor pid=1536475)\u001b[0m Epoch 7/15, Loss: 0.0039, Accuracy: 1.0000\u001b[32m [repeated 6x across cluster]\u001b[0m\n",
            "\u001b[2m\u001b[36m(ClientAppActor pid=1536475)\u001b[0m Epoch 10/15, Loss: 0.0017, Accuracy: 1.0000\u001b[32m [repeated 6x across cluster]\u001b[0m\n",
            "\u001b[2m\u001b[36m(ClientAppActor pid=1536475)\u001b[0m Epoch 13/15, Loss: 0.0013, Accuracy: 1.0000\u001b[32m [repeated 6x across cluster]\u001b[0m\n",
            "\u001b[2m\u001b[36m(ClientAppActor pid=1536475)\u001b[0m Epoch 1/15, Loss: 0.0246, Accuracy: 0.9875\u001b[32m [repeated 6x across cluster]\u001b[0m\n",
            "\u001b[2m\u001b[36m(ClientAppActor pid=1536475)\u001b[0m Epoch 4/15, Loss: 0.0105, Accuracy: 0.9979\u001b[32m [repeated 6x across cluster]\u001b[0m\n",
            "\u001b[2m\u001b[36m(ClientAppActor pid=1536475)\u001b[0m Epoch 7/15, Loss: 0.0057, Accuracy: 1.0000\u001b[32m [repeated 6x across cluster]\u001b[0m\n",
            "\u001b[2m\u001b[36m(ClientAppActor pid=1536475)\u001b[0m Epoch 10/15, Loss: 0.0015, Accuracy: 1.0000\u001b[32m [repeated 6x across cluster]\u001b[0m\n",
            "\u001b[2m\u001b[36m(ClientAppActor pid=1536475)\u001b[0m Epoch 13/15, Loss: 0.0011, Accuracy: 1.0000\u001b[32m [repeated 6x across cluster]\u001b[0m\n",
            "\u001b[2m\u001b[36m(ClientAppActor pid=1536475)\u001b[0m Epoch 1/15, Loss: 0.0238, Accuracy: 0.9958\u001b[32m [repeated 6x across cluster]\u001b[0m\n",
            "\u001b[2m\u001b[36m(ClientAppActor pid=1536476)\u001b[0m Epoch 4/15, Loss: 0.0063, Accuracy: 1.0000\u001b[32m [repeated 7x across cluster]\u001b[0m\n",
            "\u001b[2m\u001b[36m(ClientAppActor pid=1536476)\u001b[0m Epoch 7/15, Loss: 0.0023, Accuracy: 1.0000\u001b[32m [repeated 6x across cluster]\u001b[0m\n",
            "\u001b[2m\u001b[36m(ClientAppActor pid=1536475)\u001b[0m Epoch 11/15, Loss: 0.0014, Accuracy: 1.0000\u001b[32m [repeated 6x across cluster]\u001b[0m\n",
            "\u001b[2m\u001b[36m(ClientAppActor pid=1536476)\u001b[0m Epoch 13/15, Loss: 0.0014, Accuracy: 1.0000\u001b[32m [repeated 7x across cluster]\u001b[0m\n"
          ]
        },
        {
          "name": "stderr",
          "output_type": "stream",
          "text": [
            "\u001b[92mINFO \u001b[0m:      aggregate_fit: received 6 results and 0 failures\n",
            "\u001b[92mINFO \u001b[0m:      configure_evaluate: strategy sampled 6 clients (out of 6)\n"
          ]
        },
        {
          "name": "stdout",
          "output_type": "stream",
          "text": [
            "\u001b[2m\u001b[36m(ClientAppActor pid=1536475)\u001b[0m Test acc  0.7233502538071066\n",
            "\u001b[2m\u001b[36m(ClientAppActor pid=1536476)\u001b[0m Epoch 15/15, Loss: 0.0013, Accuracy: 1.0000\u001b[32m [repeated 3x across cluster]\u001b[0m\n"
          ]
        },
        {
          "name": "stderr",
          "output_type": "stream",
          "text": [
            "\u001b[92mINFO \u001b[0m:      aggregate_evaluate: received 6 results and 0 failures\n",
            "\u001b[92mINFO \u001b[0m:      \n",
            "\u001b[92mINFO \u001b[0m:      [ROUND 23]\n",
            "\u001b[92mINFO \u001b[0m:      configure_fit: strategy sampled 6 clients (out of 6)\n"
          ]
        },
        {
          "name": "stdout",
          "output_type": "stream",
          "text": [
            "\u001b[2m\u001b[36m(ClientAppActor pid=1536476)\u001b[0m Test acc  0.7233502538071066\u001b[32m [repeated 5x across cluster]\u001b[0m\n",
            "\u001b[2m\u001b[36m(ClientAppActor pid=1536476)\u001b[0m Epoch 1/15, Loss: 0.0562, Accuracy: 0.9729\n",
            "\u001b[2m\u001b[36m(ClientAppActor pid=1536475)\u001b[0m Epoch 1/15, Loss: 0.0121, Accuracy: 1.0000\n",
            "\u001b[2m\u001b[36m(ClientAppActor pid=1536475)\u001b[0m Epoch 4/15, Loss: 0.0649, Accuracy: 0.9750\u001b[32m [repeated 6x across cluster]\u001b[0m\n",
            "\u001b[2m\u001b[36m(ClientAppActor pid=1536476)\u001b[0m Epoch 7/15, Loss: 0.0024, Accuracy: 1.0000\u001b[32m [repeated 6x across cluster]\u001b[0m\n",
            "\u001b[2m\u001b[36m(ClientAppActor pid=1536476)\u001b[0m Epoch 10/15, Loss: 0.0014, Accuracy: 1.0000\u001b[32m [repeated 6x across cluster]\u001b[0m\n",
            "\u001b[2m\u001b[36m(ClientAppActor pid=1536476)\u001b[0m Epoch 13/15, Loss: 0.0012, Accuracy: 1.0000\u001b[32m [repeated 6x across cluster]\u001b[0m\n",
            "\u001b[2m\u001b[36m(ClientAppActor pid=1536476)\u001b[0m Epoch 1/15, Loss: 0.0390, Accuracy: 0.9917\u001b[32m [repeated 6x across cluster]\u001b[0m\n",
            "\u001b[2m\u001b[36m(ClientAppActor pid=1536475)\u001b[0m Epoch 5/15, Loss: 0.0455, Accuracy: 0.9833\u001b[32m [repeated 7x across cluster]\u001b[0m\n",
            "\u001b[2m\u001b[36m(ClientAppActor pid=1536475)\u001b[0m Epoch 8/15, Loss: 0.0365, Accuracy: 0.9854\u001b[32m [repeated 6x across cluster]\u001b[0m\n",
            "\u001b[2m\u001b[36m(ClientAppActor pid=1536475)\u001b[0m Epoch 11/15, Loss: 0.0105, Accuracy: 0.9979\u001b[32m [repeated 6x across cluster]\u001b[0m\n",
            "\u001b[2m\u001b[36m(ClientAppActor pid=1536475)\u001b[0m Epoch 14/15, Loss: 0.0024, Accuracy: 1.0000\u001b[32m [repeated 6x across cluster]\u001b[0m\n",
            "\u001b[2m\u001b[36m(ClientAppActor pid=1536475)\u001b[0m Epoch 2/15, Loss: 0.0302, Accuracy: 0.9896\u001b[32m [repeated 6x across cluster]\u001b[0m\n",
            "\u001b[2m\u001b[36m(ClientAppActor pid=1536475)\u001b[0m Epoch 5/15, Loss: 0.0520, Accuracy: 0.9792\u001b[32m [repeated 6x across cluster]\u001b[0m\n",
            "\u001b[2m\u001b[36m(ClientAppActor pid=1536475)\u001b[0m Epoch 8/15, Loss: 0.0406, Accuracy: 0.9875\u001b[32m [repeated 6x across cluster]\u001b[0m\n",
            "\u001b[2m\u001b[36m(ClientAppActor pid=1536475)\u001b[0m Epoch 11/15, Loss: 0.0078, Accuracy: 1.0000\u001b[32m [repeated 6x across cluster]\u001b[0m\n",
            "\u001b[2m\u001b[36m(ClientAppActor pid=1536475)\u001b[0m Epoch 14/15, Loss: 0.0028, Accuracy: 1.0000\u001b[32m [repeated 6x across cluster]\u001b[0m\n"
          ]
        },
        {
          "name": "stderr",
          "output_type": "stream",
          "text": [
            "\u001b[92mINFO \u001b[0m:      aggregate_fit: received 6 results and 0 failures\n",
            "\u001b[92mINFO \u001b[0m:      configure_evaluate: strategy sampled 6 clients (out of 6)\n"
          ]
        },
        {
          "name": "stdout",
          "output_type": "stream",
          "text": [
            "\u001b[2m\u001b[36m(ClientAppActor pid=1536475)\u001b[0m Test acc  0.7233502538071066\n",
            "\u001b[2m\u001b[36m(ClientAppActor pid=1536476)\u001b[0m Epoch 15/15, Loss: 0.0013, Accuracy: 1.0000\u001b[32m [repeated 3x across cluster]\u001b[0m\n"
          ]
        },
        {
          "name": "stderr",
          "output_type": "stream",
          "text": [
            "\u001b[92mINFO \u001b[0m:      aggregate_evaluate: received 6 results and 0 failures\n",
            "\u001b[92mINFO \u001b[0m:      \n",
            "\u001b[92mINFO \u001b[0m:      [ROUND 24]\n",
            "\u001b[92mINFO \u001b[0m:      configure_fit: strategy sampled 6 clients (out of 6)\n"
          ]
        },
        {
          "name": "stdout",
          "output_type": "stream",
          "text": [
            "\u001b[2m\u001b[36m(ClientAppActor pid=1536476)\u001b[0m Test acc  0.7233502538071066\u001b[32m [repeated 5x across cluster]\u001b[0m\n",
            "\u001b[2m\u001b[36m(ClientAppActor pid=1536476)\u001b[0m Epoch 1/15, Loss: 0.0368, Accuracy: 0.9833\n",
            "\u001b[2m\u001b[36m(ClientAppActor pid=1536475)\u001b[0m Epoch 1/15, Loss: 0.0195, Accuracy: 0.9958\n",
            "\u001b[2m\u001b[36m(ClientAppActor pid=1536475)\u001b[0m Epoch 4/15, Loss: 0.0101, Accuracy: 0.9979\u001b[32m [repeated 6x across cluster]\u001b[0m\n",
            "\u001b[2m\u001b[36m(ClientAppActor pid=1536475)\u001b[0m Epoch 7/15, Loss: 0.0022, Accuracy: 1.0000\u001b[32m [repeated 6x across cluster]\u001b[0m\n",
            "\u001b[2m\u001b[36m(ClientAppActor pid=1536475)\u001b[0m Epoch 10/15, Loss: 0.0014, Accuracy: 1.0000\u001b[32m [repeated 6x across cluster]\u001b[0m\n",
            "\u001b[2m\u001b[36m(ClientAppActor pid=1536475)\u001b[0m Epoch 13/15, Loss: 0.0012, Accuracy: 1.0000\u001b[32m [repeated 6x across cluster]\u001b[0m\n",
            "\u001b[2m\u001b[36m(ClientAppActor pid=1536475)\u001b[0m Epoch 1/15, Loss: 0.0099, Accuracy: 0.9979\u001b[32m [repeated 6x across cluster]\u001b[0m\n",
            "\u001b[2m\u001b[36m(ClientAppActor pid=1536475)\u001b[0m Epoch 4/15, Loss: 0.0109, Accuracy: 0.9979\u001b[32m [repeated 6x across cluster]\u001b[0m\n",
            "\u001b[2m\u001b[36m(ClientAppActor pid=1536475)\u001b[0m Epoch 7/15, Loss: 0.0022, Accuracy: 1.0000\u001b[32m [repeated 6x across cluster]\u001b[0m\n",
            "\u001b[2m\u001b[36m(ClientAppActor pid=1536475)\u001b[0m Epoch 10/15, Loss: 0.0013, Accuracy: 1.0000\u001b[32m [repeated 6x across cluster]\u001b[0m\n",
            "\u001b[2m\u001b[36m(ClientAppActor pid=1536475)\u001b[0m Epoch 13/15, Loss: 0.0010, Accuracy: 1.0000\u001b[32m [repeated 6x across cluster]\u001b[0m\n",
            "\u001b[2m\u001b[36m(ClientAppActor pid=1536475)\u001b[0m Epoch 1/15, Loss: 0.0309, Accuracy: 0.9854\u001b[32m [repeated 6x across cluster]\u001b[0m\n",
            "\u001b[2m\u001b[36m(ClientAppActor pid=1536476)\u001b[0m Epoch 5/15, Loss: 0.0171, Accuracy: 0.9958\u001b[32m [repeated 7x across cluster]\u001b[0m\n",
            "\u001b[2m\u001b[36m(ClientAppActor pid=1536476)\u001b[0m Epoch 8/15, Loss: 0.0202, Accuracy: 0.9979\u001b[32m [repeated 6x across cluster]\u001b[0m\n",
            "\u001b[2m\u001b[36m(ClientAppActor pid=1536476)\u001b[0m Epoch 11/15, Loss: 0.0041, Accuracy: 0.9979\u001b[32m [repeated 6x across cluster]\u001b[0m\n",
            "\u001b[2m\u001b[36m(ClientAppActor pid=1536476)\u001b[0m Epoch 14/15, Loss: 0.0022, Accuracy: 1.0000\u001b[32m [repeated 6x across cluster]\u001b[0m\n"
          ]
        },
        {
          "name": "stderr",
          "output_type": "stream",
          "text": [
            "\u001b[92mINFO \u001b[0m:      aggregate_fit: received 6 results and 0 failures\n",
            "\u001b[92mINFO \u001b[0m:      configure_evaluate: strategy sampled 6 clients (out of 6)\n"
          ]
        },
        {
          "name": "stdout",
          "output_type": "stream",
          "text": [
            "\u001b[2m\u001b[36m(ClientAppActor pid=1536475)\u001b[0m Test acc  0.7309644670050761\n",
            "\u001b[2m\u001b[36m(ClientAppActor pid=1536475)\u001b[0m Epoch 15/15, Loss: 0.0009, Accuracy: 1.0000\u001b[32m [repeated 3x across cluster]\u001b[0m\n"
          ]
        },
        {
          "name": "stderr",
          "output_type": "stream",
          "text": [
            "\u001b[92mINFO \u001b[0m:      aggregate_evaluate: received 6 results and 0 failures\n",
            "\u001b[92mINFO \u001b[0m:      \n",
            "\u001b[92mINFO \u001b[0m:      [ROUND 25]\n",
            "\u001b[92mINFO \u001b[0m:      configure_fit: strategy sampled 6 clients (out of 6)\n"
          ]
        },
        {
          "name": "stdout",
          "output_type": "stream",
          "text": [
            "\u001b[2m\u001b[36m(ClientAppActor pid=1536476)\u001b[0m Test acc  0.7309644670050761\u001b[32m [repeated 5x across cluster]\u001b[0m\n",
            "\u001b[2m\u001b[36m(ClientAppActor pid=1536475)\u001b[0m Epoch 2/15, Loss: 0.0125, Accuracy: 0.9979\u001b[32m [repeated 3x across cluster]\u001b[0m\n",
            "\u001b[2m\u001b[36m(ClientAppActor pid=1536475)\u001b[0m Epoch 5/15, Loss: 0.0032, Accuracy: 1.0000\u001b[32m [repeated 6x across cluster]\u001b[0m\n",
            "\u001b[2m\u001b[36m(ClientAppActor pid=1536475)\u001b[0m Epoch 8/15, Loss: 0.0010, Accuracy: 1.0000\u001b[32m [repeated 6x across cluster]\u001b[0m\n",
            "\u001b[2m\u001b[36m(ClientAppActor pid=1536475)\u001b[0m Epoch 11/15, Loss: 0.0008, Accuracy: 1.0000\u001b[32m [repeated 6x across cluster]\u001b[0m\n",
            "\u001b[2m\u001b[36m(ClientAppActor pid=1536475)\u001b[0m Epoch 14/15, Loss: 0.0007, Accuracy: 1.0000\u001b[32m [repeated 6x across cluster]\u001b[0m\n",
            "\u001b[2m\u001b[36m(ClientAppActor pid=1536475)\u001b[0m Epoch 2/15, Loss: 0.0481, Accuracy: 0.9812\u001b[32m [repeated 6x across cluster]\u001b[0m\n",
            "\u001b[2m\u001b[36m(ClientAppActor pid=1536476)\u001b[0m Epoch 5/15, Loss: 0.0033, Accuracy: 1.0000\u001b[32m [repeated 7x across cluster]\u001b[0m\n",
            "\u001b[2m\u001b[36m(ClientAppActor pid=1536475)\u001b[0m Epoch 9/15, Loss: 0.0021, Accuracy: 1.0000\u001b[32m [repeated 7x across cluster]\u001b[0m\n",
            "\u001b[2m\u001b[36m(ClientAppActor pid=1536475)\u001b[0m Epoch 12/15, Loss: 0.0010, Accuracy: 1.0000\u001b[32m [repeated 6x across cluster]\u001b[0m\n",
            "\u001b[2m\u001b[36m(ClientAppActor pid=1536475)\u001b[0m Epoch 15/15, Loss: 0.0008, Accuracy: 1.0000\u001b[32m [repeated 6x across cluster]\u001b[0m\n",
            "\u001b[2m\u001b[36m(ClientAppActor pid=1536475)\u001b[0m Epoch 3/15, Loss: 0.0124, Accuracy: 0.9958\u001b[32m [repeated 6x across cluster]\u001b[0m\n",
            "\u001b[2m\u001b[36m(ClientAppActor pid=1536475)\u001b[0m Epoch 6/15, Loss: 0.0030, Accuracy: 1.0000\u001b[32m [repeated 6x across cluster]\u001b[0m\n",
            "\u001b[2m\u001b[36m(ClientAppActor pid=1536476)\u001b[0m Epoch 9/15, Loss: 0.0013, Accuracy: 1.0000\u001b[32m [repeated 7x across cluster]\u001b[0m\n",
            "\u001b[2m\u001b[36m(ClientAppActor pid=1536476)\u001b[0m Epoch 12/15, Loss: 0.0011, Accuracy: 1.0000\u001b[32m [repeated 6x across cluster]\u001b[0m\n"
          ]
        },
        {
          "name": "stderr",
          "output_type": "stream",
          "text": [
            "\u001b[92mINFO \u001b[0m:      aggregate_fit: received 6 results and 0 failures\n"
          ]
        },
        {
          "name": "stdout",
          "output_type": "stream",
          "text": [
            "\u001b[2m\u001b[36m(ClientAppActor pid=1536476)\u001b[0m Epoch 15/15, Loss: 0.0010, Accuracy: 1.0000\u001b[32m [repeated 6x across cluster]\u001b[0m\n"
          ]
        },
        {
          "name": "stderr",
          "output_type": "stream",
          "text": [
            "\u001b[92mINFO \u001b[0m:      configure_evaluate: strategy sampled 6 clients (out of 6)\n"
          ]
        },
        {
          "name": "stdout",
          "output_type": "stream",
          "text": [
            "\u001b[2m\u001b[36m(ClientAppActor pid=1536476)\u001b[0m Test acc  0.7284263959390863\n"
          ]
        },
        {
          "name": "stderr",
          "output_type": "stream",
          "text": [
            "\u001b[92mINFO \u001b[0m:      aggregate_evaluate: received 6 results and 0 failures\n",
            "\u001b[92mINFO \u001b[0m:      \n",
            "\u001b[92mINFO \u001b[0m:      [ROUND 26]\n",
            "\u001b[92mINFO \u001b[0m:      configure_fit: strategy sampled 6 clients (out of 6)\n"
          ]
        },
        {
          "name": "stdout",
          "output_type": "stream",
          "text": [
            "\u001b[2m\u001b[36m(ClientAppActor pid=1536476)\u001b[0m Epoch 1/15, Loss: 0.0157, Accuracy: 0.9958\n",
            "\u001b[2m\u001b[36m(ClientAppActor pid=1536476)\u001b[0m Test acc  0.7284263959390863\u001b[32m [repeated 5x across cluster]\u001b[0m\n",
            "\u001b[2m\u001b[36m(ClientAppActor pid=1536475)\u001b[0m Epoch 5/15, Loss: 0.0029, Accuracy: 1.0000\u001b[32m [repeated 8x across cluster]\u001b[0m\n",
            "\u001b[2m\u001b[36m(ClientAppActor pid=1536475)\u001b[0m Epoch 9/15, Loss: 0.0015, Accuracy: 1.0000\u001b[32m [repeated 8x across cluster]\u001b[0m\n",
            "\u001b[2m\u001b[36m(ClientAppActor pid=1536476)\u001b[0m Epoch 12/15, Loss: 0.0010, Accuracy: 1.0000\u001b[32m [repeated 7x across cluster]\u001b[0m\n",
            "\u001b[2m\u001b[36m(ClientAppActor pid=1536476)\u001b[0m Epoch 15/15, Loss: 0.0009, Accuracy: 1.0000\u001b[32m [repeated 6x across cluster]\u001b[0m\n",
            "\u001b[2m\u001b[36m(ClientAppActor pid=1536475)\u001b[0m Epoch 3/15, Loss: 0.0033, Accuracy: 1.0000\u001b[32m [repeated 5x across cluster]\u001b[0m\n",
            "\u001b[2m\u001b[36m(ClientAppActor pid=1536475)\u001b[0m Epoch 6/15, Loss: 0.0014, Accuracy: 1.0000\u001b[32m [repeated 6x across cluster]\u001b[0m\n",
            "\u001b[2m\u001b[36m(ClientAppActor pid=1536475)\u001b[0m Epoch 9/15, Loss: 0.0011, Accuracy: 1.0000\u001b[32m [repeated 6x across cluster]\u001b[0m\n",
            "\u001b[2m\u001b[36m(ClientAppActor pid=1536475)\u001b[0m Epoch 12/15, Loss: 0.0009, Accuracy: 1.0000\u001b[32m [repeated 6x across cluster]\u001b[0m\n",
            "\u001b[2m\u001b[36m(ClientAppActor pid=1536475)\u001b[0m Epoch 15/15, Loss: 0.0008, Accuracy: 1.0000\u001b[32m [repeated 6x across cluster]\u001b[0m\n",
            "\u001b[2m\u001b[36m(ClientAppActor pid=1536475)\u001b[0m Epoch 3/15, Loss: 0.0202, Accuracy: 0.9958\u001b[32m [repeated 6x across cluster]\u001b[0m\n",
            "\u001b[2m\u001b[36m(ClientAppActor pid=1536475)\u001b[0m Epoch 6/15, Loss: 0.0021, Accuracy: 1.0000\u001b[32m [repeated 6x across cluster]\u001b[0m\n",
            "\u001b[2m\u001b[36m(ClientAppActor pid=1536475)\u001b[0m Epoch 10/15, Loss: 0.0008, Accuracy: 1.0000\u001b[32m [repeated 7x across cluster]\u001b[0m\n",
            "\u001b[2m\u001b[36m(ClientAppActor pid=1536475)\u001b[0m Epoch 13/15, Loss: 0.0007, Accuracy: 1.0000\u001b[32m [repeated 6x across cluster]\u001b[0m\n"
          ]
        },
        {
          "name": "stderr",
          "output_type": "stream",
          "text": [
            "\u001b[92mINFO \u001b[0m:      aggregate_fit: received 6 results and 0 failures\n"
          ]
        },
        {
          "name": "stdout",
          "output_type": "stream",
          "text": [
            "\u001b[2m\u001b[36m(ClientAppActor pid=1536476)\u001b[0m Epoch 15/15, Loss: 0.0006, Accuracy: 1.0000\u001b[32m [repeated 6x across cluster]\u001b[0m\n"
          ]
        },
        {
          "name": "stderr",
          "output_type": "stream",
          "text": [
            "\u001b[92mINFO \u001b[0m:      configure_evaluate: strategy sampled 6 clients (out of 6)\n"
          ]
        },
        {
          "name": "stdout",
          "output_type": "stream",
          "text": [
            "\u001b[2m\u001b[36m(ClientAppActor pid=1536475)\u001b[0m Test acc  0.7309644670050761\n"
          ]
        },
        {
          "name": "stderr",
          "output_type": "stream",
          "text": [
            "\u001b[92mINFO \u001b[0m:      aggregate_evaluate: received 6 results and 0 failures\n",
            "\u001b[92mINFO \u001b[0m:      \n",
            "\u001b[92mINFO \u001b[0m:      [ROUND 27]\n",
            "\u001b[92mINFO \u001b[0m:      configure_fit: strategy sampled 6 clients (out of 6)\n"
          ]
        },
        {
          "name": "stdout",
          "output_type": "stream",
          "text": [
            "\u001b[2m\u001b[36m(ClientAppActor pid=1536476)\u001b[0m Epoch 1/15, Loss: 0.0049, Accuracy: 1.0000\n",
            "\u001b[2m\u001b[36m(ClientAppActor pid=1536476)\u001b[0m Test acc  0.7309644670050761\u001b[32m [repeated 5x across cluster]\u001b[0m\n",
            "\u001b[2m\u001b[36m(ClientAppActor pid=1536475)\u001b[0m Epoch 4/15, Loss: 0.0019, Accuracy: 1.0000\u001b[32m [repeated 6x across cluster]\u001b[0m\n",
            "\u001b[2m\u001b[36m(ClientAppActor pid=1536476)\u001b[0m Epoch 7/15, Loss: 0.0013, Accuracy: 1.0000\u001b[32m [repeated 7x across cluster]\u001b[0m\n",
            "\u001b[2m\u001b[36m(ClientAppActor pid=1536476)\u001b[0m Epoch 10/15, Loss: 0.0010, Accuracy: 1.0000\u001b[32m [repeated 6x across cluster]\u001b[0m\n",
            "\u001b[2m\u001b[36m(ClientAppActor pid=1536476)\u001b[0m Epoch 13/15, Loss: 0.0008, Accuracy: 1.0000\u001b[32m [repeated 6x across cluster]\u001b[0m\n",
            "\u001b[2m\u001b[36m(ClientAppActor pid=1536475)\u001b[0m Epoch 2/15, Loss: 0.0077, Accuracy: 0.9979\u001b[32m [repeated 6x across cluster]\u001b[0m\n",
            "\u001b[2m\u001b[36m(ClientAppActor pid=1536475)\u001b[0m Epoch 5/15, Loss: 0.0019, Accuracy: 1.0000\u001b[32m [repeated 6x across cluster]\u001b[0m\n",
            "\u001b[2m\u001b[36m(ClientAppActor pid=1536475)\u001b[0m Epoch 8/15, Loss: 0.0008, Accuracy: 1.0000\u001b[32m [repeated 6x across cluster]\u001b[0m\n",
            "\u001b[2m\u001b[36m(ClientAppActor pid=1536475)\u001b[0m Epoch 11/15, Loss: 0.0006, Accuracy: 1.0000\u001b[32m [repeated 6x across cluster]\u001b[0m\n",
            "\u001b[2m\u001b[36m(ClientAppActor pid=1536475)\u001b[0m Epoch 14/15, Loss: 0.0005, Accuracy: 1.0000\u001b[32m [repeated 6x across cluster]\u001b[0m\n",
            "\u001b[2m\u001b[36m(ClientAppActor pid=1536475)\u001b[0m Epoch 2/15, Loss: 0.0065, Accuracy: 1.0000\u001b[32m [repeated 6x across cluster]\u001b[0m\n",
            "\u001b[2m\u001b[36m(ClientAppActor pid=1536475)\u001b[0m Epoch 5/15, Loss: 0.0019, Accuracy: 1.0000\u001b[32m [repeated 6x across cluster]\u001b[0m\n",
            "\u001b[2m\u001b[36m(ClientAppActor pid=1536475)\u001b[0m Epoch 8/15, Loss: 0.0009, Accuracy: 1.0000\u001b[32m [repeated 6x across cluster]\u001b[0m\n",
            "\u001b[2m\u001b[36m(ClientAppActor pid=1536476)\u001b[0m Epoch 10/15, Loss: 0.0010, Accuracy: 1.0000\u001b[32m [repeated 7x across cluster]\u001b[0m\n",
            "\u001b[2m\u001b[36m(ClientAppActor pid=1536475)\u001b[0m Epoch 15/15, Loss: 0.0007, Accuracy: 1.0000\u001b[32m [repeated 7x across cluster]\u001b[0m\n"
          ]
        },
        {
          "name": "stderr",
          "output_type": "stream",
          "text": [
            "\u001b[92mINFO \u001b[0m:      aggregate_fit: received 6 results and 0 failures\n",
            "\u001b[92mINFO \u001b[0m:      configure_evaluate: strategy sampled 6 clients (out of 6)\n"
          ]
        },
        {
          "name": "stdout",
          "output_type": "stream",
          "text": [
            "\u001b[2m\u001b[36m(ClientAppActor pid=1536475)\u001b[0m Test acc  0.7309644670050761\n",
            "\u001b[2m\u001b[36m(ClientAppActor pid=1536476)\u001b[0m Epoch 15/15, Loss: 0.0008, Accuracy: 1.0000\u001b[32m [repeated 2x across cluster]\u001b[0m\n"
          ]
        },
        {
          "name": "stderr",
          "output_type": "stream",
          "text": [
            "\u001b[92mINFO \u001b[0m:      aggregate_evaluate: received 6 results and 0 failures\n",
            "\u001b[92mINFO \u001b[0m:      \n",
            "\u001b[92mINFO \u001b[0m:      [ROUND 28]\n",
            "\u001b[92mINFO \u001b[0m:      configure_fit: strategy sampled 6 clients (out of 6)\n"
          ]
        },
        {
          "name": "stdout",
          "output_type": "stream",
          "text": [
            "\u001b[2m\u001b[36m(ClientAppActor pid=1536476)\u001b[0m Test acc  0.7309644670050761\u001b[32m [repeated 5x across cluster]\u001b[0m\n",
            "\u001b[2m\u001b[36m(ClientAppActor pid=1536476)\u001b[0m Epoch 1/15, Loss: 0.0081, Accuracy: 0.9979\n",
            "\u001b[2m\u001b[36m(ClientAppActor pid=1536475)\u001b[0m Epoch 1/15, Loss: 0.0037, Accuracy: 1.0000\n",
            "\u001b[2m\u001b[36m(ClientAppActor pid=1536475)\u001b[0m Epoch 5/15, Loss: 0.0013, Accuracy: 1.0000\u001b[32m [repeated 7x across cluster]\u001b[0m\n",
            "\u001b[2m\u001b[36m(ClientAppActor pid=1536476)\u001b[0m Epoch 8/15, Loss: 0.0007, Accuracy: 1.0000\u001b[32m [repeated 6x across cluster]\u001b[0m\n",
            "\u001b[2m\u001b[36m(ClientAppActor pid=1536475)\u001b[0m Epoch 11/15, Loss: 0.0008, Accuracy: 1.0000\u001b[32m [repeated 7x across cluster]\u001b[0m\n",
            "\u001b[2m\u001b[36m(ClientAppActor pid=1536476)\u001b[0m Epoch 15/15, Loss: 0.0006, Accuracy: 1.0000\u001b[32m [repeated 7x across cluster]\u001b[0m\n",
            "\u001b[2m\u001b[36m(ClientAppActor pid=1536476)\u001b[0m Epoch 3/15, Loss: 0.0089, Accuracy: 0.9979\u001b[32m [repeated 6x across cluster]\u001b[0m\n",
            "\u001b[2m\u001b[36m(ClientAppActor pid=1536476)\u001b[0m Epoch 6/15, Loss: 0.0016, Accuracy: 1.0000\u001b[32m [repeated 6x across cluster]\u001b[0m\n",
            "\u001b[2m\u001b[36m(ClientAppActor pid=1536476)\u001b[0m Epoch 9/15, Loss: 0.0009, Accuracy: 1.0000\u001b[32m [repeated 6x across cluster]\u001b[0m\n",
            "\u001b[2m\u001b[36m(ClientAppActor pid=1536476)\u001b[0m Epoch 12/15, Loss: 0.0007, Accuracy: 1.0000\u001b[32m [repeated 6x across cluster]\u001b[0m\n",
            "\u001b[2m\u001b[36m(ClientAppActor pid=1536476)\u001b[0m Epoch 15/15, Loss: 0.0006, Accuracy: 1.0000\u001b[32m [repeated 6x across cluster]\u001b[0m\n",
            "\u001b[2m\u001b[36m(ClientAppActor pid=1536476)\u001b[0m Epoch 3/15, Loss: 0.0032, Accuracy: 1.0000\u001b[32m [repeated 6x across cluster]\u001b[0m\n",
            "\u001b[2m\u001b[36m(ClientAppActor pid=1536476)\u001b[0m Epoch 6/15, Loss: 0.0012, Accuracy: 1.0000\u001b[32m [repeated 6x across cluster]\u001b[0m\n",
            "\u001b[2m\u001b[36m(ClientAppActor pid=1536476)\u001b[0m Epoch 9/15, Loss: 0.0009, Accuracy: 1.0000\u001b[32m [repeated 6x across cluster]\u001b[0m\n",
            "\u001b[2m\u001b[36m(ClientAppActor pid=1536475)\u001b[0m Epoch 12/15, Loss: 0.0008, Accuracy: 1.0000\u001b[32m [repeated 6x across cluster]\u001b[0m\n",
            "\u001b[2m\u001b[36m(ClientAppActor pid=1536475)\u001b[0m Epoch 15/15, Loss: 0.0007, Accuracy: 1.0000\u001b[32m [repeated 6x across cluster]\u001b[0m\n"
          ]
        },
        {
          "name": "stderr",
          "output_type": "stream",
          "text": [
            "\u001b[92mINFO \u001b[0m:      aggregate_fit: received 6 results and 0 failures\n",
            "\u001b[92mINFO \u001b[0m:      configure_evaluate: strategy sampled 6 clients (out of 6)\n"
          ]
        },
        {
          "name": "stdout",
          "output_type": "stream",
          "text": [
            "\u001b[2m\u001b[36m(ClientAppActor pid=1536476)\u001b[0m Test acc  0.7309644670050761\n"
          ]
        },
        {
          "name": "stderr",
          "output_type": "stream",
          "text": [
            "\u001b[92mINFO \u001b[0m:      aggregate_evaluate: received 6 results and 0 failures\n",
            "\u001b[92mINFO \u001b[0m:      \n",
            "\u001b[92mINFO \u001b[0m:      [ROUND 29]\n",
            "\u001b[92mINFO \u001b[0m:      configure_fit: strategy sampled 6 clients (out of 6)\n"
          ]
        },
        {
          "name": "stdout",
          "output_type": "stream",
          "text": [
            "\u001b[2m\u001b[36m(ClientAppActor pid=1536476)\u001b[0m Epoch 15/15, Loss: 0.0007, Accuracy: 1.0000\n",
            "\u001b[2m\u001b[36m(ClientAppActor pid=1536476)\u001b[0m Epoch 1/15, Loss: 0.0032, Accuracy: 1.0000\n",
            "\u001b[2m\u001b[36m(ClientAppActor pid=1536476)\u001b[0m Test acc  0.7309644670050761\u001b[32m [repeated 5x across cluster]\u001b[0m\n",
            "\u001b[2m\u001b[36m(ClientAppActor pid=1536476)\u001b[0m Epoch 4/15, Loss: 0.0014, Accuracy: 1.0000\u001b[32m [repeated 6x across cluster]\u001b[0m\n",
            "\u001b[2m\u001b[36m(ClientAppActor pid=1536476)\u001b[0m Epoch 7/15, Loss: 0.0010, Accuracy: 1.0000\u001b[32m [repeated 7x across cluster]\u001b[0m\n",
            "\u001b[2m\u001b[36m(ClientAppActor pid=1536476)\u001b[0m Epoch 10/15, Loss: 0.0008, Accuracy: 1.0000\u001b[32m [repeated 6x across cluster]\u001b[0m\n",
            "\u001b[2m\u001b[36m(ClientAppActor pid=1536476)\u001b[0m Epoch 13/15, Loss: 0.0007, Accuracy: 1.0000\u001b[32m [repeated 6x across cluster]\u001b[0m\n",
            "\u001b[2m\u001b[36m(ClientAppActor pid=1536476)\u001b[0m Epoch 1/15, Loss: 0.0035, Accuracy: 1.0000\u001b[32m [repeated 6x across cluster]\u001b[0m\n",
            "\u001b[2m\u001b[36m(ClientAppActor pid=1536476)\u001b[0m Epoch 4/15, Loss: 0.0016, Accuracy: 1.0000\u001b[32m [repeated 6x across cluster]\u001b[0m\n",
            "\u001b[2m\u001b[36m(ClientAppActor pid=1536476)\u001b[0m Epoch 7/15, Loss: 0.0010, Accuracy: 1.0000\u001b[32m [repeated 6x across cluster]\u001b[0m\n",
            "\u001b[2m\u001b[36m(ClientAppActor pid=1536476)\u001b[0m Epoch 10/15, Loss: 0.0009, Accuracy: 1.0000\u001b[32m [repeated 6x across cluster]\u001b[0m\n",
            "\u001b[2m\u001b[36m(ClientAppActor pid=1536476)\u001b[0m Epoch 13/15, Loss: 0.0007, Accuracy: 1.0000\u001b[32m [repeated 6x across cluster]\u001b[0m\n",
            "\u001b[2m\u001b[36m(ClientAppActor pid=1536476)\u001b[0m Epoch 1/15, Loss: 0.0109, Accuracy: 0.9958\u001b[32m [repeated 6x across cluster]\u001b[0m\n",
            "\u001b[2m\u001b[36m(ClientAppActor pid=1536475)\u001b[0m Epoch 5/15, Loss: 0.0012, Accuracy: 1.0000\u001b[32m [repeated 7x across cluster]\u001b[0m\n",
            "\u001b[2m\u001b[36m(ClientAppActor pid=1536475)\u001b[0m Epoch 8/15, Loss: 0.0008, Accuracy: 1.0000\u001b[32m [repeated 6x across cluster]\u001b[0m\n",
            "\u001b[2m\u001b[36m(ClientAppActor pid=1536475)\u001b[0m Epoch 11/15, Loss: 0.0006, Accuracy: 1.0000\u001b[32m [repeated 6x across cluster]\u001b[0m\n",
            "\u001b[2m\u001b[36m(ClientAppActor pid=1536475)\u001b[0m Epoch 14/15, Loss: 0.0006, Accuracy: 1.0000\u001b[32m [repeated 6x across cluster]\u001b[0m\n"
          ]
        },
        {
          "name": "stderr",
          "output_type": "stream",
          "text": [
            "\u001b[92mINFO \u001b[0m:      aggregate_fit: received 6 results and 0 failures\n",
            "\u001b[92mINFO \u001b[0m:      configure_evaluate: strategy sampled 6 clients (out of 6)\n"
          ]
        },
        {
          "name": "stdout",
          "output_type": "stream",
          "text": [
            "\u001b[2m\u001b[36m(ClientAppActor pid=1536475)\u001b[0m Test acc  0.733502538071066\n",
            "\u001b[2m\u001b[36m(ClientAppActor pid=1536476)\u001b[0m Epoch 15/15, Loss: 0.0006, Accuracy: 1.0000\u001b[32m [repeated 3x across cluster]\u001b[0m\n"
          ]
        },
        {
          "name": "stderr",
          "output_type": "stream",
          "text": [
            "\u001b[92mINFO \u001b[0m:      aggregate_evaluate: received 6 results and 0 failures\n",
            "\u001b[92mINFO \u001b[0m:      \n",
            "\u001b[92mINFO \u001b[0m:      [ROUND 30]\n",
            "\u001b[92mINFO \u001b[0m:      configure_fit: strategy sampled 6 clients (out of 6)\n"
          ]
        },
        {
          "name": "stdout",
          "output_type": "stream",
          "text": [
            "\u001b[2m\u001b[36m(ClientAppActor pid=1536476)\u001b[0m Test acc  0.733502538071066\u001b[32m [repeated 5x across cluster]\u001b[0m\n",
            "\u001b[2m\u001b[36m(ClientAppActor pid=1536475)\u001b[0m Epoch 2/15, Loss: 0.0030, Accuracy: 1.0000\u001b[32m [repeated 3x across cluster]\u001b[0m\n",
            "\u001b[2m\u001b[36m(ClientAppActor pid=1536476)\u001b[0m Epoch 5/15, Loss: 0.0013, Accuracy: 1.0000\u001b[32m [repeated 7x across cluster]\u001b[0m\n",
            "\u001b[2m\u001b[36m(ClientAppActor pid=1536476)\u001b[0m Epoch 8/15, Loss: 0.0007, Accuracy: 1.0000\u001b[32m [repeated 6x across cluster]\u001b[0m\n",
            "\u001b[2m\u001b[36m(ClientAppActor pid=1536476)\u001b[0m Epoch 11/15, Loss: 0.0006, Accuracy: 1.0000\u001b[32m [repeated 6x across cluster]\u001b[0m\n",
            "\u001b[2m\u001b[36m(ClientAppActor pid=1536476)\u001b[0m Epoch 14/15, Loss: 0.0006, Accuracy: 1.0000\u001b[32m [repeated 6x across cluster]\u001b[0m\n",
            "\u001b[2m\u001b[36m(ClientAppActor pid=1536476)\u001b[0m Epoch 2/15, Loss: 0.0026, Accuracy: 1.0000\u001b[32m [repeated 6x across cluster]\u001b[0m\n",
            "\u001b[2m\u001b[36m(ClientAppActor pid=1536476)\u001b[0m Epoch 5/15, Loss: 0.0007, Accuracy: 1.0000\u001b[32m [repeated 6x across cluster]\u001b[0m\n",
            "\u001b[2m\u001b[36m(ClientAppActor pid=1536476)\u001b[0m Epoch 8/15, Loss: 0.0005, Accuracy: 1.0000\u001b[32m [repeated 6x across cluster]\u001b[0m\n",
            "\u001b[2m\u001b[36m(ClientAppActor pid=1536476)\u001b[0m Epoch 11/15, Loss: 0.0005, Accuracy: 1.0000\u001b[32m [repeated 6x across cluster]\u001b[0m\n",
            "\u001b[2m\u001b[36m(ClientAppActor pid=1536475)\u001b[0m Epoch 15/15, Loss: 0.0005, Accuracy: 1.0000\u001b[32m [repeated 7x across cluster]\u001b[0m\n",
            "\u001b[2m\u001b[36m(ClientAppActor pid=1536475)\u001b[0m Epoch 3/15, Loss: 0.0034, Accuracy: 1.0000\u001b[32m [repeated 5x across cluster]\u001b[0m\n",
            "\u001b[2m\u001b[36m(ClientAppActor pid=1536476)\u001b[0m Epoch 5/15, Loss: 0.0011, Accuracy: 1.0000\u001b[32m [repeated 7x across cluster]\u001b[0m\n",
            "\u001b[2m\u001b[36m(ClientAppActor pid=1536476)\u001b[0m Epoch 8/15, Loss: 0.0008, Accuracy: 1.0000\u001b[32m [repeated 6x across cluster]\u001b[0m\n",
            "\u001b[2m\u001b[36m(ClientAppActor pid=1536476)\u001b[0m Epoch 11/15, Loss: 0.0008, Accuracy: 1.0000\u001b[32m [repeated 6x across cluster]\u001b[0m\n",
            "\u001b[2m\u001b[36m(ClientAppActor pid=1536476)\u001b[0m Epoch 14/15, Loss: 0.0007, Accuracy: 1.0000\u001b[32m [repeated 6x across cluster]\u001b[0m\n"
          ]
        },
        {
          "name": "stderr",
          "output_type": "stream",
          "text": [
            "\u001b[92mINFO \u001b[0m:      aggregate_fit: received 6 results and 0 failures\n",
            "\u001b[92mINFO \u001b[0m:      configure_evaluate: strategy sampled 6 clients (out of 6)\n"
          ]
        },
        {
          "name": "stdout",
          "output_type": "stream",
          "text": [
            "\u001b[2m\u001b[36m(ClientAppActor pid=1536475)\u001b[0m Test acc  0.733502538071066\n",
            "\u001b[2m\u001b[36m(ClientAppActor pid=1536476)\u001b[0m Epoch 15/15, Loss: 0.0007, Accuracy: 1.0000\n"
          ]
        },
        {
          "name": "stderr",
          "output_type": "stream",
          "text": [
            "\u001b[92mINFO \u001b[0m:      aggregate_evaluate: received 6 results and 0 failures\n",
            "\u001b[92mINFO \u001b[0m:      \n",
            "\u001b[92mINFO \u001b[0m:      [SUMMARY]\n",
            "\u001b[92mINFO \u001b[0m:      Run finished 30 rounds in 2594.13s\n",
            "\u001b[92mINFO \u001b[0m:      History (loss, distributed):\n",
            "\u001b[92mINFO \u001b[0m:      \t('\\tround 1: 0.03265761602953606\\n'\n",
            "\u001b[92mINFO \u001b[0m:      \t '\\tround 2: 0.03046665745338207\\n'\n",
            "\u001b[92mINFO \u001b[0m:      \t '\\tround 3: 0.03538965407361839\\n'\n",
            "\u001b[92mINFO \u001b[0m:      \t '\\tround 4: 0.03667442341746412\\n'\n",
            "\u001b[92mINFO \u001b[0m:      \t '\\tround 5: 0.037482694623433996\\n'\n",
            "\u001b[92mINFO \u001b[0m:      \t '\\tround 6: 0.04066923775043584\\n'\n",
            "\u001b[92mINFO \u001b[0m:      \t '\\tround 7: 0.04338065198230259\\n'\n",
            "\u001b[92mINFO \u001b[0m:      \t '\\tround 8: 0.04063646033935741\\n'\n",
            "\u001b[92mINFO \u001b[0m:      \t '\\tround 9: 0.04626548660890705\\n'\n",
            "\u001b[92mINFO \u001b[0m:      \t '\\tround 10: 0.052206428901193105\\n'\n",
            "\u001b[92mINFO \u001b[0m:      \t '\\tround 11: 0.06000307245832409\\n'\n",
            "\u001b[92mINFO \u001b[0m:      \t '\\tround 12: 0.06144042042684433\\n'\n",
            "\u001b[92mINFO \u001b[0m:      \t '\\tround 13: 0.07170516988120708\\n'\n",
            "\u001b[92mINFO \u001b[0m:      \t '\\tround 14: 0.07547004800762622\\n'\n",
            "\u001b[92mINFO \u001b[0m:      \t '\\tround 15: 0.07503249355341275\\n'\n",
            "\u001b[92mINFO \u001b[0m:      \t '\\tround 16: 0.07622196739019475\\n'\n",
            "\u001b[92mINFO \u001b[0m:      \t '\\tround 17: 0.07695833012594033\\n'\n",
            "\u001b[92mINFO \u001b[0m:      \t '\\tround 18: 0.08389273589136562\\n'\n",
            "\u001b[92mINFO \u001b[0m:      \t '\\tround 19: 0.08682690152832245\\n'\n",
            "\u001b[92mINFO \u001b[0m:      \t '\\tround 20: 0.08475834008088799\\n'\n",
            "\u001b[92mINFO \u001b[0m:      \t '\\tround 21: 0.08940302038347812\\n'\n",
            "\u001b[92mINFO \u001b[0m:      \t '\\tround 22: 0.09135254650130907\\n'\n",
            "\u001b[92mINFO \u001b[0m:      \t '\\tround 23: 0.08721960160578719\\n'\n",
            "\u001b[92mINFO \u001b[0m:      \t '\\tround 24: 0.09254803471645426\\n'\n",
            "\u001b[92mINFO \u001b[0m:      \t '\\tround 25: 0.09499707461753151\\n'\n",
            "\u001b[92mINFO \u001b[0m:      \t '\\tround 26: 0.09840922861544386\\n'\n",
            "\u001b[92mINFO \u001b[0m:      \t '\\tround 27: 0.09980340185752469\\n'\n",
            "\u001b[92mINFO \u001b[0m:      \t '\\tround 28: 0.10206869314601975\\n'\n",
            "\u001b[92mINFO \u001b[0m:      \t '\\tround 29: 0.10400719713711602\\n'\n",
            "\u001b[92mINFO \u001b[0m:      \t '\\tround 30: 0.10529400773498886\\n')History (metrics, distributed, evaluate):\n",
            "\u001b[92mINFO \u001b[0m:      \t{'accuracy': [(1, 0.3527918781725888),\n",
            "\u001b[92mINFO \u001b[0m:      \t              (2, 0.33502538071065985),\n",
            "\u001b[92mINFO \u001b[0m:      \t              (3, 0.3502538071065989),\n",
            "\u001b[92mINFO \u001b[0m:      \t              (4, 0.38324873096446693),\n",
            "\u001b[92mINFO \u001b[0m:      \t              (5, 0.41878172588832485),\n",
            "\u001b[92mINFO \u001b[0m:      \t              (6, 0.45939086294416237),\n",
            "\u001b[92mINFO \u001b[0m:      \t              (7, 0.4746192893401014),\n",
            "\u001b[92mINFO \u001b[0m:      \t              (8, 0.5228426395939086),\n",
            "\u001b[92mINFO \u001b[0m:      \t              (9, 0.5609137055837563),\n",
            "\u001b[92mINFO \u001b[0m:      \t              (10, 0.6040609137055838),\n",
            "\u001b[92mINFO \u001b[0m:      \t              (11, 0.6142131979695432),\n",
            "\u001b[92mINFO \u001b[0m:      \t              (12, 0.6421319796954315),\n",
            "\u001b[92mINFO \u001b[0m:      \t              (13, 0.6751269035532994),\n",
            "\u001b[92mINFO \u001b[0m:      \t              (14, 0.6802030456852792),\n",
            "\u001b[92mINFO \u001b[0m:      \t              (15, 0.6954314720812182),\n",
            "\u001b[92mINFO \u001b[0m:      \t              (16, 0.7030456852791879),\n",
            "\u001b[92mINFO \u001b[0m:      \t              (17, 0.6928934010152284),\n",
            "\u001b[92mINFO \u001b[0m:      \t              (18, 0.7157360406091371),\n",
            "\u001b[92mINFO \u001b[0m:      \t              (19, 0.7182741116751269),\n",
            "\u001b[92mINFO \u001b[0m:      \t              (20, 0.7208121827411168),\n",
            "\u001b[92mINFO \u001b[0m:      \t              (21, 0.7233502538071066),\n",
            "\u001b[92mINFO \u001b[0m:      \t              (22, 0.7233502538071066),\n",
            "\u001b[92mINFO \u001b[0m:      \t              (23, 0.7233502538071066),\n",
            "\u001b[92mINFO \u001b[0m:      \t              (24, 0.7309644670050761),\n",
            "\u001b[92mINFO \u001b[0m:      \t              (25, 0.7284263959390863),\n",
            "\u001b[92mINFO \u001b[0m:      \t              (26, 0.7309644670050761),\n",
            "\u001b[92mINFO \u001b[0m:      \t              (27, 0.7309644670050761),\n",
            "\u001b[92mINFO \u001b[0m:      \t              (28, 0.7309644670050761),\n",
            "\u001b[92mINFO \u001b[0m:      \t              (29, 0.7335025380710661),\n",
            "\u001b[92mINFO \u001b[0m:      \t              (30, 0.7335025380710661)]}\n",
            "\u001b[92mINFO \u001b[0m:      \n"
          ]
        },
        {
          "data": {
            "text/plain": [
              "History (loss, distributed):\n",
              "('\\tround 1: 0.03265761602953606\\n'\n",
              " '\\tround 2: 0.03046665745338207\\n'\n",
              " '\\tround 3: 0.03538965407361839\\n'\n",
              " '\\tround 4: 0.03667442341746412\\n'\n",
              " '\\tround 5: 0.037482694623433996\\n'\n",
              " '\\tround 6: 0.04066923775043584\\n'\n",
              " '\\tround 7: 0.04338065198230259\\n'\n",
              " '\\tround 8: 0.04063646033935741\\n'\n",
              " '\\tround 9: 0.04626548660890705\\n'\n",
              " '\\tround 10: 0.052206428901193105\\n'\n",
              " '\\tround 11: 0.06000307245832409\\n'\n",
              " '\\tround 12: 0.06144042042684433\\n'\n",
              " '\\tround 13: 0.07170516988120708\\n'\n",
              " '\\tround 14: 0.07547004800762622\\n'\n",
              " '\\tround 15: 0.07503249355341275\\n'\n",
              " '\\tround 16: 0.07622196739019475\\n'\n",
              " '\\tround 17: 0.07695833012594033\\n'\n",
              " '\\tround 18: 0.08389273589136562\\n'\n",
              " '\\tround 19: 0.08682690152832245\\n'\n",
              " '\\tround 20: 0.08475834008088799\\n'\n",
              " '\\tround 21: 0.08940302038347812\\n'\n",
              " '\\tround 22: 0.09135254650130907\\n'\n",
              " '\\tround 23: 0.08721960160578719\\n'\n",
              " '\\tround 24: 0.09254803471645426\\n'\n",
              " '\\tround 25: 0.09499707461753151\\n'\n",
              " '\\tround 26: 0.09840922861544386\\n'\n",
              " '\\tround 27: 0.09980340185752469\\n'\n",
              " '\\tround 28: 0.10206869314601975\\n'\n",
              " '\\tround 29: 0.10400719713711602\\n'\n",
              " '\\tround 30: 0.10529400773498886\\n')History (metrics, distributed, evaluate):\n",
              "{'accuracy': [(1, 0.3527918781725888),\n",
              "              (2, 0.33502538071065985),\n",
              "              (3, 0.3502538071065989),\n",
              "              (4, 0.38324873096446693),\n",
              "              (5, 0.41878172588832485),\n",
              "              (6, 0.45939086294416237),\n",
              "              (7, 0.4746192893401014),\n",
              "              (8, 0.5228426395939086),\n",
              "              (9, 0.5609137055837563),\n",
              "              (10, 0.6040609137055838),\n",
              "              (11, 0.6142131979695432),\n",
              "              (12, 0.6421319796954315),\n",
              "              (13, 0.6751269035532994),\n",
              "              (14, 0.6802030456852792),\n",
              "              (15, 0.6954314720812182),\n",
              "              (16, 0.7030456852791879),\n",
              "              (17, 0.6928934010152284),\n",
              "              (18, 0.7157360406091371),\n",
              "              (19, 0.7182741116751269),\n",
              "              (20, 0.7208121827411168),\n",
              "              (21, 0.7233502538071066),\n",
              "              (22, 0.7233502538071066),\n",
              "              (23, 0.7233502538071066),\n",
              "              (24, 0.7309644670050761),\n",
              "              (25, 0.7284263959390863),\n",
              "              (26, 0.7309644670050761),\n",
              "              (27, 0.7309644670050761),\n",
              "              (28, 0.7309644670050761),\n",
              "              (29, 0.7335025380710661),\n",
              "              (30, 0.7335025380710661)]}"
            ]
          },
          "execution_count": 17,
          "metadata": {},
          "output_type": "execute_result"
        }
      ],
      "source": [
        "\n",
        "# Specify the resources each of clients need. By default, each\n",
        "# client will be allocated 1x CPU and 0x GPUs\n",
        "client_resources = {\"num_cpus\": 1, \"num_gpus\": 0.0}\n",
        "if DEVICE.type == \"cuda\":\n",
        "    # here we are assigning an entire GPU for each client.\n",
        "    client_resources = {\"num_cpus\": 1, \"num_gpus\": 1.0}\n",
        "    # Refer to our documentation for more details about Flower Simulations\n",
        "    # and how to setup these `client_resources`\n",
        "\n",
        "strategy = fl.server.strategy.FedAvg(\n",
        "    fraction_fit=1.0,  # Sample 100% of available clients for training\n",
        " #   fraction_evaluate=0.5,  # Sample 50% of available clients for evaluation\n",
        "   min_fit_clients=6,  # Never sample less than 10 clients for training\n",
        "    min_evaluate_clients=6,  # Never sample less than 5 clients for evaluation\n",
        "\n",
        "\n",
        "    min_available_clients=6,  # Wait until all 10 clients are available\n",
        "   evaluate_metrics_aggregation_fn=weighted_average,\n",
        ")\n",
        "NUM_CLIENTS=6\n",
        "# Start simulation\n",
        "fl.simulation.start_simulation(\n",
        "    client_fn=client_fn,\n",
        "    num_clients=NUM_CLIENTS,\n",
        "    config=fl.server.ServerConfig(num_rounds=30),\n",
        "    strategy=strategy,\n",
        "    client_resources=client_resources,\n",
        ")"
      ]
    },
    {
      "cell_type": "markdown",
      "source": [
        "For the 6 clients and 30 rounds and 15 epochs per round for each client, the global accuracy sees an increase trend and also the accuracy within the local clients also increase. Basically the global accuracy is calculated after each round and the global model gets updated from updates from local models for each round. For each round, the clients also run 15 epochs each. When all of them complete 15 epochs each, 1 round is completed and global accuracy is calculated."
      ],
      "metadata": {
        "id": "ral3jtBGXcj_"
      }
    },
    {
      "cell_type": "code",
      "execution_count": null,
      "metadata": {
        "id": "apau0Nk5cP-J"
      },
      "outputs": [],
      "source": []
    },
    {
      "cell_type": "code",
      "execution_count": null,
      "metadata": {
        "id": "pur8bLGhcP-J"
      },
      "outputs": [],
      "source": []
    },
    {
      "cell_type": "markdown",
      "source": [
        "# **Centralized Machine Learning Setting Continued with 10 epochs and 32 batch size**\n",
        "\n",
        "Now for further comparison, we do central ML training with 10 epochs and 32 batch size as opposed to 5 epochs and 48 batch size shown at the start."
      ],
      "metadata": {
        "id": "mo4M2B7xW9Tn"
      }
    },
    {
      "cell_type": "code",
      "source": [
        "from google.colab import drive\n",
        "drive.mount('/content/drive')"
      ],
      "metadata": {
        "colab": {
          "base_uri": "https://localhost:8080/"
        },
        "id": "-vABrEj-eLVT",
        "outputId": "835d02f0-338a-439f-8d1f-ff2c0cf064b9"
      },
      "execution_count": 12,
      "outputs": [
        {
          "output_type": "stream",
          "name": "stdout",
          "text": [
            "Mounted at /content/drive\n"
          ]
        }
      ]
    },
    {
      "cell_type": "code",
      "source": [
        "import torch\n",
        "import torch.nn as nn\n",
        "import torch.optim as optim\n",
        "import torchvision.transforms as transforms\n",
        "import torchvision.datasets as datasets\n",
        "from torch.utils.data import DataLoader\n",
        "import torch.nn.functional as F\n",
        "from sklearn.metrics import classification_report, confusion_matrix\n",
        "import numpy as np\n",
        "import matplotlib.pyplot as plt\n",
        "\n",
        "# Define the paths to the overall training and testing datasets\n",
        "dataset_train_path = \"/content/drive/MyDrive/datasets/brain-tumour-dataset/Training\"\n",
        "dataset_test_path = \"/content/drive/MyDrive/datasets/brain-tumour-dataset/Testing\"\n",
        "\n",
        "# Define the neural network architecture\n",
        "class Net(nn.Module):\n",
        "    def __init__(self):\n",
        "        super(Net, self).__init__()\n",
        "        # Define convolutional layers\n",
        "        self.conv1 = nn.Conv2d(3, 16, 3, padding=1)\n",
        "        self.conv2 = nn.Conv2d(16, 32, 3, padding=1)\n",
        "        self.conv3 = nn.Conv2d(32, 64, 3, padding=1)\n",
        "        # Define pooling layer\n",
        "        self.pool = nn.MaxPool2d(2, 2)\n",
        "        # Define fully connected layers\n",
        "        self.fc1 = nn.Linear(64 * 28 * 28, 512)\n",
        "        self.fc2 = nn.Linear(512, 128)\n",
        "        self.fc3 = nn.Linear(128, 4)\n",
        "\n",
        "    def forward(self, x):\n",
        "        x = self.pool(F.relu(self.conv1(x)))\n",
        "        x = self.pool(F.relu(self.conv2(x)))\n",
        "        x = self.pool(F.relu(self.conv3(x)))\n",
        "        x = x.view(-1, 64 * 28 * 28)\n",
        "        x = F.relu(self.fc1(x))\n",
        "        x = F.relu(self.fc2(x))\n",
        "        x = self.fc3(x)\n",
        "        return x\n",
        "\n",
        "# Define transformations for the dataset\n",
        "transform = transforms.Compose([\n",
        "    transforms.Resize((224, 224)),\n",
        "    transforms.ToTensor(),\n",
        "])\n",
        "\n",
        "# Load the overall training and testing datasets\n",
        "train_dataset = datasets.ImageFolder(root=dataset_train_path, transform=transform)\n",
        "test_dataset = datasets.ImageFolder(root=dataset_test_path, transform=transform)\n",
        "\n",
        "# Define data loaders for training and testing datasets\n",
        "train_loader = DataLoader(train_dataset, batch_size=32, shuffle=True)\n",
        "test_loader = DataLoader(test_dataset, batch_size=32, shuffle=False)\n",
        "\n",
        "# Initialize model, loss function, and optimizer\n",
        "model = Net()\n",
        "criterion = nn.CrossEntropyLoss()\n",
        "optimizer = optim.Adam(model.parameters(), lr=0.001)\n",
        "\n",
        "# Lists to store metrics\n",
        "train_accuracies = []\n",
        "test_accuracies = []\n",
        "num_epochs = 10\n",
        "\n",
        "# Training and evaluation loop\n",
        "for epoch in range(num_epochs):\n",
        "    model.train()\n",
        "    correct_train = 0\n",
        "    total_train = 0\n",
        "    for images, labels in train_loader:\n",
        "        optimizer.zero_grad()\n",
        "        outputs = model(images)\n",
        "        loss = criterion(outputs, labels)\n",
        "        loss.backward()\n",
        "        optimizer.step()\n",
        "        _, predicted = torch.max(outputs.data, 1)\n",
        "        total_train += labels.size(0)\n",
        "        correct_train += (predicted == labels).sum().item()\n",
        "\n",
        "    train_accuracy = 100 * correct_train / total_train\n",
        "    train_accuracies.append(train_accuracy)\n",
        "\n",
        "    model.eval()\n",
        "    correct_test = 0\n",
        "    total_test = 0\n",
        "    all_true_labels = []\n",
        "    all_predicted_labels = []\n",
        "    with torch.no_grad():\n",
        "        for images, labels in test_loader:\n",
        "            outputs = model(images)\n",
        "            _, predicted = torch.max(outputs.data, 1)\n",
        "            total_test += labels.size(0)\n",
        "            correct_test += (predicted == labels).sum().item()\n",
        "            all_true_labels.extend(labels.numpy())\n",
        "            all_predicted_labels.extend(predicted.numpy())\n",
        "\n",
        "    test_accuracy = 100 * correct_test / total_test\n",
        "    test_accuracies.append(test_accuracy)\n",
        "\n",
        "    print(f\"Epoch {epoch+1}/{num_epochs}, Training Accuracy: {train_accuracy}%, Testing Accuracy: {test_accuracy}%\")\n",
        "\n",
        "# Generate classification report\n",
        "print(\"Classification Report:\")\n",
        "print(classification_report(all_true_labels, all_predicted_labels, target_names=test_dataset.classes))\n",
        "\n",
        "# Generate confusion matrix\n",
        "conf_matrix = confusion_matrix(all_true_labels, all_predicted_labels)\n",
        "plt.imshow(conf_matrix, cmap=\"Blues\", interpolation=\"nearest\")\n",
        "plt.title(\"Confusion Matrix\")\n",
        "plt.colorbar()\n",
        "plt.xlabel(\"Predicted Label\")\n",
        "plt.ylabel(\"True Label\")\n",
        "plt.xticks(np.arange(len(test_dataset.classes)), test_dataset.classes, rotation=45)\n",
        "plt.yticks(np.arange(len(test_dataset.classes)), test_dataset.classes)\n",
        "plt.show()\n",
        "\n",
        "# Plot training accuracy curve\n",
        "plt.plot(np.arange(1, num_epochs+1), train_accuracies, label=\"Training Accuracy\")\n",
        "plt.xlabel(\"Epochs\")\n",
        "plt.ylabel(\"Accuracy\")\n",
        "plt.title(\"Training Accuracy Curve\")\n",
        "plt.legend()\n",
        "plt.show()\n",
        "\n",
        "# Plot testing accuracy curve\n",
        "plt.plot(np.arange(1, num_epochs+1), test_accuracies, label=\"Testing Accuracy\")\n",
        "plt.xlabel(\"Epochs\")\n",
        "plt.ylabel(\"Accuracy\")\n",
        "plt.title(\"Testing Accuracy Curve\")\n",
        "plt.legend()\n",
        "plt.show()\n"
      ],
      "metadata": {
        "colab": {
          "base_uri": "https://localhost:8080/",
          "height": 1000
        },
        "id": "XedqNARGgKmK",
        "outputId": "4b755124-11ef-4697-848d-f64c7920f4c1"
      },
      "execution_count": 3,
      "outputs": [
        {
          "output_type": "stream",
          "name": "stdout",
          "text": [
            "Epoch 1/10, Training Accuracy: 61.86851211072664%, Testing Accuracy: 44.923857868020306%\n",
            "Epoch 2/10, Training Accuracy: 77.1280276816609%, Testing Accuracy: 51.52284263959391%\n",
            "Epoch 3/10, Training Accuracy: 85.67474048442907%, Testing Accuracy: 63.70558375634518%\n",
            "Epoch 4/10, Training Accuracy: 90.83044982698962%, Testing Accuracy: 71.57360406091371%\n",
            "Epoch 5/10, Training Accuracy: 94.01384083044982%, Testing Accuracy: 62.944162436548226%\n",
            "Epoch 6/10, Training Accuracy: 97.05882352941177%, Testing Accuracy: 75.88832487309645%\n",
            "Epoch 7/10, Training Accuracy: 98.37370242214533%, Testing Accuracy: 74.11167512690355%\n",
            "Epoch 8/10, Training Accuracy: 98.3044982698962%, Testing Accuracy: 74.8730964467005%\n",
            "Epoch 9/10, Training Accuracy: 98.68512110726644%, Testing Accuracy: 75.38071065989848%\n",
            "Epoch 10/10, Training Accuracy: 99.86159169550173%, Testing Accuracy: 72.58883248730965%\n",
            "Classification Report:\n",
            "                  precision    recall  f1-score   support\n",
            "\n",
            "    glioma_tumor       1.00      0.22      0.36       100\n",
            "meningioma_tumor       0.72      0.98      0.83       115\n",
            "        no_tumor       0.64      1.00      0.78       105\n",
            " pituitary_tumor       0.88      0.62      0.73        74\n",
            "\n",
            "        accuracy                           0.73       394\n",
            "       macro avg       0.81      0.71      0.68       394\n",
            "    weighted avg       0.80      0.73      0.68       394\n",
            "\n"
          ]
        },
        {
          "output_type": "display_data",
          "data": {
            "text/plain": [
              "<Figure size 640x480 with 2 Axes>"
            ],
            "image/png": "[encoded data removed]"
          },
          "metadata": {}
        },
        {
          "output_type": "display_data",
          "data": {
            "text/plain": [
              "<Figure size 640x480 with 1 Axes>"
            ],
            "image/png": "[encoded data removed]"
          },
          "metadata": {}
        },
        {
          "output_type": "display_data",
          "data": {
            "text/plain": [
              "<Figure size 640x480 with 1 Axes>"
            ],
            "image/png": "[encoded data removed]"
          },
          "metadata": {}
        }
      ]
    },
    {
      "cell_type": "code",
      "execution_count": null,
      "metadata": {
        "id": "g32bDsjFcP-M"
      },
      "outputs": [],
      "source": []
    }
  ],
  "metadata": {
    "accelerator": "GPU",
    "colab": {
      "gpuType": "T4",
      "provenance": []
    },
    "kernelspec": {
      "display_name": "Python 3 (ipykernel)",
      "language": "python",
      "name": "python3"
    },
    "language_info": {
      "codemirror_mode": {
        "name": "ipython",
        "version": 3
      },
      "file_extension": ".py",
      "mimetype": "text/x-python",
      "name": "python",
      "nbconvert_exporter": "python",
      "pygments_lexer": "ipython3",
      "version": "3.11.9"
    }
  },
  "nbformat": 4,
  "nbformat_minor": 0
}